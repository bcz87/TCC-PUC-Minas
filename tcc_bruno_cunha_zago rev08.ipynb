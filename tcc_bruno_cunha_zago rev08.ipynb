{
 "cells": [
  {
   "cell_type": "markdown",
   "id": "e5fcf991",
   "metadata": {},
   "source": [
    "# TCC Bruno Cunha Zago - Ciência de Dados e Big Data - PUC Minas"
   ]
  },
  {
   "cell_type": "markdown",
   "id": "edd2d28a",
   "metadata": {},
   "source": [
    "## Análise da relação entre obra de manutenção rodoviária e redução de acidentes no tráfego"
   ]
  },
  {
   "cell_type": "markdown",
   "id": "362c2c49",
   "metadata": {},
   "source": [
    "# Importando bibliotecas"
   ]
  },
  {
   "cell_type": "code",
   "execution_count": 1,
   "id": "0ed2115e",
   "metadata": {},
   "outputs": [],
   "source": [
    "#Carregamento de bibliotecas gerais\n",
    "import requests\n",
    "import zipfile\n",
    "import io\n",
    "import pandas as pd\n",
    "import xlrd\n",
    "import calendar\n",
    "import numpy as np\n",
    "import seaborn as sns\n",
    "import matplotlib.pyplot as plt\n",
    "import warnings\n",
    "from dateutil import rrule, parser\n",
    "from datetime import datetime\n",
    "from sklearn.model_selection import train_test_split, GridSearchCV, KFold, cross_val_score\n",
    "from sklearn.neighbors import KNeighborsClassifier\n",
    "from sklearn.preprocessing import StandardScaler, OneHotEncoder, LabelEncoder\n",
    "from sklearn.metrics import accuracy_score, precision_score, recall_score, f1_score, log_loss, confusion_matrix\n",
    "from sklearn.linear_model import SGDClassifier, LogisticRegression, LinearRegression\n",
    "from sklearn.ensemble import RandomForestClassifier, RandomForestRegressor\n",
    "from sklearn.svm import LinearSVC, SVC\n",
    "from sklearn.tree import DecisionTreeRegressor\n",
    "\n",
    "# Desativar FutureWarnings\n",
    "warnings.filterwarnings('ignore')"
   ]
  },
  {
   "cell_type": "markdown",
   "id": "1fe845ca",
   "metadata": {},
   "source": [
    "# 1 - Definição do Problema"
   ]
  },
  {
   "cell_type": "markdown",
   "id": "faaad88d",
   "metadata": {},
   "source": [
    "Rodovias são o principal meio de transporte de carga no brasil. Com isso, há muitos acidentes. "
   ]
  },
  {
   "cell_type": "markdown",
   "id": "be7683ed",
   "metadata": {},
   "source": [
    "# 2 - Coleta de Dados"
   ]
  },
  {
   "cell_type": "markdown",
   "id": "d488b3f6",
   "metadata": {},
   "source": [
    "Neste Trabalho foram utilizadas três fontes de dados, todas baseadas no período de observação entre os dias 01 de maio de 2022 e 30 de junho de 2022, são elas:\n",
    "\n",
    "Os dados da contagem volumétrica de radares radares da cidade de Belo Horizonte no período de observação;\n",
    "Base gerada com informações do tipo de dia (dia útil, sábado, domingo e feriado) para o mesmo período;\n",
    "Base gerada a partir de uma API de dados climáticos com o histórico do clima de todos os dias do período em questão.\n",
    "Os meses de maio e junho de 2022 foram escolhidos pois foram os meses do ano de 2022 que apresentaram maior homogeneidade e tamanhos de arquivos próximos."
   ]
  },
  {
   "cell_type": "markdown",
   "id": "a79ca1bb",
   "metadata": {},
   "source": [
    "# 2.1 - Base de Acidentes (tabela datatran)"
   ]
  },
  {
   "cell_type": "markdown",
   "id": "7ef082f6",
   "metadata": {},
   "source": [
    "# Baixando e extraindo\n",
    "extract_path = r\"C:\\Users\\bcz87\" #caminho de extração\n",
    "urls = [\n",
    "    \"https://drive.google.com/u/0/uc?id=1PRQjuV5gOn_nn6UNvaJyVURDIfbSAK4-&export=download\",\n",
    "    \"https://drive.google.com/u/0/uc?id=12xH8LX9aN2gObR766YN3cMcuycwyCJDz&export=download\",\n",
    "    \"https://drive.google.com/u/0/uc?id=1esu6IiH5TVTxFoedv6DBGDd01Gvi8785&export=download\",\n",
    "    \"https://drive.google.com/u/0/uc?id=1pN3fn2wY34GH6cY-gKfbxRJJBFE0lb_l&export=download\",\n",
    "    \"https://drive.google.com/u/0/uc?id=1cM4IgGMIiR-u4gBIH5IEe3DcvBvUzedi&export=download\",\n",
    "    \"https://drive.google.com/u/0/uc?id=1HPLWt5f_l4RIX3tKjI4tUXyZOev52W0N&export=download\",\n",
    "    \"https://drive.google.com/u/0/uc?id=16qooQl_ySoW61CrtsBbreBVNPYlEkoYm&export=download\",\n",
    "    \"https://drive.google.com/u/0/uc?id=1DyqR5FFcwGsamSag-fGm13feQt0Y-3Da&export=download\",\n",
    "    \"https://drive.google.com/u/0/uc?id=1FpF5wTBsRDkEhLm3z2g8XDiXr9SO9Uk8&export=download\",\n",
    "    \"https://drive.google.com/u/0/uc?id=1p_7lw9RzkINfscYAZSmc-Z9Ci4ZPJyEr&export=download\",\n",
    "    \"https://drive.google.com/u/0/uc?id=18Yz2prqKSLthrMmW-73vrOiDmKTCL6xE&export=download\",\n",
    "    \"https://drive.google.com/u/0/uc?id=1HHhgLF-kSR6Gde2qOaTXL3T5ieD33hpG&export=download\",\n",
    "    \"https://drive.google.com/u/0/uc?id=1_yU6FRh8M7USjiChQwyF20NtY48GTmEX&export=download\",\n",
    "    \"https://drive.google.com/u/0/uc?id=1qkVatg0pC_zosuBs0NCSgEXDJvBbnTYC&export=download\",\n",
    "    \"https://drive.google.com/u/0/uc?id=1_OSeHlyKJw8cIhMS_JzSg1RlYX8k6vSG&export=download\",\n",
    "    \"https://drive.google.com/u/0/uc?id=1EFpZF5F6cB0DOHd2Uxnj7X948WE69a8e&export=download\"\n",
    "]\n",
    "file_names = [\n",
    "    \"datatran2022.zip\",\n",
    "    \"datatran2021.zip\",\n",
    "    \"datatran2020.zip\",\n",
    "    \"datatran2019.zip\",\n",
    "    \"datatran2018.zip\",\n",
    "    \"datatran2017.zip\",\n",
    "    \"datatran2016.zip\",\n",
    "    \"datatran2015.zip\",\n",
    "    \"datatran2014.zip\",\n",
    "    \"datatran2013.zip\",\n",
    "    \"datatran2012.zip\",\n",
    "    \"datatran2011.zip\",\n",
    "    \"datatran2010.zip\",\n",
    "    \"datatran2009.zip\",\n",
    "    \"datatran2008.zip\",\n",
    "    \"datatran2007.zip\"\n",
    "]\n",
    "\n",
    "for url, file_name in zip(urls, file_names):\n",
    "    response = requests.get(url)\n",
    "    open(file_name, \"wb\").write(response.content)\n",
    "    \n",
    "    with zipfile.ZipFile(file_name, 'r') as zip_ref:\n",
    "        zip_ref.extractall(extract_path)"
   ]
  },
  {
   "cell_type": "code",
   "execution_count": 2,
   "id": "902d106d",
   "metadata": {},
   "outputs": [
    {
     "name": "stdout",
     "output_type": "stream",
     "text": [
      "         id data_inversa dia_semana   horario  uf     br     km  \\\n",
      "0  405151.0   2022-01-01     sábado  01:35:00  PI  316.0  415.0   \n",
      "1  405158.0   2022-01-01     sábado  02:40:00  PR  116.0   33.0   \n",
      "2  405172.0   2022-01-01     sábado  05:22:00  MS  163.0  393.0   \n",
      "3  405203.0   2022-01-01     sábado  07:00:00  RJ  101.0  457.0   \n",
      "4  405207.0   2022-01-01     sábado  09:00:00  MG   40.0  508.3   \n",
      "\n",
      "               municipio                                     causa_acidente  \\\n",
      "0            MARCOLANDIA                   Ingestão de álcool pelo condutor   \n",
      "1  CAMPINA GRANDE DO SUL                   Ingestão de álcool pelo condutor   \n",
      "2   NOVA ALVORADA DO SUL  Condutor deixou de manter distância do veículo...   \n",
      "3         ANGRA DOS REIS           Reação tardia ou ineficiente do condutor   \n",
      "4     RIBEIRAO DAS NEVES                  Acumulo de água sobre o pavimento   \n",
      "\n",
      "               tipo_acidente  ... ilesos ignorados feridos veiculos  \\\n",
      "0           Colisão traseira  ...      1         0       1        2   \n",
      "1                 Tombamento  ...      0         0       1        1   \n",
      "2           Colisão traseira  ...      1         0       1        2   \n",
      "3            Colisão frontal  ...      1         0       1        2   \n",
      "4  Saída de leito carroçável  ...      3         0       0        1   \n",
      "\n",
      "    latitude  longitude regional  delegacia             uop  ano  \n",
      "0    -7.4328 -40.682619  SPRF-PI   DEL04-PI  UOP03-DEL04-PI  NaN  \n",
      "1 -25.114403 -48.846755  SPRF-PR   DEL01-PR  UOP02-DEL01-PR  NaN  \n",
      "2 -21.228445 -54.456296  SPRF-MS   DEL02-MS  UOP01-DEL02-MS  NaN  \n",
      "3 -23.031498 -44.177153  SPRF-RJ   DEL03-RJ  UOP02-DEL03-RJ  NaN  \n",
      "4 -19.760612 -44.134754  SPRF-MG   DEL02-MG  UOP01-DEL02-MG  NaN  \n",
      "\n",
      "[5 rows x 31 columns]\n"
     ]
    }
   ],
   "source": [
    "# Carregando arquivo\n",
    "# Lista com o nome dos arquivos\n",
    "file_names = ['datatran2022.csv', 'datatran2021.csv', 'datatran2020.csv', 'datatran2019.csv',\n",
    "              'datatran2018.csv', 'datatran2017.csv', 'datatran2016.csv', 'datatran2015.csv',\n",
    "              'datatran2014.csv', 'datatran2013.csv', 'datatran2012.csv', 'datatran2011.csv',\n",
    "              'datatran2010.csv', 'datatran2009.csv', 'datatran2008.csv', 'datatran2007.csv']\n",
    "\n",
    "# Caminho dos arquivos\n",
    "path = r\"C:\\\\Users\\\\bcz87\\\\\"\n",
    "\n",
    "# Lista para armazenar os dataframes\n",
    "dfs = []\n",
    "\n",
    "# Loop para ler cada arquivo e armazená-lo na lista dfs\n",
    "for file in file_names:\n",
    "    df = pd.read_csv(path + file, sep=';', decimal=',', encoding = 'cp1252', low_memory=False)\n",
    "    dfs.append(df)\n",
    "\n",
    "# Concatenação dos dataframes na mesma tabela\n",
    "datatran = pd.concat(dfs, ignore_index=True)\n",
    "\n",
    "print(datatran.head())"
   ]
  },
  {
   "cell_type": "code",
   "execution_count": 3,
   "id": "946db607",
   "metadata": {},
   "outputs": [
    {
     "name": "stdout",
     "output_type": "stream",
     "text": [
      "<class 'pandas.core.frame.DataFrame'>\n",
      "RangeIndex: 1981217 entries, 0 to 1981216\n",
      "Data columns (total 31 columns):\n",
      " #   Column                  Dtype  \n",
      "---  ------                  -----  \n",
      " 0   id                      float64\n",
      " 1   data_inversa            object \n",
      " 2   dia_semana              object \n",
      " 3   horario                 object \n",
      " 4   uf                      object \n",
      " 5   br                      object \n",
      " 6   km                      object \n",
      " 7   municipio               object \n",
      " 8   causa_acidente          object \n",
      " 9   tipo_acidente           object \n",
      " 10  classificacao_acidente  object \n",
      " 11  fase_dia                object \n",
      " 12  sentido_via             object \n",
      " 13  condicao_metereologica  object \n",
      " 14  tipo_pista              object \n",
      " 15  tracado_via             object \n",
      " 16  uso_solo                object \n",
      " 17  pessoas                 int64  \n",
      " 18  mortos                  int64  \n",
      " 19  feridos_leves           int64  \n",
      " 20  feridos_graves          int64  \n",
      " 21  ilesos                  int64  \n",
      " 22  ignorados               int64  \n",
      " 23  feridos                 int64  \n",
      " 24  veiculos                int64  \n",
      " 25  latitude                object \n",
      " 26  longitude               object \n",
      " 27  regional                object \n",
      " 28  delegacia               object \n",
      " 29  uop                     object \n",
      " 30  ano                     float64\n",
      "dtypes: float64(2), int64(8), object(21)\n",
      "memory usage: 468.6+ MB\n"
     ]
    }
   ],
   "source": [
    "datatran.info()"
   ]
  },
  {
   "cell_type": "code",
   "execution_count": 4,
   "id": "ea58f577",
   "metadata": {},
   "outputs": [],
   "source": [
    "# Convertendo a coluna br para números decimais\n",
    "datatran['br'] = pd.to_numeric(datatran['br'], errors='coerce')\n",
    "\n",
    "# Retirando linhas que contêm valores NaN da coluna br\n",
    "datatran = datatran.dropna(subset=['br'])\n",
    "\n",
    "# Convertendo a coluna br para números inteiros\n",
    "datatran['br'] = datatran['br'].astype(int)\n",
    "\n",
    "# Convertendo a coluna km para números decimais\n",
    "datatran['km'] = pd.to_numeric(datatran['km'], errors='coerce')\n",
    "\n",
    "# Retirando linhas que contêm valores NaN da coluna km\n",
    "datatran = datatran.dropna(subset=['km'])\n",
    "\n",
    "# converter a coluna 'data_inversa' para o tipo datetime\n",
    "datatran['data_inversa'] = pd.to_datetime(datatran['data_inversa'])"
   ]
  },
  {
   "cell_type": "code",
   "execution_count": 5,
   "id": "6f6d70dc",
   "metadata": {
    "scrolled": false
   },
   "outputs": [
    {
     "name": "stdout",
     "output_type": "stream",
     "text": [
      "<class 'pandas.core.frame.DataFrame'>\n",
      "Int64Index: 1980323 entries, 0 to 1981216\n",
      "Data columns (total 31 columns):\n",
      " #   Column                  Dtype         \n",
      "---  ------                  -----         \n",
      " 0   id                      float64       \n",
      " 1   data_inversa            datetime64[ns]\n",
      " 2   dia_semana              object        \n",
      " 3   horario                 object        \n",
      " 4   uf                      object        \n",
      " 5   br                      int32         \n",
      " 6   km                      float64       \n",
      " 7   municipio               object        \n",
      " 8   causa_acidente          object        \n",
      " 9   tipo_acidente           object        \n",
      " 10  classificacao_acidente  object        \n",
      " 11  fase_dia                object        \n",
      " 12  sentido_via             object        \n",
      " 13  condicao_metereologica  object        \n",
      " 14  tipo_pista              object        \n",
      " 15  tracado_via             object        \n",
      " 16  uso_solo                object        \n",
      " 17  pessoas                 int64         \n",
      " 18  mortos                  int64         \n",
      " 19  feridos_leves           int64         \n",
      " 20  feridos_graves          int64         \n",
      " 21  ilesos                  int64         \n",
      " 22  ignorados               int64         \n",
      " 23  feridos                 int64         \n",
      " 24  veiculos                int64         \n",
      " 25  latitude                object        \n",
      " 26  longitude               object        \n",
      " 27  regional                object        \n",
      " 28  delegacia               object        \n",
      " 29  uop                     object        \n",
      " 30  ano                     float64       \n",
      "dtypes: datetime64[ns](1), float64(3), int32(1), int64(8), object(18)\n",
      "memory usage: 475.9+ MB\n"
     ]
    }
   ],
   "source": [
    "datatran.info()"
   ]
  },
  {
   "cell_type": "code",
   "execution_count": 6,
   "id": "ec9e13f7",
   "metadata": {},
   "outputs": [
    {
     "name": "stdout",
     "output_type": "stream",
     "text": [
      "              id data_inversa     dia_semana   horario  uf   br     km  \\\n",
      "129133  261177.0   2020-01-06  segunda-feira  08:20:00  GO  153  369.1   \n",
      "129276  261915.0   2020-01-10    sexta-feira  10:50:00  PA  155  270.0   \n",
      "129300  262021.0   2020-01-11         sábado  00:30:00  SE  101  148.7   \n",
      "129326  262143.0   2020-01-11         sábado  13:00:00  MA  226  567.6   \n",
      "129596  263391.0   2020-01-17    sexta-feira  07:10:00  GO  153  366.1   \n",
      "\n",
      "                  municipio  causa_acidente              tipo_acidente  ...  \\\n",
      "129133              JARAGUA  Defeito na Via            Colisão frontal  ...   \n",
      "129276  ELDORADO DO CARAJAS  Defeito na Via           Colisão traseira  ...   \n",
      "129300             ESTANCIA  Defeito na Via                 Tombamento  ...   \n",
      "129326         PORTO FRANCO  Defeito na Via            Colisão lateral  ...   \n",
      "129596              JARAGUA  Defeito na Via  Saída de leito carroçável  ...   \n",
      "\n",
      "       ilesos ignorados feridos veiculos      latitude     longitude regional  \\\n",
      "129133      3         0       4        5  -15.83090246   -49.2791748  SPRF-GO   \n",
      "129276      2         0       0        2   -6.09701984  -49.34280753  SPRF-PA   \n",
      "129300      0         0       1        1  -11.23753745  -37.42982984  SPRF-SE   \n",
      "129326      1         0       0        2   -6.32865709  -47.35318891  SPRF-MA   \n",
      "129596      0         0       1        1    -15.799685    -49.300167  SPRF-GO   \n",
      "\n",
      "        delegacia             uop  ano  \n",
      "129133   DEL02-GO  UOP02-DEL02-GO  NaN  \n",
      "129276   DEL03-PA  UOP01-DEL03-PA  NaN  \n",
      "129300   DEL02-SE  UOP01-DEL02-SE  NaN  \n",
      "129326   DEL04-MA  UOP02-DEL04-MA  NaN  \n",
      "129596   DEL02-GO  UOP02-DEL02-GO  NaN  \n",
      "\n",
      "[5 rows x 31 columns]\n"
     ]
    }
   ],
   "source": [
    "datatran = datatran[datatran['causa_acidente'] == 'Defeito na Via']\n",
    "\n",
    "print(datatran.head())"
   ]
  },
  {
   "cell_type": "code",
   "execution_count": 7,
   "id": "8c5e5057",
   "metadata": {},
   "outputs": [
    {
     "name": "stdout",
     "output_type": "stream",
     "text": [
      "              id data_inversa     dia_semana   horario  uf   br     km  \\\n",
      "129133  261177.0   2020-01-06  segunda-feira  08:20:00  GO  153  369.1   \n",
      "129276  261915.0   2020-01-10    sexta-feira  10:50:00  PA  155  270.0   \n",
      "129300  262021.0   2020-01-11         sábado  00:30:00  SE  101  148.7   \n",
      "129326  262143.0   2020-01-11         sábado  13:00:00  MA  226  567.6   \n",
      "129596  263391.0   2020-01-17    sexta-feira  07:10:00  GO  153  366.1   \n",
      "\n",
      "                  municipio  causa_acidente              tipo_acidente  ...  \\\n",
      "129133              JARAGUA  Defeito na Via            Colisão frontal  ...   \n",
      "129276  ELDORADO DO CARAJAS  Defeito na Via           Colisão traseira  ...   \n",
      "129300             ESTANCIA  Defeito na Via                 Tombamento  ...   \n",
      "129326         PORTO FRANCO  Defeito na Via            Colisão lateral  ...   \n",
      "129596              JARAGUA  Defeito na Via  Saída de leito carroçável  ...   \n",
      "\n",
      "       ignorados feridos veiculos      latitude     longitude regional  \\\n",
      "129133         0       4        5  -15.83090246   -49.2791748  SPRF-GO   \n",
      "129276         0       0        2   -6.09701984  -49.34280753  SPRF-PA   \n",
      "129300         0       1        1  -11.23753745  -37.42982984  SPRF-SE   \n",
      "129326         0       0        2   -6.32865709  -47.35318891  SPRF-MA   \n",
      "129596         0       1        1    -15.799685    -49.300167  SPRF-GO   \n",
      "\n",
      "       delegacia             uop  ano  mes_ano  \n",
      "129133  DEL02-GO  UOP02-DEL02-GO  NaN  01/2020  \n",
      "129276  DEL03-PA  UOP01-DEL03-PA  NaN  01/2020  \n",
      "129300  DEL02-SE  UOP01-DEL02-SE  NaN  01/2020  \n",
      "129326  DEL04-MA  UOP02-DEL04-MA  NaN  01/2020  \n",
      "129596  DEL02-GO  UOP02-DEL02-GO  NaN  01/2020  \n",
      "\n",
      "[5 rows x 32 columns]\n"
     ]
    }
   ],
   "source": [
    "# Definindo períodos mensais\n",
    "datatran['mes_ano'] = datatran['data_inversa'].dt.strftime('%m/%Y')\n",
    "\n",
    "print(datatran.head())"
   ]
  },
  {
   "cell_type": "markdown",
   "id": "b60fcc1b",
   "metadata": {},
   "source": [
    "# Salvando o arquivo concatenado em .csv\n",
    "datatran.to_csv(r\"C:\\Users\\bcz87\\datatran.csv\", index=False, sep=';', decimal=',', encoding = 'cp1252')"
   ]
  },
  {
   "cell_type": "markdown",
   "id": "50261675",
   "metadata": {},
   "source": [
    "## 2.2 - Base do SNV (tabela snv)"
   ]
  },
  {
   "cell_type": "markdown",
   "id": "c5f386fb",
   "metadata": {},
   "source": [
    "url = \"https://servicos.dnit.gov.br/dnitcloud/index.php/s/TYqwT6cQ2b7Tq5Q/download\"\n",
    "file_name = \"pub_202301B.zip\"\n",
    "\n",
    "r = requests.get(url)\n",
    "z = zipfile.ZipFile(io.BytesIO(r.content))\n",
    "z.extractall()"
   ]
  },
  {
   "cell_type": "code",
   "execution_count": 8,
   "id": "979702db",
   "metadata": {},
   "outputs": [
    {
     "name": "stdout",
     "output_type": "stream",
     "text": [
      "   BR UF   Tipo de trecho Desc Coinc      Código  \\\n",
      "0  10  DF  Eixo Principal          -  010BDF0010   \n",
      "1  10  DF  Eixo Principal          -  010BDF0015   \n",
      "2  10  DF  Eixo Principal          -  010BDF0016   \n",
      "3  10  DF  Eixo Principal          -  010BDF0018   \n",
      "4  10  DF  Eixo Principal          -  010BDF0020   \n",
      "\n",
      "                               Local de Início          Local de Fim  \\\n",
      "0  ENTR BR-020(A)/030(A)/450/DF-001 (BRASÍLIA)           ENTR DF-440   \n",
      "1                                  ENTR DF-440   ACESSO I SOBRADINHO   \n",
      "2                          ACESSO I SOBRADINHO  ACESSO II SOBRADINHO   \n",
      "3                         ACESSO II SOBRADINHO           ENTR DF-230   \n",
      "4                                  ENTR DF-230           ENTR DF-128   \n",
      "\n",
      "   km inicial  km final  Extensão Superfície Federal Obras  \\\n",
      "0         0.0       2.4       2.4                DUP   NaN   \n",
      "1         2.4       6.0       3.6                DUP   NaN   \n",
      "2         6.0       8.3       2.3                DUP   NaN   \n",
      "3         8.3      18.2       9.9                DUP   NaN   \n",
      "4        18.2      22.0       3.8                DUP   NaN   \n",
      "\n",
      "                Federal Coincidente                  Administração  Ato legal  \\\n",
      "0  010BDF0010;020BDF0010;030BDF0010  Convênio Adm.Federal/Estadual        NaN   \n",
      "1  010BDF0015;020BDF0015;030BDF0015  Convênio Adm.Federal/Estadual        NaN   \n",
      "2  010BDF0016;020BDF0016;030BDF0016  Convênio Adm.Federal/Estadual        NaN   \n",
      "3  010BDF0018;020BDF0018;030BDF0018  Convênio Adm.Federal/Estadual        NaN   \n",
      "4  010BDF0020;020BDF0020;030BDF0020  Convênio Adm.Federal/Estadual        NaN   \n",
      "\n",
      "  Estadual Coincidente Superfície Est. Coincidente Jurisdição Superfície  \\\n",
      "0                  NaN                         NaN    Federal        PAV   \n",
      "1                  NaN                         NaN    Federal        PAV   \n",
      "2                  NaN                         NaN    Federal        PAV   \n",
      "3                  NaN                         NaN    Federal        PAV   \n",
      "4                  NaN                         NaN    Federal        PAV   \n",
      "\n",
      "  Unidade Local  \n",
      "0      Brasília  \n",
      "1      Brasília  \n",
      "2      Brasília  \n",
      "3      Brasília  \n",
      "4      Brasília  \n"
     ]
    }
   ],
   "source": [
    "arquivo = \"C:\\\\Users\\\\bcz87\\\\pub_202301B\\\\SNV_202301B.xls\"\n",
    "snv = pd.read_excel(arquivo, skiprows=[0, 1])\n",
    "\n",
    "print(snv.head())"
   ]
  },
  {
   "cell_type": "code",
   "execution_count": 9,
   "id": "70bb61a3",
   "metadata": {},
   "outputs": [
    {
     "name": "stdout",
     "output_type": "stream",
     "text": [
      "BR                               int64\n",
      "UF                              object\n",
      "Tipo de trecho                  object\n",
      "Desc Coinc                      object\n",
      "Código                          object\n",
      "Local de Início                 object\n",
      "Local de Fim                    object\n",
      "km inicial                     float64\n",
      "km final                       float64\n",
      "Extensão                       float64\n",
      "Superfície Federal              object\n",
      "Obras                           object\n",
      "Federal Coincidente             object\n",
      "Administração                   object\n",
      "Ato legal                      float64\n",
      "Estadual Coincidente            object\n",
      "Superfície Est. Coincidente     object\n",
      "Jurisdição                      object\n",
      "Superfície                      object\n",
      "Unidade Local                   object\n",
      "dtype: object\n"
     ]
    }
   ],
   "source": [
    "print(snv.dtypes)"
   ]
  },
  {
   "cell_type": "code",
   "execution_count": 10,
   "id": "ad0199cc",
   "metadata": {},
   "outputs": [],
   "source": [
    "snv = snv.rename(columns={\"BR\": \"br\", \"UF \": \"uf\", \"km inicial\": \"km_inicial\", \"km final\": \"km_final\", \"Código\": \"codigo\", \"Extensão\": \"extensao\"})"
   ]
  },
  {
   "cell_type": "code",
   "execution_count": 11,
   "id": "94ced8a2",
   "metadata": {},
   "outputs": [
    {
     "name": "stdout",
     "output_type": "stream",
     "text": [
      "['Eixo Principal' 'Acesso' 'Contorno' 'Travessia Urbana' 'Variante' 'Anel']\n"
     ]
    }
   ],
   "source": [
    "print(snv['Tipo de trecho'].unique())"
   ]
  },
  {
   "cell_type": "code",
   "execution_count": 12,
   "id": "b802d737",
   "metadata": {},
   "outputs": [],
   "source": [
    "snv = snv[snv[\"Tipo de trecho\"] == \"Eixo Principal\"]"
   ]
  },
  {
   "cell_type": "markdown",
   "id": "ae0405f4",
   "metadata": {},
   "source": [
    "# Salvar o resultado em um novo arquivo CSV\n",
    "snv.to_csv('snv.csv', index=False, sep=';', decimal=',', encoding = 'cp1252')"
   ]
  },
  {
   "cell_type": "markdown",
   "id": "11877026",
   "metadata": {},
   "source": [
    "## 2.3 - Base de Obra (tabela obra)"
   ]
  },
  {
   "cell_type": "code",
   "execution_count": 13,
   "id": "2119541d",
   "metadata": {},
   "outputs": [
    {
     "name": "stdout",
     "output_type": "stream",
     "text": [
      "   obra  uf  data_inicio  data_fim   br  km_inicial  km_final\n",
      "0  G002  MG        42186     43719  267        62.0      98.7\n",
      "1  G003  MG        42359     44260  458        97.2     147.2\n",
      "2  G004  MG        42359     44183   50        65.5      77.0\n",
      "3  G005  MG        42403     44221  262         0.0      72.2\n",
      "4  G006  MG        42403     42909  452        58.4      91.8\n"
     ]
    }
   ],
   "source": [
    "# Baixando e extraindo\n",
    "file_path = r'C:\\Users\\bcz87\\contrato.csv'\n",
    "obra = pd.read_csv(file_path, sep=';', decimal=',')\n",
    "\n",
    "print(obra.head())"
   ]
  },
  {
   "cell_type": "code",
   "execution_count": 14,
   "id": "594f7ec5",
   "metadata": {},
   "outputs": [
    {
     "name": "stdout",
     "output_type": "stream",
     "text": [
      "obra            object\n",
      "uf              object\n",
      "data_inicio      int64\n",
      "data_fim         int64\n",
      "br               int64\n",
      "km_inicial     float64\n",
      "km_final       float64\n",
      "dtype: object\n"
     ]
    }
   ],
   "source": [
    "print(obra.dtypes)"
   ]
  },
  {
   "cell_type": "code",
   "execution_count": 15,
   "id": "6b2d4a8f",
   "metadata": {},
   "outputs": [],
   "source": [
    "# converter as colunas 'data_inicio' e 'data_fim' para o formato de data do Python\n",
    "obra['data_inicio'] = obra['data_inicio'].apply(lambda x: xlrd.xldate_as_datetime(x, 0))\n",
    "obra['data_fim'] = obra['data_fim'].apply(lambda x: xlrd.xldate_as_datetime(x, 0))"
   ]
  },
  {
   "cell_type": "code",
   "execution_count": 16,
   "id": "866d46b9",
   "metadata": {},
   "outputs": [
    {
     "name": "stdout",
     "output_type": "stream",
     "text": [
      "obra                   object\n",
      "uf                     object\n",
      "data_inicio    datetime64[ns]\n",
      "data_fim       datetime64[ns]\n",
      "br                      int64\n",
      "km_inicial            float64\n",
      "km_final              float64\n",
      "dtype: object\n"
     ]
    }
   ],
   "source": [
    "print(obra.dtypes)"
   ]
  },
  {
   "cell_type": "code",
   "execution_count": 17,
   "id": "155a8d71",
   "metadata": {},
   "outputs": [
    {
     "name": "stdout",
     "output_type": "stream",
     "text": [
      "   obra  uf data_inicio   data_fim   br  km_inicial  km_final  extensao\n",
      "0  G002  MG  2015-07-01 2019-09-11  267        62.0      98.7      36.7\n",
      "1  G003  MG  2015-12-21 2021-03-05  458        97.2     147.2      50.0\n",
      "2  G004  MG  2015-12-21 2020-12-18   50        65.5      77.0      11.5\n",
      "3  G005  MG  2016-02-03 2021-01-25  262         0.0      72.2      72.2\n",
      "4  G006  MG  2016-02-03 2017-06-23  452        58.4      91.8      33.4\n"
     ]
    }
   ],
   "source": [
    "obra['extensao'] = obra['km_final'] - obra['km_inicial']\n",
    "\n",
    "print(obra.head())"
   ]
  },
  {
   "cell_type": "markdown",
   "id": "b8bbfc2c",
   "metadata": {},
   "source": [
    "# Salvar o resultado em um novo arquivo CSV\n",
    "obra.to_csv('obra.csv', index=False, sep=';', decimal=',', encoding = 'cp1252')"
   ]
  },
  {
   "cell_type": "markdown",
   "id": "7ebe7235",
   "metadata": {},
   "source": [
    "## 3 - Processamento/Tratamento de Dados"
   ]
  },
  {
   "cell_type": "markdown",
   "id": "09c2079a",
   "metadata": {},
   "source": [
    "## 3.1 - Unindo as tabelas (tabela datatran_snv_obra)"
   ]
  },
  {
   "cell_type": "markdown",
   "id": "2f0eae69",
   "metadata": {},
   "source": [
    "## 3.1.1 - Incluir coluna index em datatran"
   ]
  },
  {
   "cell_type": "code",
   "execution_count": 18,
   "id": "15e1e54d",
   "metadata": {},
   "outputs": [
    {
     "name": "stdout",
     "output_type": "stream",
     "text": [
      "    index        id data_inversa     dia_semana   horario  uf   br     km  \\\n",
      "0  129133  261177.0   2020-01-06  segunda-feira  08:20:00  GO  153  369.1   \n",
      "1  129276  261915.0   2020-01-10    sexta-feira  10:50:00  PA  155  270.0   \n",
      "2  129300  262021.0   2020-01-11         sábado  00:30:00  SE  101  148.7   \n",
      "3  129326  262143.0   2020-01-11         sábado  13:00:00  MA  226  567.6   \n",
      "4  129596  263391.0   2020-01-17    sexta-feira  07:10:00  GO  153  366.1   \n",
      "\n",
      "             municipio  causa_acidente  ... ignorados feridos veiculos  \\\n",
      "0              JARAGUA  Defeito na Via  ...         0       4        5   \n",
      "1  ELDORADO DO CARAJAS  Defeito na Via  ...         0       0        2   \n",
      "2             ESTANCIA  Defeito na Via  ...         0       1        1   \n",
      "3         PORTO FRANCO  Defeito na Via  ...         0       0        2   \n",
      "4              JARAGUA  Defeito na Via  ...         0       1        1   \n",
      "\n",
      "       latitude     longitude regional delegacia             uop  ano  mes_ano  \n",
      "0  -15.83090246   -49.2791748  SPRF-GO  DEL02-GO  UOP02-DEL02-GO  NaN  01/2020  \n",
      "1   -6.09701984  -49.34280753  SPRF-PA  DEL03-PA  UOP01-DEL03-PA  NaN  01/2020  \n",
      "2  -11.23753745  -37.42982984  SPRF-SE  DEL02-SE  UOP01-DEL02-SE  NaN  01/2020  \n",
      "3   -6.32865709  -47.35318891  SPRF-MA  DEL04-MA  UOP02-DEL04-MA  NaN  01/2020  \n",
      "4    -15.799685    -49.300167  SPRF-GO  DEL02-GO  UOP02-DEL02-GO  NaN  01/2020  \n",
      "\n",
      "[5 rows x 33 columns]\n"
     ]
    }
   ],
   "source": [
    "datatran_snv_obra = datatran.copy()\n",
    "\n",
    "# criar coluna index\n",
    "datatran_snv_obra = datatran_snv_obra.reset_index()\n",
    "\n",
    "# Exibir as primeiras linhas da tabela datatran com a coluna \"obra\" adicionada\n",
    "print(datatran_snv_obra.head())"
   ]
  },
  {
   "cell_type": "markdown",
   "id": "57f90dac",
   "metadata": {},
   "source": [
    "## 3.1.2 - Incluir coluna codigo em datatran"
   ]
  },
  {
   "cell_type": "code",
   "execution_count": 19,
   "id": "8b4f52dd",
   "metadata": {},
   "outputs": [
    {
     "name": "stdout",
     "output_type": "stream",
     "text": [
      "    index        id data_inversa     dia_semana   horario  uf   br     km  \\\n",
      "0  129133  261177.0   2020-01-06  segunda-feira  08:20:00  GO  153  369.1   \n",
      "1  129276  261915.0   2020-01-10    sexta-feira  10:50:00  PA  155  270.0   \n",
      "2  129300  262021.0   2020-01-11         sábado  00:30:00  SE  101  148.7   \n",
      "3  129326  262143.0   2020-01-11         sábado  13:00:00  MA  226  567.6   \n",
      "4  129596  263391.0   2020-01-17    sexta-feira  07:10:00  GO  153  366.1   \n",
      "\n",
      "             municipio  causa_acidente  ... feridos veiculos      latitude  \\\n",
      "0              JARAGUA  Defeito na Via  ...       4        5  -15.83090246   \n",
      "1  ELDORADO DO CARAJAS  Defeito na Via  ...       0        2   -6.09701984   \n",
      "2             ESTANCIA  Defeito na Via  ...       1        1  -11.23753745   \n",
      "3         PORTO FRANCO  Defeito na Via  ...       0        2   -6.32865709   \n",
      "4              JARAGUA  Defeito na Via  ...       1        1    -15.799685   \n",
      "\n",
      "      longitude regional delegacia             uop ano  mes_ano      codigo  \n",
      "0   -49.2791748  SPRF-GO  DEL02-GO  UOP02-DEL02-GO NaN  01/2020  153BGO0510  \n",
      "1  -49.34280753  SPRF-PA  DEL03-PA  UOP01-DEL03-PA NaN  01/2020  155BPA0200  \n",
      "2  -37.42982984  SPRF-SE  DEL02-SE  UOP01-DEL02-SE NaN  01/2020  101BSE1305  \n",
      "3  -47.35318891  SPRF-MA  DEL04-MA  UOP02-DEL04-MA NaN  01/2020  226BMA0910  \n",
      "4    -49.300167  SPRF-GO  DEL02-GO  UOP02-DEL02-GO NaN  01/2020  153BGO0510  \n",
      "\n",
      "[5 rows x 34 columns]\n"
     ]
    }
   ],
   "source": [
    "# Merge das tabelas datatran e obra\n",
    "merged = pd.merge(datatran_snv_obra, snv, on=['uf', 'br'])\n",
    "merged = merged[(merged['km'] >= merged['km_inicial']) & (merged['km'] < merged['km_final'])]\n",
    "\n",
    "# Selecionar apenas as colunas \"index\" e \"obra\" da tabela merged\n",
    "merged = merged[[\"index\", \"codigo\"]]\n",
    "\n",
    "# Mesclar as tabelas usando a coluna de índice como chave de junção\n",
    "datatran_snv_obra = pd.merge(datatran_snv_obra, merged, on=\"index\", how=\"left\")\n",
    "\n",
    "# Exibir as primeiras linhas da tabela datatran com a coluna \"obra\" adicionada\n",
    "print(datatran_snv_obra.head())"
   ]
  },
  {
   "cell_type": "markdown",
   "id": "19294ed6",
   "metadata": {},
   "source": [
    "## 3.1.3 - Incluir coluna obra em datatran"
   ]
  },
  {
   "cell_type": "code",
   "execution_count": 20,
   "id": "84c02cfe",
   "metadata": {},
   "outputs": [
    {
     "name": "stdout",
     "output_type": "stream",
     "text": [
      "    index        id data_inversa     dia_semana   horario  uf   br     km  \\\n",
      "0  129133  261177.0   2020-01-06  segunda-feira  08:20:00  GO  153  369.1   \n",
      "1  129276  261915.0   2020-01-10    sexta-feira  10:50:00  PA  155  270.0   \n",
      "2  129300  262021.0   2020-01-11         sábado  00:30:00  SE  101  148.7   \n",
      "3  129326  262143.0   2020-01-11         sábado  13:00:00  MA  226  567.6   \n",
      "4  129596  263391.0   2020-01-17    sexta-feira  07:10:00  GO  153  366.1   \n",
      "\n",
      "             municipio  causa_acidente  ... veiculos      latitude  \\\n",
      "0              JARAGUA  Defeito na Via  ...        5  -15.83090246   \n",
      "1  ELDORADO DO CARAJAS  Defeito na Via  ...        2   -6.09701984   \n",
      "2             ESTANCIA  Defeito na Via  ...        1  -11.23753745   \n",
      "3         PORTO FRANCO  Defeito na Via  ...        2   -6.32865709   \n",
      "4              JARAGUA  Defeito na Via  ...        1    -15.799685   \n",
      "\n",
      "      longitude regional delegacia             uop ano  mes_ano      codigo  \\\n",
      "0   -49.2791748  SPRF-GO  DEL02-GO  UOP02-DEL02-GO NaN  01/2020  153BGO0510   \n",
      "1  -49.34280753  SPRF-PA  DEL03-PA  UOP01-DEL03-PA NaN  01/2020  155BPA0200   \n",
      "2  -37.42982984  SPRF-SE  DEL02-SE  UOP01-DEL02-SE NaN  01/2020  101BSE1305   \n",
      "3  -47.35318891  SPRF-MA  DEL04-MA  UOP02-DEL04-MA NaN  01/2020  226BMA0910   \n",
      "4    -49.300167  SPRF-GO  DEL02-GO  UOP02-DEL02-GO NaN  01/2020  153BGO0510   \n",
      "\n",
      "   obra  \n",
      "0   NaN  \n",
      "1   NaN  \n",
      "2   NaN  \n",
      "3   NaN  \n",
      "4   NaN  \n",
      "\n",
      "[5 rows x 35 columns]\n"
     ]
    }
   ],
   "source": [
    "# Merge das tabelas datatran e obra\n",
    "merged = pd.merge(datatran_snv_obra, obra, on=['uf', 'br'])\n",
    "merged = merged[(merged['data_inversa'] >= merged['data_inicio']) & (merged['data_inversa'] <= merged['data_fim']) & (merged['km'] >= merged['km_inicial']) & (merged['km'] <= merged['km_final'])]\n",
    "\n",
    "# Selecionar apenas as colunas \"index\" e \"obra\" da tabela merged\n",
    "merged = merged[[\"index\", \"obra\"]]\n",
    "\n",
    "# Mesclar as tabelas usando a coluna de índice como chave de junção\n",
    "datatran_snv_obra = pd.merge(datatran_snv_obra, merged, on=\"index\", how=\"left\")\n",
    "\n",
    "# Exibir as primeiras linhas da tabela datatran com a coluna \"obra\" adicionada\n",
    "print(datatran_snv_obra.head())"
   ]
  },
  {
   "cell_type": "markdown",
   "id": "521510ed",
   "metadata": {},
   "source": [
    "# Salvar o resultado em um novo arquivo CSV\n",
    "datatran_snv_obra.to_csv('datatran_snv_obra.csv', index=False, sep=';', decimal=',', encoding = 'cp1252')"
   ]
  },
  {
   "cell_type": "markdown",
   "id": "bd987f54",
   "metadata": {},
   "source": [
    "## 3.2 - Criação de tabelas"
   ]
  },
  {
   "cell_type": "markdown",
   "id": "91210a30",
   "metadata": {},
   "source": [
    "## 3.2.1 - Tabela de Acidentes por SNV (acidente_snv)"
   ]
  },
  {
   "cell_type": "code",
   "execution_count": 21,
   "id": "138da9fa",
   "metadata": {},
   "outputs": [
    {
     "name": "stdout",
     "output_type": "stream",
     "text": [
      "       codigo  mes_ano\n",
      "0  010BDF0010  01/2007\n",
      "1  010BDF0010  02/2007\n",
      "2  010BDF0010  03/2007\n",
      "3  010BDF0010  04/2007\n",
      "4  010BDF0010  05/2007\n"
     ]
    }
   ],
   "source": [
    "# Lista de códigos únicos da coluna \"código\" da tabela snv\n",
    "codigos_unicos = snv['codigo'].unique()\n",
    "\n",
    "# Lista de todas as datas no intervalo de janeiro de 2007 até dezembro de 2022\n",
    "datas = pd.date_range(start='01/01/2007', end='12/31/2022', freq='M').strftime('%m/%Y').tolist()\n",
    "\n",
    "# Cria uma nova tabela com as colunas \"Código\" e \"mes_ano\"\n",
    "acidente_snv = pd.DataFrame({'codigo': np.repeat(codigos_unicos, len(datas)),\n",
    "                             'mes_ano': np.tile(datas, len(codigos_unicos))})\n",
    "\n",
    "# Reset o índice da tabela resultante\n",
    "acidente_snv = acidente_snv.reset_index(drop=True)\n",
    "\n",
    "print(acidente_snv.head())"
   ]
  },
  {
   "cell_type": "code",
   "execution_count": 22,
   "id": "e3a5f26f",
   "metadata": {},
   "outputs": [
    {
     "name": "stdout",
     "output_type": "stream",
     "text": [
      "       codigo  mes_ano  br  uf  Tipo de trecho Desc Coinc  \\\n",
      "0  010BDF0010  01/2007  10  DF  Eixo Principal          -   \n",
      "1  010BDF0010  02/2007  10  DF  Eixo Principal          -   \n",
      "2  010BDF0010  03/2007  10  DF  Eixo Principal          -   \n",
      "3  010BDF0010  04/2007  10  DF  Eixo Principal          -   \n",
      "4  010BDF0010  05/2007  10  DF  Eixo Principal          -   \n",
      "\n",
      "                               Local de Início Local de Fim  km_inicial  \\\n",
      "0  ENTR BR-020(A)/030(A)/450/DF-001 (BRASÍLIA)  ENTR DF-440         0.0   \n",
      "1  ENTR BR-020(A)/030(A)/450/DF-001 (BRASÍLIA)  ENTR DF-440         0.0   \n",
      "2  ENTR BR-020(A)/030(A)/450/DF-001 (BRASÍLIA)  ENTR DF-440         0.0   \n",
      "3  ENTR BR-020(A)/030(A)/450/DF-001 (BRASÍLIA)  ENTR DF-440         0.0   \n",
      "4  ENTR BR-020(A)/030(A)/450/DF-001 (BRASÍLIA)  ENTR DF-440         0.0   \n",
      "\n",
      "   km_final  ...  Superfície Federal Obras               Federal Coincidente  \\\n",
      "0       2.4  ...                 DUP   NaN  010BDF0010;020BDF0010;030BDF0010   \n",
      "1       2.4  ...                 DUP   NaN  010BDF0010;020BDF0010;030BDF0010   \n",
      "2       2.4  ...                 DUP   NaN  010BDF0010;020BDF0010;030BDF0010   \n",
      "3       2.4  ...                 DUP   NaN  010BDF0010;020BDF0010;030BDF0010   \n",
      "4       2.4  ...                 DUP   NaN  010BDF0010;020BDF0010;030BDF0010   \n",
      "\n",
      "                   Administração Ato legal  Estadual Coincidente  \\\n",
      "0  Convênio Adm.Federal/Estadual       NaN                   NaN   \n",
      "1  Convênio Adm.Federal/Estadual       NaN                   NaN   \n",
      "2  Convênio Adm.Federal/Estadual       NaN                   NaN   \n",
      "3  Convênio Adm.Federal/Estadual       NaN                   NaN   \n",
      "4  Convênio Adm.Federal/Estadual       NaN                   NaN   \n",
      "\n",
      "  Superfície Est. Coincidente Jurisdição Superfície Unidade Local  \n",
      "0                         NaN    Federal        PAV      Brasília  \n",
      "1                         NaN    Federal        PAV      Brasília  \n",
      "2                         NaN    Federal        PAV      Brasília  \n",
      "3                         NaN    Federal        PAV      Brasília  \n",
      "4                         NaN    Federal        PAV      Brasília  \n",
      "\n",
      "[5 rows x 21 columns]\n"
     ]
    }
   ],
   "source": [
    "acidente_snv = pd.merge(acidente_snv, snv, on='codigo', how='left')\n",
    "\n",
    "print(acidente_snv.head())"
   ]
  },
  {
   "cell_type": "code",
   "execution_count": 23,
   "id": "d17a3007",
   "metadata": {},
   "outputs": [
    {
     "name": "stdout",
     "output_type": "stream",
     "text": [
      "       codigo  mes_ano  br  uf  km_inicial  km_final  extensao\n",
      "0  010BDF0010  01/2007  10  DF         0.0       2.4       2.4\n",
      "1  010BDF0010  02/2007  10  DF         0.0       2.4       2.4\n",
      "2  010BDF0010  03/2007  10  DF         0.0       2.4       2.4\n",
      "3  010BDF0010  04/2007  10  DF         0.0       2.4       2.4\n",
      "4  010BDF0010  05/2007  10  DF         0.0       2.4       2.4\n"
     ]
    }
   ],
   "source": [
    "acidente_snv = acidente_snv.drop([\"Tipo de trecho\", \"Desc Coinc\", \"Local de Início\", \"Local de Fim\", \"Superfície Federal\", \"Obras\", \"Federal Coincidente\", \"Administração\", \"Ato legal\", \"Estadual Coincidente\", \"Superfície Est. Coincidente\", \"Jurisdição\", \"Superfície\", \"Unidade Local\"], axis=1)\n",
    "\n",
    "print(acidente_snv.head())"
   ]
  },
  {
   "cell_type": "code",
   "execution_count": 24,
   "id": "6960623b",
   "metadata": {},
   "outputs": [
    {
     "name": "stdout",
     "output_type": "stream",
     "text": [
      "       codigo  mes_ano  br  uf  km_inicial  km_final  extensao  num_acidente\n",
      "0  010BDF0010  01/2007  10  DF         0.0       2.4       2.4           NaN\n",
      "1  010BDF0010  02/2007  10  DF         0.0       2.4       2.4           NaN\n",
      "2  010BDF0010  03/2007  10  DF         0.0       2.4       2.4           NaN\n",
      "3  010BDF0010  04/2007  10  DF         0.0       2.4       2.4           NaN\n",
      "4  010BDF0010  05/2007  10  DF         0.0       2.4       2.4           NaN\n",
      "\n",
      "\n",
      "<class 'pandas.core.frame.DataFrame'>\n",
      "Int64Index: 1341504 entries, 0 to 1341503\n",
      "Data columns (total 8 columns):\n",
      " #   Column        Non-Null Count    Dtype  \n",
      "---  ------        --------------    -----  \n",
      " 0   codigo        1341504 non-null  object \n",
      " 1   mes_ano       1341504 non-null  object \n",
      " 2   br            1341504 non-null  int64  \n",
      " 3   uf            1341504 non-null  object \n",
      " 4   km_inicial    1341504 non-null  float64\n",
      " 5   km_final      1341504 non-null  float64\n",
      " 6   extensao      1341504 non-null  float64\n",
      " 7   num_acidente  3874 non-null     float64\n",
      "dtypes: float64(4), int64(1), object(3)\n",
      "memory usage: 92.1+ MB\n",
      "None\n",
      "\n",
      "Proporção de valores nulos na coluna 'num_acidente':\n",
      "0.9971121964600925\n"
     ]
    }
   ],
   "source": [
    "# Etapa 1 - Groupby na tabela datatran_snv_obra pelas colunas codigo e mes_ano\n",
    "datatran_grouped = datatran_snv_obra.groupby(['codigo', 'mes_ano']).count().reset_index()[['codigo', 'mes_ano', 'index']]\n",
    "datatran_grouped.rename(columns={'index': 'num_acidente'}, inplace=True)\n",
    "\n",
    "# Etapa 2 - Merge entre datatran_grouped e acidente_snv pelas colunas codigo e mes_ano\n",
    "acidente_snv = pd.merge(acidente_snv, datatran_grouped, on=['codigo', 'mes_ano'], how='left')\n",
    "\n",
    "print(acidente_snv.head())\n",
    "print(\"\\n\")\n",
    "print(acidente_snv.info())\n",
    "\n",
    "# Calcular a proporção de valores nulos na coluna \"num_acidente\"\n",
    "print(\"\\nProporção de valores nulos na coluna 'num_acidente':\")\n",
    "print(acidente_snv['num_acidente'].isnull().mean())"
   ]
  },
  {
   "cell_type": "markdown",
   "id": "d37f4ba4",
   "metadata": {},
   "source": [
    "acidente_snv['num_acidente'].fillna(0, inplace=True)\n",
    "\n",
    "print(acidente_snv.head())"
   ]
  },
  {
   "cell_type": "code",
   "execution_count": 25,
   "id": "77ae6a34",
   "metadata": {},
   "outputs": [
    {
     "name": "stdout",
     "output_type": "stream",
     "text": [
      "          codigo  mes_ano  br  uf  km_inicial  km_final  extensao  \\\n",
      "4766  010BMA0370  03/2020  10  MA        34.0     128.8      94.8   \n",
      "4772  010BMA0370  09/2020  10  MA        34.0     128.8      94.8   \n",
      "4920  010BMA0390  01/2017  10  MA       128.8     156.4      27.6   \n",
      "4921  010BMA0390  02/2017  10  MA       128.8     156.4      27.6   \n",
      "4922  010BMA0390  03/2017  10  MA       128.8     156.4      27.6   \n",
      "\n",
      "      num_acidente  \n",
      "4766           1.0  \n",
      "4772           1.0  \n",
      "4920           1.0  \n",
      "4921           2.0  \n",
      "4922           3.0  \n"
     ]
    }
   ],
   "source": [
    "acidente_snv = acidente_snv.dropna(subset=[\"num_acidente\"])\n",
    "\n",
    "print(acidente_snv.head())"
   ]
  },
  {
   "cell_type": "code",
   "execution_count": 26,
   "id": "0267848d",
   "metadata": {},
   "outputs": [
    {
     "name": "stdout",
     "output_type": "stream",
     "text": [
      "          codigo    mes_ano  br  uf  km_inicial  km_final  extensao  \\\n",
      "4766  010BMA0370 2020-03-01  10  MA        34.0     128.8      94.8   \n",
      "4772  010BMA0370 2020-09-01  10  MA        34.0     128.8      94.8   \n",
      "4920  010BMA0390 2017-01-01  10  MA       128.8     156.4      27.6   \n",
      "4921  010BMA0390 2017-02-01  10  MA       128.8     156.4      27.6   \n",
      "4922  010BMA0390 2017-03-01  10  MA       128.8     156.4      27.6   \n",
      "\n",
      "      num_acidente  mes   ano  \n",
      "4766           1.0    3  2020  \n",
      "4772           1.0    9  2020  \n",
      "4920           1.0    1  2017  \n",
      "4921           2.0    2  2017  \n",
      "4922           3.0    3  2017  \n"
     ]
    }
   ],
   "source": [
    "acidente_snv['mes_ano'] = pd.to_datetime(acidente_snv['mes_ano'], format='%m/%Y')\n",
    "acidente_snv['mes'] = acidente_snv['mes_ano'].dt.month\n",
    "acidente_snv['ano'] = acidente_snv['mes_ano'].dt.year\n",
    "\n",
    "print(acidente_snv.head())"
   ]
  },
  {
   "cell_type": "markdown",
   "id": "e113a65f",
   "metadata": {
    "scrolled": true
   },
   "source": [
    "# Salvar o resultado em um novo arquivo CSV\n",
    "acidente_snv.to_csv('acidente_snv.csv', index=False, sep=';', decimal=',', encoding = 'cp1252')"
   ]
  },
  {
   "cell_type": "markdown",
   "id": "6d4605f5",
   "metadata": {},
   "source": [
    "## 3.2.2 - Tabela de Acidentes por Obra (acidente_obra)"
   ]
  },
  {
   "cell_type": "code",
   "execution_count": 27,
   "id": "dfc0fd3d",
   "metadata": {},
   "outputs": [
    {
     "name": "stdout",
     "output_type": "stream",
     "text": [
      "   obra  mes_ano\n",
      "0  G002  07/2015\n",
      "1  G002  08/2015\n",
      "2  G002  09/2015\n",
      "3  G002  10/2015\n",
      "4  G002  11/2015\n"
     ]
    }
   ],
   "source": [
    "# Baixando e extraindo\n",
    "file_path = r'C:\\Users\\bcz87\\obra_mes_ano.csv'\n",
    "acidente_obra = pd.read_csv(file_path, sep=';', decimal=',')\n",
    "\n",
    "print(acidente_obra.head())"
   ]
  },
  {
   "cell_type": "code",
   "execution_count": 28,
   "id": "e0473952",
   "metadata": {},
   "outputs": [
    {
     "name": "stdout",
     "output_type": "stream",
     "text": [
      "obra       object\n",
      "mes_ano    object\n",
      "dtype: object\n"
     ]
    }
   ],
   "source": [
    "print(acidente_obra.dtypes)"
   ]
  },
  {
   "cell_type": "code",
   "execution_count": 29,
   "id": "23d40b75",
   "metadata": {},
   "outputs": [
    {
     "name": "stdout",
     "output_type": "stream",
     "text": [
      "   obra  mes_ano  uf data_inicio   data_fim   br  km_inicial  km_final  \\\n",
      "0  G002  07/2015  MG  2015-07-01 2019-09-11  267        62.0      98.7   \n",
      "1  G002  08/2015  MG  2015-07-01 2019-09-11  267        62.0      98.7   \n",
      "2  G002  09/2015  MG  2015-07-01 2019-09-11  267        62.0      98.7   \n",
      "3  G002  10/2015  MG  2015-07-01 2019-09-11  267        62.0      98.7   \n",
      "4  G002  11/2015  MG  2015-07-01 2019-09-11  267        62.0      98.7   \n",
      "\n",
      "   extensao  \n",
      "0      36.7  \n",
      "1      36.7  \n",
      "2      36.7  \n",
      "3      36.7  \n",
      "4      36.7  \n"
     ]
    }
   ],
   "source": [
    "acidente_obra = pd.merge(acidente_obra, obra, on='obra', how='left')\n",
    "\n",
    "print(acidente_obra.head())"
   ]
  },
  {
   "cell_type": "code",
   "execution_count": 30,
   "id": "7763d7f6",
   "metadata": {},
   "outputs": [
    {
     "name": "stdout",
     "output_type": "stream",
     "text": [
      "   obra  mes_ano  uf   br  km_inicial  km_final  extensao\n",
      "0  G002  07/2015  MG  267        62.0      98.7      36.7\n",
      "1  G002  08/2015  MG  267        62.0      98.7      36.7\n",
      "2  G002  09/2015  MG  267        62.0      98.7      36.7\n",
      "3  G002  10/2015  MG  267        62.0      98.7      36.7\n",
      "4  G002  11/2015  MG  267        62.0      98.7      36.7\n"
     ]
    }
   ],
   "source": [
    "acidente_obra = acidente_obra.drop([\"data_inicio\", \"data_fim\"], axis=1)\n",
    "\n",
    "print(acidente_obra.head())"
   ]
  },
  {
   "cell_type": "code",
   "execution_count": 31,
   "id": "7340a08b",
   "metadata": {},
   "outputs": [
    {
     "name": "stdout",
     "output_type": "stream",
     "text": [
      "   obra  mes_ano  uf   br  km_inicial  km_final  extensao  num_acidente\n",
      "0  G002  07/2015  MG  267        62.0      98.7      36.7           NaN\n",
      "1  G002  08/2015  MG  267        62.0      98.7      36.7           NaN\n",
      "2  G002  09/2015  MG  267        62.0      98.7      36.7           NaN\n",
      "3  G002  10/2015  MG  267        62.0      98.7      36.7           NaN\n",
      "4  G002  11/2015  MG  267        62.0      98.7      36.7           NaN\n",
      "\n",
      "\n",
      "<class 'pandas.core.frame.DataFrame'>\n",
      "Int64Index: 2692 entries, 0 to 2691\n",
      "Data columns (total 8 columns):\n",
      " #   Column        Non-Null Count  Dtype  \n",
      "---  ------        --------------  -----  \n",
      " 0   obra          2692 non-null   object \n",
      " 1   mes_ano       2692 non-null   object \n",
      " 2   uf            2692 non-null   object \n",
      " 3   br            2692 non-null   int64  \n",
      " 4   km_inicial    2692 non-null   float64\n",
      " 5   km_final      2692 non-null   float64\n",
      " 6   extensao      2692 non-null   float64\n",
      " 7   num_acidente  35 non-null     float64\n",
      "dtypes: float64(4), int64(1), object(3)\n",
      "memory usage: 189.3+ KB\n",
      "None\n",
      "\n",
      "Proporção de valores nulos na coluna 'num_acidente':\n",
      "0.986998514115899\n"
     ]
    }
   ],
   "source": [
    "# Etapa 1 - Groupby na tabela datatran_snv_obra pelas colunas codigo e mes_ano\n",
    "datatran_grouped = datatran_snv_obra.groupby(['obra', 'mes_ano']).count().reset_index()[['obra', 'mes_ano', 'index']]\n",
    "datatran_grouped.rename(columns={'index': 'num_acidente'}, inplace=True)\n",
    "\n",
    "# Etapa 2 - Merge entre datatran_grouped e acidente_snv pelas colunas codigo e mes_ano\n",
    "acidente_obra = pd.merge(acidente_obra, datatran_grouped, on=['obra', 'mes_ano'], how='left')\n",
    "\n",
    "print(acidente_obra.head())\n",
    "print(\"\\n\")\n",
    "print(acidente_obra.info())\n",
    "\n",
    "# Calcular a proporção de valores nulos na coluna \"num_acidente\"\n",
    "print(\"\\nProporção de valores nulos na coluna 'num_acidente':\")\n",
    "print(acidente_obra['num_acidente'].isnull().mean())"
   ]
  },
  {
   "cell_type": "code",
   "execution_count": 32,
   "id": "a218313a",
   "metadata": {},
   "outputs": [
    {
     "name": "stdout",
     "output_type": "stream",
     "text": [
      "     obra  mes_ano  uf   br  km_inicial  km_final  extensao  num_acidente\n",
      "32   G002  03/2018  MG  267        62.0      98.7      36.7           2.0\n",
      "36   G002  07/2018  MG  267        62.0      98.7      36.7           1.0\n",
      "131  G004  04/2017  MG   50        65.5      77.0      11.5           1.0\n",
      "162  G004  11/2019  MG   50        65.5      77.0      11.5           1.0\n",
      "163  G004  12/2019  MG   50        65.5      77.0      11.5           1.0\n"
     ]
    }
   ],
   "source": [
    "acidente_obra = acidente_obra.dropna(subset=[\"num_acidente\"])\n",
    "\n",
    "print(acidente_obra.head())"
   ]
  },
  {
   "cell_type": "code",
   "execution_count": 33,
   "id": "c7111cb0",
   "metadata": {},
   "outputs": [
    {
     "name": "stdout",
     "output_type": "stream",
     "text": [
      "     obra    mes_ano  uf   br  km_inicial  km_final  extensao  num_acidente  \\\n",
      "32   G002 2018-03-01  MG  267        62.0      98.7      36.7           2.0   \n",
      "36   G002 2018-07-01  MG  267        62.0      98.7      36.7           1.0   \n",
      "131  G004 2017-04-01  MG   50        65.5      77.0      11.5           1.0   \n",
      "162  G004 2019-11-01  MG   50        65.5      77.0      11.5           1.0   \n",
      "163  G004 2019-12-01  MG   50        65.5      77.0      11.5           1.0   \n",
      "\n",
      "     mes   ano  \n",
      "32     3  2018  \n",
      "36     7  2018  \n",
      "131    4  2017  \n",
      "162   11  2019  \n",
      "163   12  2019  \n"
     ]
    }
   ],
   "source": [
    "acidente_obra['mes_ano'] = pd.to_datetime(acidente_obra['mes_ano'], format='%m/%Y')\n",
    "acidente_obra['mes'] = acidente_obra['mes_ano'].dt.month\n",
    "acidente_obra['ano'] = acidente_obra['mes_ano'].dt.year\n",
    "\n",
    "print(acidente_obra.head())"
   ]
  },
  {
   "cell_type": "markdown",
   "id": "be71356b",
   "metadata": {},
   "source": [
    "# Salvar o resultado em um novo arquivo CSV\n",
    "acidente_obra.to_csv('acidente_obra.csv', index=False, sep=';', decimal=',', encoding = 'cp1252')"
   ]
  },
  {
   "cell_type": "markdown",
   "id": "968458db",
   "metadata": {},
   "source": [
    "## 4.0 - Análise e Exploração dos Dados"
   ]
  },
  {
   "cell_type": "code",
   "execution_count": null,
   "id": "36c92fb3",
   "metadata": {},
   "outputs": [],
   "source": []
  },
  {
   "cell_type": "markdown",
   "id": "edfbfcfc",
   "metadata": {},
   "source": [
    "## 5.0 - Criação, treinamento, aplicação e avaliação de Modelos de Machine Learning"
   ]
  },
  {
   "cell_type": "markdown",
   "id": "fee2d2de",
   "metadata": {},
   "source": [
    "## 5.1 - Etapas Iniciais"
   ]
  },
  {
   "cell_type": "code",
   "execution_count": 34,
   "id": "f6d68af3",
   "metadata": {},
   "outputs": [],
   "source": [
    "# Selecionando y e X\n",
    "y = acidente_snv['num_acidente']\n",
    "X = acidente_snv[['mes', 'ano', 'br', 'uf', 'km_inicial', 'km_final', 'extensao']]"
   ]
  },
  {
   "cell_type": "code",
   "execution_count": 35,
   "id": "263b244f",
   "metadata": {},
   "outputs": [],
   "source": [
    "# OneHotEncoder\n",
    "# Codificar as colunas \"UF\" usando OneHotEncoder\n",
    "enc = OneHotEncoder(sparse=False, handle_unknown='ignore')\n",
    "X_enc = enc.fit_transform(X[['uf']])\n",
    "\n",
    "# Obter as categorias codificadas\n",
    "uf_categories = enc.categories_[0]\n",
    "\n",
    "# Criar dataframes para as colunas codificadas\n",
    "uf_encoded = pd.DataFrame(X_enc[:, :len(uf_categories)], index=X.index, columns=[f'uf_{category}' for category in uf_categories])\n",
    "\n",
    "# Combinar as colunas codificadas com as outras variáveis independentes\n",
    "X = pd.concat([X.drop(columns=['uf']), uf_encoded], axis=1)"
   ]
  },
  {
   "cell_type": "code",
   "execution_count": 36,
   "id": "fad418f3",
   "metadata": {},
   "outputs": [],
   "source": [
    "# StandardScaler\n",
    "scaler = StandardScaler()\n",
    "X = scaler.fit_transform(X)"
   ]
  },
  {
   "cell_type": "code",
   "execution_count": 37,
   "id": "9b31070d",
   "metadata": {},
   "outputs": [],
   "source": [
    "# Model Selection - Splitter Functions\n",
    "X_train, X_test, y_train, y_test = train_test_split(X, y, test_size=0.03, train_size=0.07, random_state=42)"
   ]
  },
  {
   "cell_type": "markdown",
   "id": "eb1e9b68",
   "metadata": {},
   "source": [
    "## 5.2 - Modelos"
   ]
  },
  {
   "cell_type": "markdown",
   "id": "4541baae",
   "metadata": {},
   "source": [
    "## 5.2.1 - KNN"
   ]
  },
  {
   "cell_type": "code",
   "execution_count": 38,
   "id": "ac3a454b",
   "metadata": {},
   "outputs": [
    {
     "name": "stdout",
     "output_type": "stream",
     "text": [
      "Melhores hiperparâmetros: {'algorithm': 'auto', 'metric': 'cityblock', 'n_neighbors': 5, 'p': 1, 'weights': 'uniform'}\n"
     ]
    }
   ],
   "source": [
    "# Grid Search\n",
    "# Definir os valores dos hiperparâmetros a serem testados\n",
    "param_grid = {\n",
    "    'n_neighbors': [1, 3, 5, 7, 9],\n",
    "    'weights': ['uniform', 'distance'],\n",
    "    'algorithm' : ['auto', 'ball_tree', 'kd_tree', 'brute'],\n",
    "    'p' : [1, 2],\n",
    "    'metric' : ['cityblock', 'minkowski', 'euclidean']\n",
    "    }\n",
    "\n",
    "# Criar um objeto GridSearchCV com os valores dos hiperparâmetros a serem testados\n",
    "grid = GridSearchCV(KNeighborsClassifier(), param_grid)\n",
    "\n",
    "# Treinar o modelo com o conjunto de treinamento\n",
    "grid.fit(X_train, y_train)\n",
    "\n",
    "# Imprimir os melhores hiperparâmetros encontrados\n",
    "print(\"Melhores hiperparâmetros:\", grid.best_params_)"
   ]
  },
  {
   "cell_type": "code",
   "execution_count": 39,
   "id": "7c037ee9",
   "metadata": {},
   "outputs": [
    {
     "name": "stdout",
     "output_type": "stream",
     "text": [
      "Acurácia: 86.32%\n",
      "Precisão: 75.91%\n",
      "Recall: 86.32%\n",
      "F1 Score: 80.78%\n"
     ]
    }
   ],
   "source": [
    "# Treinar o modelo\n",
    "clf = KNeighborsClassifier(algorithm='auto', metric='minkowski', n_neighbors=5, p=2, weights='uniform')\n",
    "clf.fit(X_train, y_train)\n",
    "\n",
    "# Fazer previsões com o conjunto de teste\n",
    "y_pred = clf.predict(X_test)\n",
    "\n",
    "# Avaliar o desempenho do modelo\n",
    "print(\"Acurácia: {:.2f}%\".format(accuracy_score(y_test, y_pred)*100))\n",
    "print(\"Precisão: {:.2f}%\".format(precision_score(y_test, y_pred, average='weighted')*100))\n",
    "print(\"Recall: {:.2f}%\".format(recall_score(y_test, y_pred, average='weighted')*100))\n",
    "print(\"F1 Score: {:.2f}%\".format(f1_score(y_test, y_pred, average='weighted')*100))"
   ]
  },
  {
   "cell_type": "code",
   "execution_count": 40,
   "id": "e3f0e8a1",
   "metadata": {},
   "outputs": [
    {
     "data": {
      "image/png": "[encoded data removed]",
      "text/plain": [
       "<Figure size 400x300 with 2 Axes>"
      ]
     },
     "metadata": {},
     "output_type": "display_data"
    }
   ],
   "source": [
    "# Calcular a matriz de confusão\n",
    "cm = confusion_matrix(y_test, y_pred)\n",
    "\n",
    "# Criar um gráfico de matriz de confusão\n",
    "plt.figure(figsize=(4, 3))\n",
    "sns.heatmap(cm, annot=True, cmap='Blues', fmt='g')\n",
    "plt.xlabel('Predito')\n",
    "plt.ylabel('Real')\n",
    "plt.title('Matriz de Confusão')\n",
    "plt.show()"
   ]
  },
  {
   "cell_type": "code",
   "execution_count": 41,
   "id": "b517e41a",
   "metadata": {},
   "outputs": [
    {
     "data": {
      "text/html": [
       "<div>\n",
       "<style scoped>\n",
       "    .dataframe tbody tr th:only-of-type {\n",
       "        vertical-align: middle;\n",
       "    }\n",
       "\n",
       "    .dataframe tbody tr th {\n",
       "        vertical-align: top;\n",
       "    }\n",
       "\n",
       "    .dataframe thead th {\n",
       "        text-align: right;\n",
       "    }\n",
       "</style>\n",
       "<table border=\"1\" class=\"dataframe\">\n",
       "  <thead>\n",
       "    <tr style=\"text-align: right;\">\n",
       "      <th></th>\n",
       "      <th>resultados_knn</th>\n",
       "    </tr>\n",
       "  </thead>\n",
       "  <tbody>\n",
       "    <tr>\n",
       "      <th>count</th>\n",
       "      <td>5.000000</td>\n",
       "    </tr>\n",
       "    <tr>\n",
       "      <th>mean</th>\n",
       "      <td>0.880589</td>\n",
       "    </tr>\n",
       "    <tr>\n",
       "      <th>std</th>\n",
       "      <td>0.001339</td>\n",
       "    </tr>\n",
       "    <tr>\n",
       "      <th>min</th>\n",
       "      <td>0.878932</td>\n",
       "    </tr>\n",
       "    <tr>\n",
       "      <th>25%</th>\n",
       "      <td>0.879969</td>\n",
       "    </tr>\n",
       "    <tr>\n",
       "      <th>50%</th>\n",
       "      <td>0.880495</td>\n",
       "    </tr>\n",
       "    <tr>\n",
       "      <th>75%</th>\n",
       "      <td>0.880995</td>\n",
       "    </tr>\n",
       "    <tr>\n",
       "      <th>max</th>\n",
       "      <td>0.882555</td>\n",
       "    </tr>\n",
       "  </tbody>\n",
       "</table>\n",
       "</div>"
      ],
      "text/plain": [
       "       resultados_knn\n",
       "count        5.000000\n",
       "mean         0.880589\n",
       "std          0.001339\n",
       "min          0.878932\n",
       "25%          0.879969\n",
       "50%          0.880495\n",
       "75%          0.880995\n",
       "max          0.882555"
      ]
     },
     "execution_count": 41,
     "metadata": {},
     "output_type": "execute_result"
    }
   ],
   "source": [
    "# KFold + cross-validation score\n",
    "resultados_knn_clf = []\n",
    "for i in range (5):\n",
    "    kfold = KFold(n_splits=10, shuffle=True, random_state=i)\n",
    "    score = cross_val_score(clf, X, y, cv = kfold)\n",
    "    resultados_knn_clf.append(score.mean())\n",
    "\n",
    "df_resultados_knn_clf = pd.DataFrame(resultados_knn_clf,columns=['resultados_knn'])\n",
    "df_resultados_knn_clf.describe()"
   ]
  },
  {
   "cell_type": "markdown",
   "id": "35929e2d",
   "metadata": {},
   "source": [
    "## 5.2.2 - SVM"
   ]
  },
  {
   "cell_type": "code",
   "execution_count": 42,
   "id": "13f884ce",
   "metadata": {},
   "outputs": [
    {
     "name": "stdout",
     "output_type": "stream",
     "text": [
      "Melhores hiperparâmetros: {'C': 2.5, 'kernel': 'rbf', 'random_state': 1, 'tol': 0.1}\n"
     ]
    }
   ],
   "source": [
    "# Grid Search\n",
    "# Definir os valores dos hiperparâmetros a serem testados\n",
    "param_grid = {\n",
    "    'tol': [0.1, 0.01, 0.001, 0.0001, 0.00001],\n",
    "    'C' : [2.5, 3.0, 3.5, 4.0, 4.5, 5.0],\n",
    "    'random_state' : [1, 2, 3, 4, 5, 6],\n",
    "    'kernel' : ['linear', 'poly', 'rbf', 'sigmoid']\n",
    "    }\n",
    "\n",
    "# Criar um objeto GridSearchCV com os valores dos hiperparâmetros a serem testados\n",
    "grid = GridSearchCV(SVC(), param_grid)\n",
    "\n",
    "# Treinar o modelo com o conjunto de treinamento\n",
    "grid.fit(X_train, y_train)\n",
    "\n",
    "# Imprimir os melhores hiperparâmetros encontrados\n",
    "print(\"Melhores hiperparâmetros:\", grid.best_params_)"
   ]
  },
  {
   "cell_type": "code",
   "execution_count": 43,
   "id": "46a9d9cc",
   "metadata": {},
   "outputs": [
    {
     "name": "stdout",
     "output_type": "stream",
     "text": [
      "Acurácia: 86.32%\n",
      "Precisão: 75.91%\n",
      "Recall: 86.32%\n",
      "F1 Score: 80.78%\n"
     ]
    }
   ],
   "source": [
    "# Treinar o modelo\n",
    "clf = SVC(C=2.5, kernel='rbf', random_state=1, tol=0.1)\n",
    "clf.fit(X_train, y_train)\n",
    "\n",
    "# Fazer previsões com o conjunto de teste\n",
    "y_pred = clf.predict(X_test)\n",
    "\n",
    "# Avaliar o desempenho do modelo\n",
    "print(\"Acurácia: {:.2f}%\".format(accuracy_score(y_test, y_pred)*100))\n",
    "print(\"Precisão: {:.2f}%\".format(precision_score(y_test, y_pred, average='weighted')*100))\n",
    "print(\"Recall: {:.2f}%\".format(recall_score(y_test, y_pred, average='weighted')*100))\n",
    "print(\"F1 Score: {:.2f}%\".format(f1_score(y_test, y_pred, average='weighted')*100))"
   ]
  },
  {
   "cell_type": "code",
   "execution_count": 44,
   "id": "70e69ef4",
   "metadata": {},
   "outputs": [
    {
     "data": {
      "image/png": "[encoded data removed]",
      "text/plain": [
       "<Figure size 400x300 with 2 Axes>"
      ]
     },
     "metadata": {},
     "output_type": "display_data"
    }
   ],
   "source": [
    "# Calcular a matriz de confusão\n",
    "cm = confusion_matrix(y_test, y_pred)\n",
    "\n",
    "# Criar um gráfico de matriz de confusão\n",
    "plt.figure(figsize=(4, 3))\n",
    "sns.heatmap(cm, annot=True, cmap='Blues', fmt='g')\n",
    "plt.xlabel('Predito')\n",
    "plt.ylabel('Real')\n",
    "plt.title('Matriz de Confusão')\n",
    "plt.show()"
   ]
  },
  {
   "cell_type": "code",
   "execution_count": 45,
   "id": "6312bafb",
   "metadata": {},
   "outputs": [
    {
     "data": {
      "text/html": [
       "<div>\n",
       "<style scoped>\n",
       "    .dataframe tbody tr th:only-of-type {\n",
       "        vertical-align: middle;\n",
       "    }\n",
       "\n",
       "    .dataframe tbody tr th {\n",
       "        vertical-align: top;\n",
       "    }\n",
       "\n",
       "    .dataframe thead th {\n",
       "        text-align: right;\n",
       "    }\n",
       "</style>\n",
       "<table border=\"1\" class=\"dataframe\">\n",
       "  <thead>\n",
       "    <tr style=\"text-align: right;\">\n",
       "      <th></th>\n",
       "      <th>resultados_svm</th>\n",
       "    </tr>\n",
       "  </thead>\n",
       "  <tbody>\n",
       "    <tr>\n",
       "      <th>count</th>\n",
       "      <td>5.000000</td>\n",
       "    </tr>\n",
       "    <tr>\n",
       "      <th>mean</th>\n",
       "      <td>0.890813</td>\n",
       "    </tr>\n",
       "    <tr>\n",
       "      <th>std</th>\n",
       "      <td>0.000007</td>\n",
       "    </tr>\n",
       "    <tr>\n",
       "      <th>min</th>\n",
       "      <td>0.890806</td>\n",
       "    </tr>\n",
       "    <tr>\n",
       "      <th>25%</th>\n",
       "      <td>0.890808</td>\n",
       "    </tr>\n",
       "    <tr>\n",
       "      <th>50%</th>\n",
       "      <td>0.890811</td>\n",
       "    </tr>\n",
       "    <tr>\n",
       "      <th>75%</th>\n",
       "      <td>0.890818</td>\n",
       "    </tr>\n",
       "    <tr>\n",
       "      <th>max</th>\n",
       "      <td>0.890822</td>\n",
       "    </tr>\n",
       "  </tbody>\n",
       "</table>\n",
       "</div>"
      ],
      "text/plain": [
       "       resultados_svm\n",
       "count        5.000000\n",
       "mean         0.890813\n",
       "std          0.000007\n",
       "min          0.890806\n",
       "25%          0.890808\n",
       "50%          0.890811\n",
       "75%          0.890818\n",
       "max          0.890822"
      ]
     },
     "execution_count": 45,
     "metadata": {},
     "output_type": "execute_result"
    }
   ],
   "source": [
    "# KFold + cross-validation score\n",
    "resultados_svm_clf = []\n",
    "for i in range (5):\n",
    "    kfold = KFold(n_splits=10, shuffle=True, random_state=i)\n",
    "    score = cross_val_score(clf, X, y, cv = kfold)\n",
    "    resultados_svm_clf.append(score.mean())\n",
    "\n",
    "df_resultados_svm_clf = pd.DataFrame(resultados_svm_clf,columns=['resultados_svm'])\n",
    "df_resultados_svm_clf.describe()"
   ]
  },
  {
   "cell_type": "markdown",
   "id": "466cd48a",
   "metadata": {},
   "source": [
    "## 5.2.3 - SVM Linear"
   ]
  },
  {
   "cell_type": "code",
   "execution_count": 46,
   "id": "64b7f2e1",
   "metadata": {},
   "outputs": [
    {
     "name": "stdout",
     "output_type": "stream",
     "text": [
      "Melhores hiperparâmetros: {'C': 2.5, 'loss': 'squared_hinge', 'random_state': 1, 'tol': 0.1}\n"
     ]
    }
   ],
   "source": [
    "# Grid Search\n",
    "# Definir os valores dos hiperparâmetros a serem testados\n",
    "param_grid = {\n",
    "    'loss': ['hinge', 'squared_hinge'],\n",
    "    'tol': [0.1, 0.01, 0.001, 0.0001, 0.00001],\n",
    "    'C' : [2.5, 3.0, 3.5, 4.0, 4.5, 5.0],\n",
    "    'random_state' : [1, 2, 3, 4, 5, 6]\n",
    "    }\n",
    "\n",
    "# Criar um objeto GridSearchCV com os valores dos hiperparâmetros a serem testados\n",
    "grid = GridSearchCV(LinearSVC(), param_grid)\n",
    "\n",
    "# Treinar o modelo com o conjunto de treinamento\n",
    "grid.fit(X_train, y_train)\n",
    "\n",
    "# Imprimir os melhores hiperparâmetros encontrados\n",
    "print(\"Melhores hiperparâmetros:\", grid.best_params_)"
   ]
  },
  {
   "cell_type": "code",
   "execution_count": 47,
   "id": "34b71914",
   "metadata": {},
   "outputs": [
    {
     "name": "stdout",
     "output_type": "stream",
     "text": [
      "Acurácia: 87.18%\n",
      "Precisão: 76.00%\n",
      "Recall: 87.18%\n",
      "F1 Score: 81.21%\n"
     ]
    }
   ],
   "source": [
    "# Treinar o modelo\n",
    "clf = LinearSVC(C=4.0, loss='hinge', random_state=3, tol=0.001)\n",
    "clf.fit(X_train, y_train)\n",
    "\n",
    "# Fazer previsões com o conjunto de teste\n",
    "y_pred = clf.predict(X_test)\n",
    "\n",
    "# Avaliar o desempenho do modelo\n",
    "print(\"Acurácia: {:.2f}%\".format(accuracy_score(y_test, y_pred)*100))\n",
    "print(\"Precisão: {:.2f}%\".format(precision_score(y_test, y_pred, average='weighted')*100))\n",
    "print(\"Recall: {:.2f}%\".format(recall_score(y_test, y_pred, average='weighted')*100))\n",
    "print(\"F1 Score: {:.2f}%\".format(f1_score(y_test, y_pred, average='weighted')*100))"
   ]
  },
  {
   "cell_type": "code",
   "execution_count": 48,
   "id": "d79832cd",
   "metadata": {},
   "outputs": [
    {
     "data": {
      "image/png": "[encoded data removed]",
      "text/plain": [
       "<Figure size 400x300 with 2 Axes>"
      ]
     },
     "metadata": {},
     "output_type": "display_data"
    }
   ],
   "source": [
    "# Calcular a matriz de confusão\n",
    "cm = confusion_matrix(y_test, y_pred)\n",
    "\n",
    "# Criar um gráfico de matriz de confusão\n",
    "plt.figure(figsize=(4, 3))\n",
    "sns.heatmap(cm, annot=True, cmap='Blues', fmt='g')\n",
    "plt.xlabel('Predito')\n",
    "plt.ylabel('Real')\n",
    "plt.title('Matriz de Confusão')\n",
    "plt.show()"
   ]
  },
  {
   "cell_type": "code",
   "execution_count": 49,
   "id": "72a42edf",
   "metadata": {},
   "outputs": [
    {
     "data": {
      "text/html": [
       "<div>\n",
       "<style scoped>\n",
       "    .dataframe tbody tr th:only-of-type {\n",
       "        vertical-align: middle;\n",
       "    }\n",
       "\n",
       "    .dataframe tbody tr th {\n",
       "        vertical-align: top;\n",
       "    }\n",
       "\n",
       "    .dataframe thead th {\n",
       "        text-align: right;\n",
       "    }\n",
       "</style>\n",
       "<table border=\"1\" class=\"dataframe\">\n",
       "  <thead>\n",
       "    <tr style=\"text-align: right;\">\n",
       "      <th></th>\n",
       "      <th>resultados_linear_svm</th>\n",
       "    </tr>\n",
       "  </thead>\n",
       "  <tbody>\n",
       "    <tr>\n",
       "      <th>count</th>\n",
       "      <td>5.000000</td>\n",
       "    </tr>\n",
       "    <tr>\n",
       "      <th>mean</th>\n",
       "      <td>0.890813</td>\n",
       "    </tr>\n",
       "    <tr>\n",
       "      <th>std</th>\n",
       "      <td>0.000007</td>\n",
       "    </tr>\n",
       "    <tr>\n",
       "      <th>min</th>\n",
       "      <td>0.890806</td>\n",
       "    </tr>\n",
       "    <tr>\n",
       "      <th>25%</th>\n",
       "      <td>0.890808</td>\n",
       "    </tr>\n",
       "    <tr>\n",
       "      <th>50%</th>\n",
       "      <td>0.890811</td>\n",
       "    </tr>\n",
       "    <tr>\n",
       "      <th>75%</th>\n",
       "      <td>0.890818</td>\n",
       "    </tr>\n",
       "    <tr>\n",
       "      <th>max</th>\n",
       "      <td>0.890822</td>\n",
       "    </tr>\n",
       "  </tbody>\n",
       "</table>\n",
       "</div>"
      ],
      "text/plain": [
       "       resultados_linear_svm\n",
       "count               5.000000\n",
       "mean                0.890813\n",
       "std                 0.000007\n",
       "min                 0.890806\n",
       "25%                 0.890808\n",
       "50%                 0.890811\n",
       "75%                 0.890818\n",
       "max                 0.890822"
      ]
     },
     "execution_count": 49,
     "metadata": {},
     "output_type": "execute_result"
    }
   ],
   "source": [
    "# KFold + cross-validation score\n",
    "resultados_linear_svm_clf = []\n",
    "for i in range (5):\n",
    "    kfold = KFold(n_splits=10, shuffle=True, random_state=i)\n",
    "    score = cross_val_score(clf, X, y, cv = kfold)\n",
    "    resultados_linear_svm_clf.append(score.mean())\n",
    "\n",
    "df_resultados_linear_svm_clf = pd.DataFrame(resultados_linear_svm_clf,columns=['resultados_linear_svm'])\n",
    "df_resultados_linear_svm_clf.describe()"
   ]
  },
  {
   "cell_type": "markdown",
   "id": "37580666",
   "metadata": {},
   "source": [
    "## 5.2.4 - SGD Classifier"
   ]
  },
  {
   "cell_type": "code",
   "execution_count": 50,
   "id": "f9e4cf65",
   "metadata": {},
   "outputs": [
    {
     "name": "stdout",
     "output_type": "stream",
     "text": [
      "Melhores hiperparâmetros: {'alpha': 0.01, 'loss': 'modified_huber', 'max_iter': 50, 'penalty': 'l2'}\n"
     ]
    }
   ],
   "source": [
    "# Grid Search\n",
    "# Definir os valores dos hiperparâmetros a serem testados\n",
    "param_grid = {\n",
    "    'loss' : ['hinge', 'log_loss', 'modified_huber', 'squared_hinge', 'perceptron'],\n",
    "    'penalty' : ['l2', 'l1', 'elasticnet', None],\n",
    "    'alpha' : [0.0001, 0.001, 0.01, 0.1],\n",
    "    'max_iter' : [5, 10, 20, 50, 100, 1000]\n",
    "    }\n",
    "\n",
    "# Criar um objeto GridSearchCV com os valores dos hiperparâmetros a serem testados\n",
    "grid = GridSearchCV(SGDClassifier(), param_grid)\n",
    "\n",
    "# Treinar o modelo com o conjunto de treinamento\n",
    "grid.fit(X_train, y_train)\n",
    "\n",
    "# Imprimir os melhores hiperparâmetros encontrados\n",
    "print(\"Melhores hiperparâmetros:\", grid.best_params_)"
   ]
  },
  {
   "cell_type": "code",
   "execution_count": 51,
   "id": "14b76add",
   "metadata": {},
   "outputs": [
    {
     "name": "stdout",
     "output_type": "stream",
     "text": [
      "Acurácia: 78.63%\n",
      "Precisão: 78.94%\n",
      "Recall: 78.63%\n",
      "F1 Score: 78.77%\n"
     ]
    }
   ],
   "source": [
    "# Treinar o modelo\n",
    "clf = SGDClassifier(alpha=0.001, loss='modified_huber', max_iter=50, penalty='elasticnet')\n",
    "clf.fit(X_train, y_train)\n",
    "\n",
    "# Fazer previsões com o conjunto de teste\n",
    "y_pred = clf.predict(X_test)\n",
    "\n",
    "# Avaliar o desempenho do modelo\n",
    "print(\"Acurácia: {:.2f}%\".format(accuracy_score(y_test, y_pred)*100))\n",
    "print(\"Precisão: {:.2f}%\".format(precision_score(y_test, y_pred, average='weighted')*100))\n",
    "print(\"Recall: {:.2f}%\".format(recall_score(y_test, y_pred, average='weighted')*100))\n",
    "print(\"F1 Score: {:.2f}%\".format(f1_score(y_test, y_pred, average='weighted')*100))"
   ]
  },
  {
   "cell_type": "code",
   "execution_count": 52,
   "id": "99eb45a8",
   "metadata": {},
   "outputs": [
    {
     "data": {
      "image/png": "[encoded data removed]",
      "text/plain": [
       "<Figure size 400x300 with 2 Axes>"
      ]
     },
     "metadata": {},
     "output_type": "display_data"
    }
   ],
   "source": [
    "# Calcular a matriz de confusão\n",
    "cm = confusion_matrix(y_test, y_pred)\n",
    "\n",
    "# Criar um gráfico de matriz de confusão\n",
    "plt.figure(figsize=(4, 3))\n",
    "sns.heatmap(cm, annot=True, cmap='Blues', fmt='g')\n",
    "plt.xlabel('Predito')\n",
    "plt.ylabel('Real')\n",
    "plt.title('Matriz de Confusão')\n",
    "plt.show()"
   ]
  },
  {
   "cell_type": "code",
   "execution_count": 53,
   "id": "fb18dfe7",
   "metadata": {},
   "outputs": [
    {
     "data": {
      "text/html": [
       "<div>\n",
       "<style scoped>\n",
       "    .dataframe tbody tr th:only-of-type {\n",
       "        vertical-align: middle;\n",
       "    }\n",
       "\n",
       "    .dataframe tbody tr th {\n",
       "        vertical-align: top;\n",
       "    }\n",
       "\n",
       "    .dataframe thead th {\n",
       "        text-align: right;\n",
       "    }\n",
       "</style>\n",
       "<table border=\"1\" class=\"dataframe\">\n",
       "  <thead>\n",
       "    <tr style=\"text-align: right;\">\n",
       "      <th></th>\n",
       "      <th>resultados_sgd_classifier</th>\n",
       "    </tr>\n",
       "  </thead>\n",
       "  <tbody>\n",
       "    <tr>\n",
       "      <th>count</th>\n",
       "      <td>5.000000</td>\n",
       "    </tr>\n",
       "    <tr>\n",
       "      <th>mean</th>\n",
       "      <td>0.888334</td>\n",
       "    </tr>\n",
       "    <tr>\n",
       "      <th>std</th>\n",
       "      <td>0.002245</td>\n",
       "    </tr>\n",
       "    <tr>\n",
       "      <th>min</th>\n",
       "      <td>0.885127</td>\n",
       "    </tr>\n",
       "    <tr>\n",
       "      <th>25%</th>\n",
       "      <td>0.886935</td>\n",
       "    </tr>\n",
       "    <tr>\n",
       "      <th>50%</th>\n",
       "      <td>0.889270</td>\n",
       "    </tr>\n",
       "    <tr>\n",
       "      <th>75%</th>\n",
       "      <td>0.889775</td>\n",
       "    </tr>\n",
       "    <tr>\n",
       "      <th>max</th>\n",
       "      <td>0.890563</td>\n",
       "    </tr>\n",
       "  </tbody>\n",
       "</table>\n",
       "</div>"
      ],
      "text/plain": [
       "       resultados_sgd_classifier\n",
       "count                   5.000000\n",
       "mean                    0.888334\n",
       "std                     0.002245\n",
       "min                     0.885127\n",
       "25%                     0.886935\n",
       "50%                     0.889270\n",
       "75%                     0.889775\n",
       "max                     0.890563"
      ]
     },
     "execution_count": 53,
     "metadata": {},
     "output_type": "execute_result"
    }
   ],
   "source": [
    "# KFold + cross-validation score\n",
    "resultados_sgd_classifier_clf = []\n",
    "for i in range (5):\n",
    "    kfold = KFold(n_splits=10, shuffle=True, random_state=i)\n",
    "    score = cross_val_score(clf, X, y, cv = kfold)\n",
    "    resultados_sgd_classifier_clf.append(score.mean())\n",
    "\n",
    "df_resultados_sgd_classifier = pd.DataFrame(resultados_sgd_classifier_clf,columns=['resultados_sgd_classifier'])\n",
    "df_resultados_sgd_classifier.describe()"
   ]
  },
  {
   "cell_type": "markdown",
   "id": "8801b676",
   "metadata": {},
   "source": [
    "## 5.2.5 - Regressão Logística"
   ]
  },
  {
   "cell_type": "code",
   "execution_count": 54,
   "id": "55c46809",
   "metadata": {},
   "outputs": [
    {
     "name": "stdout",
     "output_type": "stream",
     "text": [
      "Melhores hiperparâmetros: {'random_state': 0, 'solver': 'saga'}\n"
     ]
    }
   ],
   "source": [
    "# Grid Search\n",
    "# Definir os valores dos hiperparâmetros a serem testados\n",
    "param_grid = {\n",
    "    'random_state' : [0, 1, 2],\n",
    "    'solver' : ['lbfgs', 'liblinear', 'newton-cg', 'newton-cholesky', 'sag', 'saga']\n",
    "    }\n",
    "\n",
    "# Criar um objeto GridSearchCV com os valores dos hiperparâmetros a serem testados\n",
    "grid = GridSearchCV(LogisticRegression(), param_grid)\n",
    "\n",
    "# Treinar o modelo com o conjunto de treinamento\n",
    "grid.fit(X_train, y_train)\n",
    "\n",
    "# Imprimir os melhores hiperparâmetros encontrados\n",
    "print(\"Melhores hiperparâmetros:\", grid.best_params_)"
   ]
  },
  {
   "cell_type": "code",
   "execution_count": 55,
   "id": "1918db18",
   "metadata": {},
   "outputs": [
    {
     "name": "stdout",
     "output_type": "stream",
     "text": [
      "Acurácia: 85.47%\n",
      "Precisão: 79.16%\n",
      "Recall: 85.47%\n",
      "F1 Score: 81.59%\n"
     ]
    }
   ],
   "source": [
    "# Treinar o modelo\n",
    "clf = LogisticRegression(random_state=0, solver='saga')\n",
    "clf.fit(X_train, y_train)\n",
    "\n",
    "# Fazer previsões com o conjunto de teste\n",
    "y_pred = clf.predict(X_test)\n",
    "\n",
    "# Avaliar o desempenho do modelo\n",
    "print(\"Acurácia: {:.2f}%\".format(accuracy_score(y_test, y_pred)*100))\n",
    "print(\"Precisão: {:.2f}%\".format(precision_score(y_test, y_pred, average='weighted')*100))\n",
    "print(\"Recall: {:.2f}%\".format(recall_score(y_test, y_pred, average='weighted')*100))\n",
    "print(\"F1 Score: {:.2f}%\".format(f1_score(y_test, y_pred, average='weighted')*100))"
   ]
  },
  {
   "cell_type": "code",
   "execution_count": 56,
   "id": "c3c6d2e4",
   "metadata": {},
   "outputs": [
    {
     "data": {
      "image/png": "[encoded data removed]",
      "text/plain": [
       "<Figure size 400x300 with 2 Axes>"
      ]
     },
     "metadata": {},
     "output_type": "display_data"
    }
   ],
   "source": [
    "# Calcular a matriz de confusão\n",
    "cm = confusion_matrix(y_test, y_pred)\n",
    "\n",
    "# Criar um gráfico de matriz de confusão\n",
    "plt.figure(figsize=(4, 3))\n",
    "sns.heatmap(cm, annot=True, cmap='Blues', fmt='g')\n",
    "plt.xlabel('Predito')\n",
    "plt.ylabel('Real')\n",
    "plt.title('Matriz de Confusão')\n",
    "plt.show()"
   ]
  },
  {
   "cell_type": "code",
   "execution_count": 57,
   "id": "b0e7f27b",
   "metadata": {},
   "outputs": [
    {
     "data": {
      "text/html": [
       "<div>\n",
       "<style scoped>\n",
       "    .dataframe tbody tr th:only-of-type {\n",
       "        vertical-align: middle;\n",
       "    }\n",
       "\n",
       "    .dataframe tbody tr th {\n",
       "        vertical-align: top;\n",
       "    }\n",
       "\n",
       "    .dataframe thead th {\n",
       "        text-align: right;\n",
       "    }\n",
       "</style>\n",
       "<table border=\"1\" class=\"dataframe\">\n",
       "  <thead>\n",
       "    <tr style=\"text-align: right;\">\n",
       "      <th></th>\n",
       "      <th>resultados_logistic_regression</th>\n",
       "    </tr>\n",
       "  </thead>\n",
       "  <tbody>\n",
       "    <tr>\n",
       "      <th>count</th>\n",
       "      <td>5.000000</td>\n",
       "    </tr>\n",
       "    <tr>\n",
       "      <th>mean</th>\n",
       "      <td>0.890348</td>\n",
       "    </tr>\n",
       "    <tr>\n",
       "      <th>std</th>\n",
       "      <td>0.000112</td>\n",
       "    </tr>\n",
       "    <tr>\n",
       "      <th>min</th>\n",
       "      <td>0.890291</td>\n",
       "    </tr>\n",
       "    <tr>\n",
       "      <th>25%</th>\n",
       "      <td>0.890294</td>\n",
       "    </tr>\n",
       "    <tr>\n",
       "      <th>50%</th>\n",
       "      <td>0.890301</td>\n",
       "    </tr>\n",
       "    <tr>\n",
       "      <th>75%</th>\n",
       "      <td>0.890305</td>\n",
       "    </tr>\n",
       "    <tr>\n",
       "      <th>max</th>\n",
       "      <td>0.890548</td>\n",
       "    </tr>\n",
       "  </tbody>\n",
       "</table>\n",
       "</div>"
      ],
      "text/plain": [
       "       resultados_logistic_regression\n",
       "count                        5.000000\n",
       "mean                         0.890348\n",
       "std                          0.000112\n",
       "min                          0.890291\n",
       "25%                          0.890294\n",
       "50%                          0.890301\n",
       "75%                          0.890305\n",
       "max                          0.890548"
      ]
     },
     "execution_count": 57,
     "metadata": {},
     "output_type": "execute_result"
    }
   ],
   "source": [
    "# KFold + cross-validation score\n",
    "resultados_logistic_regression_clf = []\n",
    "for i in range (5):\n",
    "    kfold = KFold(n_splits=10, shuffle=True, random_state=i)\n",
    "    score = cross_val_score(clf, X, y, cv = kfold)\n",
    "    resultados_logistic_regression_clf.append(score.mean())\n",
    "\n",
    "df_resultados_logistic_regression = pd.DataFrame(resultados_logistic_regression_clf,columns=['resultados_logistic_regression'])\n",
    "df_resultados_logistic_regression.describe()"
   ]
  },
  {
   "cell_type": "markdown",
   "id": "3e4a9123",
   "metadata": {},
   "source": [
    "## 5.2.7 - Random Forest Classifier"
   ]
  },
  {
   "cell_type": "code",
   "execution_count": 58,
   "id": "f0c2cceb",
   "metadata": {},
   "outputs": [
    {
     "name": "stdout",
     "output_type": "stream",
     "text": [
      "Melhores hiperparâmetros: {'criterion': 'gini', 'min_samples_leaf': 1, 'min_samples_split': 4, 'n_estimators': 50}\n"
     ]
    }
   ],
   "source": [
    "# Grid Search\n",
    "# Definir os valores dos hiperparâmetros a serem testados\n",
    "param_grid = {\n",
    "    'n_estimators' : [25, 50, 75, 100],\n",
    "    'criterion' : ['gini', 'entropy', 'log_loss'],\n",
    "    'min_samples_split' : [2, 4, 6, 8, 10],\n",
    "    'min_samples_leaf' : [1, 3, 5, 7]\n",
    "    }\n",
    "\n",
    "# Criar um objeto GridSearchCV com os valores dos hiperparâmetros a serem testados\n",
    "grid = GridSearchCV(RandomForestClassifier(), param_grid)\n",
    "\n",
    "# Treinar o modelo com o conjunto de treinamento\n",
    "grid.fit(X_train, y_train)\n",
    "\n",
    "# Imprimir os melhores hiperparâmetros encontrados\n",
    "print(\"Melhores hiperparâmetros:\", grid.best_params_)"
   ]
  },
  {
   "cell_type": "code",
   "execution_count": 59,
   "id": "564950e5",
   "metadata": {},
   "outputs": [
    {
     "name": "stdout",
     "output_type": "stream",
     "text": [
      "Acurácia: 87.18%\n",
      "Precisão: 76.00%\n",
      "Recall: 87.18%\n",
      "F1 Score: 81.21%\n"
     ]
    }
   ],
   "source": [
    "# Treinar o modelo\n",
    "clf = RandomForestClassifier(criterion='gini', min_samples_leaf=1, min_samples_split=6, n_estimators=25)\n",
    "clf.fit(X_train, y_train)\n",
    "\n",
    "# Fazer previsões com o conjunto de teste\n",
    "y_pred = clf.predict(X_test)\n",
    "\n",
    "# Avaliar o desempenho do modelo\n",
    "print(\"Acurácia: {:.2f}%\".format(accuracy_score(y_test, y_pred)*100))\n",
    "print(\"Precisão: {:.2f}%\".format(precision_score(y_test, y_pred, average='weighted')*100))\n",
    "print(\"Recall: {:.2f}%\".format(recall_score(y_test, y_pred, average='weighted')*100))\n",
    "print(\"F1 Score: {:.2f}%\".format(f1_score(y_test, y_pred, average='weighted')*100))"
   ]
  },
  {
   "cell_type": "code",
   "execution_count": 60,
   "id": "41d82a37",
   "metadata": {},
   "outputs": [
    {
     "data": {
      "image/png": "[encoded data removed]",
      "text/plain": [
       "<Figure size 400x300 with 2 Axes>"
      ]
     },
     "metadata": {},
     "output_type": "display_data"
    }
   ],
   "source": [
    "# Calcular a matriz de confusão\n",
    "cm = confusion_matrix(y_test, y_pred)\n",
    "\n",
    "# Criar um gráfico de matriz de confusão\n",
    "plt.figure(figsize=(4, 3))\n",
    "sns.heatmap(cm, annot=True, cmap='Blues', fmt='g')\n",
    "plt.xlabel('Predito')\n",
    "plt.ylabel('Real')\n",
    "plt.title('Matriz de Confusão')\n",
    "plt.show()"
   ]
  },
  {
   "cell_type": "code",
   "execution_count": 61,
   "id": "1bb45830",
   "metadata": {},
   "outputs": [
    {
     "data": {
      "text/html": [
       "<div>\n",
       "<style scoped>\n",
       "    .dataframe tbody tr th:only-of-type {\n",
       "        vertical-align: middle;\n",
       "    }\n",
       "\n",
       "    .dataframe tbody tr th {\n",
       "        vertical-align: top;\n",
       "    }\n",
       "\n",
       "    .dataframe thead th {\n",
       "        text-align: right;\n",
       "    }\n",
       "</style>\n",
       "<table border=\"1\" class=\"dataframe\">\n",
       "  <thead>\n",
       "    <tr style=\"text-align: right;\">\n",
       "      <th></th>\n",
       "      <th>resultados_random_forest_classifier</th>\n",
       "    </tr>\n",
       "  </thead>\n",
       "  <tbody>\n",
       "    <tr>\n",
       "      <th>count</th>\n",
       "      <td>5.000000</td>\n",
       "    </tr>\n",
       "    <tr>\n",
       "      <th>mean</th>\n",
       "      <td>0.886890</td>\n",
       "    </tr>\n",
       "    <tr>\n",
       "      <th>std</th>\n",
       "      <td>0.001142</td>\n",
       "    </tr>\n",
       "    <tr>\n",
       "      <th>min</th>\n",
       "      <td>0.885917</td>\n",
       "    </tr>\n",
       "    <tr>\n",
       "      <th>25%</th>\n",
       "      <td>0.886163</td>\n",
       "    </tr>\n",
       "    <tr>\n",
       "      <th>50%</th>\n",
       "      <td>0.886423</td>\n",
       "    </tr>\n",
       "    <tr>\n",
       "      <th>75%</th>\n",
       "      <td>0.887205</td>\n",
       "    </tr>\n",
       "    <tr>\n",
       "      <th>max</th>\n",
       "      <td>0.888740</td>\n",
       "    </tr>\n",
       "  </tbody>\n",
       "</table>\n",
       "</div>"
      ],
      "text/plain": [
       "       resultados_random_forest_classifier\n",
       "count                             5.000000\n",
       "mean                              0.886890\n",
       "std                               0.001142\n",
       "min                               0.885917\n",
       "25%                               0.886163\n",
       "50%                               0.886423\n",
       "75%                               0.887205\n",
       "max                               0.888740"
      ]
     },
     "execution_count": 61,
     "metadata": {},
     "output_type": "execute_result"
    }
   ],
   "source": [
    "# KFold + cross-validation score\n",
    "resultados_random_forest_classifier_clf = []\n",
    "for i in range (5):\n",
    "    kfold = KFold(n_splits=10, shuffle=True, random_state=i)\n",
    "    score = cross_val_score(clf, X, y, cv = kfold)\n",
    "    resultados_random_forest_classifier_clf.append(score.mean())\n",
    "\n",
    "df_resultados_random_forest_classifier = pd.DataFrame(resultados_random_forest_classifier_clf,columns=['resultados_random_forest_classifier'])\n",
    "df_resultados_random_forest_classifier.describe()"
   ]
  },
  {
   "cell_type": "markdown",
   "id": "2b77827b",
   "metadata": {},
   "source": [
    "## 5.2.8 - Decision Tree Regressor"
   ]
  },
  {
   "cell_type": "code",
   "execution_count": 62,
   "id": "9cb016c6",
   "metadata": {},
   "outputs": [
    {
     "name": "stdout",
     "output_type": "stream",
     "text": [
      "Melhores hiperparâmetros: {'criterion': 'poisson', 'min_samples_leaf': 1, 'min_samples_split': 10}\n"
     ]
    }
   ],
   "source": [
    "# Grid Search\n",
    "# Definir os valores dos hiperparâmetros a serem testados\n",
    "param_grid = {\n",
    "    'criterion' : ['squared_error', 'friedman_mse', 'absolute_error', 'poisson'],\n",
    "    'min_samples_split' : [2, 4, 6, 8, 10],\n",
    "    'min_samples_leaf' : [1, 3, 5, 7]\n",
    "    }\n",
    "\n",
    "# Criar um objeto GridSearchCV com os valores dos hiperparâmetros a serem testados\n",
    "grid = GridSearchCV(DecisionTreeRegressor(), param_grid)\n",
    "\n",
    "# Treinar o modelo com o conjunto de treinamento\n",
    "grid.fit(X_train, y_train)\n",
    "\n",
    "# Imprimir os melhores hiperparâmetros encontrados\n",
    "print(\"Melhores hiperparâmetros:\", grid.best_params_)"
   ]
  },
  {
   "cell_type": "code",
   "execution_count": 63,
   "id": "8e2b4954",
   "metadata": {},
   "outputs": [
    {
     "name": "stdout",
     "output_type": "stream",
     "text": [
      "Acurácia: 86.32%\n",
      "Precisão: 82.43%\n",
      "Recall: 86.32%\n",
      "F1 Score: 83.93%\n"
     ]
    }
   ],
   "source": [
    "# Treinar o modelo\n",
    "clf = DecisionTreeRegressor(criterion='absolute_error', min_samples_leaf=5, min_samples_split=6)\n",
    "clf.fit(X_train, y_train)\n",
    "\n",
    "# Fazer previsões com o conjunto de teste\n",
    "y_pred = clf.predict(X_test)\n",
    "\n",
    "# Avaliar o desempenho do modelo\n",
    "print(\"Acurácia: {:.2f}%\".format(accuracy_score(y_test, y_pred)*100))\n",
    "print(\"Precisão: {:.2f}%\".format(precision_score(y_test, y_pred, average='weighted')*100))\n",
    "print(\"Recall: {:.2f}%\".format(recall_score(y_test, y_pred, average='weighted')*100))\n",
    "print(\"F1 Score: {:.2f}%\".format(f1_score(y_test, y_pred, average='weighted')*100))"
   ]
  },
  {
   "cell_type": "code",
   "execution_count": 64,
   "id": "1fca42fe",
   "metadata": {},
   "outputs": [
    {
     "data": {
      "image/png": "[encoded data removed]",
      "text/plain": [
       "<Figure size 400x300 with 2 Axes>"
      ]
     },
     "metadata": {},
     "output_type": "display_data"
    }
   ],
   "source": [
    "# Calcular a matriz de confusão\n",
    "cm = confusion_matrix(y_test, y_pred)\n",
    "\n",
    "# Criar um gráfico de matriz de confusão\n",
    "plt.figure(figsize=(4, 3))\n",
    "sns.heatmap(cm, annot=True, cmap='Blues', fmt='g')\n",
    "plt.xlabel('Predito')\n",
    "plt.ylabel('Real')\n",
    "plt.title('Matriz de Confusão')\n",
    "plt.show()"
   ]
  },
  {
   "cell_type": "code",
   "execution_count": 65,
   "id": "cb6d5551",
   "metadata": {},
   "outputs": [
    {
     "data": {
      "text/html": [
       "<div>\n",
       "<style scoped>\n",
       "    .dataframe tbody tr th:only-of-type {\n",
       "        vertical-align: middle;\n",
       "    }\n",
       "\n",
       "    .dataframe tbody tr th {\n",
       "        vertical-align: top;\n",
       "    }\n",
       "\n",
       "    .dataframe thead th {\n",
       "        text-align: right;\n",
       "    }\n",
       "</style>\n",
       "<table border=\"1\" class=\"dataframe\">\n",
       "  <thead>\n",
       "    <tr style=\"text-align: right;\">\n",
       "      <th></th>\n",
       "      <th>resultados_decision_tree_regressor</th>\n",
       "    </tr>\n",
       "  </thead>\n",
       "  <tbody>\n",
       "    <tr>\n",
       "      <th>count</th>\n",
       "      <td>5.000000</td>\n",
       "    </tr>\n",
       "    <tr>\n",
       "      <th>mean</th>\n",
       "      <td>-0.152554</td>\n",
       "    </tr>\n",
       "    <tr>\n",
       "      <th>std</th>\n",
       "      <td>0.025123</td>\n",
       "    </tr>\n",
       "    <tr>\n",
       "      <th>min</th>\n",
       "      <td>-0.180999</td>\n",
       "    </tr>\n",
       "    <tr>\n",
       "      <th>25%</th>\n",
       "      <td>-0.170141</td>\n",
       "    </tr>\n",
       "    <tr>\n",
       "      <th>50%</th>\n",
       "      <td>-0.158658</td>\n",
       "    </tr>\n",
       "    <tr>\n",
       "      <th>75%</th>\n",
       "      <td>-0.128714</td>\n",
       "    </tr>\n",
       "    <tr>\n",
       "      <th>max</th>\n",
       "      <td>-0.124258</td>\n",
       "    </tr>\n",
       "  </tbody>\n",
       "</table>\n",
       "</div>"
      ],
      "text/plain": [
       "       resultados_decision_tree_regressor\n",
       "count                            5.000000\n",
       "mean                            -0.152554\n",
       "std                              0.025123\n",
       "min                             -0.180999\n",
       "25%                             -0.170141\n",
       "50%                             -0.158658\n",
       "75%                             -0.128714\n",
       "max                             -0.124258"
      ]
     },
     "execution_count": 65,
     "metadata": {},
     "output_type": "execute_result"
    }
   ],
   "source": [
    "# KFold + cross-validation score\n",
    "resultados_decision_tree_regressor_clf = []\n",
    "for i in range (5):\n",
    "    kfold = KFold(n_splits=10, shuffle=True, random_state=i)\n",
    "    score = cross_val_score(clf, X, y, cv = kfold)\n",
    "    resultados_decision_tree_regressor_clf.append(score.mean())\n",
    "\n",
    "df_resultados_decision_tree_regressor = pd.DataFrame(resultados_decision_tree_regressor_clf,columns=['resultados_decision_tree_regressor'])\n",
    "df_resultados_decision_tree_regressor.describe()"
   ]
  },
  {
   "cell_type": "markdown",
   "id": "12875b65",
   "metadata": {},
   "source": [
    "## 5.3 - Resultado"
   ]
  },
  {
   "cell_type": "code",
   "execution_count": 66,
   "id": "0350c458",
   "metadata": {},
   "outputs": [
    {
     "name": "stdout",
     "output_type": "stream",
     "text": [
      "       resultados_knn  resultados_svm  resultados_linear_svm  \\\n",
      "count        5.000000        5.000000               5.000000   \n",
      "mean         0.880589        0.890813               0.890813   \n",
      "std          0.001339        0.000007               0.000007   \n",
      "min          0.878932        0.890806               0.890806   \n",
      "25%          0.879969        0.890808               0.890808   \n",
      "50%          0.880495        0.890811               0.890811   \n",
      "75%          0.880995        0.890818               0.890818   \n",
      "max          0.882555        0.890822               0.890822   \n",
      "\n",
      "       resultados_sgd_classifier  resultados_logistic_regression  \\\n",
      "count                   5.000000                        5.000000   \n",
      "mean                    0.888334                        0.890348   \n",
      "std                     0.002245                        0.000112   \n",
      "min                     0.885127                        0.890291   \n",
      "25%                     0.886935                        0.890294   \n",
      "50%                     0.889270                        0.890301   \n",
      "75%                     0.889775                        0.890305   \n",
      "max                     0.890563                        0.890548   \n",
      "\n",
      "       resultados_random_forest_classifier  resultados_decision_tree_regressor  \n",
      "count                             5.000000                            5.000000  \n",
      "mean                              0.886890                           -0.152554  \n",
      "std                               0.001142                            0.025123  \n",
      "min                               0.885917                           -0.180999  \n",
      "25%                               0.886163                           -0.170141  \n",
      "50%                               0.886423                           -0.158658  \n",
      "75%                               0.887205                           -0.128714  \n",
      "max                               0.888740                           -0.124258  \n"
     ]
    }
   ],
   "source": [
    "# Criar uma lista com os DataFrames a serem concatenados\n",
    "dataframes = [df_resultados_knn_clf, df_resultados_svm_clf, df_resultados_linear_svm_clf,\n",
    "              df_resultados_sgd_classifier, df_resultados_logistic_regression,\n",
    "              df_resultados_random_forest_classifier, df_resultados_decision_tree_regressor]\n",
    "\n",
    "# Concatenar os DataFrames ao longo do eixo das colunas (axis=1)\n",
    "resultados = pd.concat(dataframes, axis=1)\n",
    "\n",
    "# Exibir o resultado\n",
    "print(resultados.describe())"
   ]
  },
  {
   "cell_type": "markdown",
   "id": "dd90a7b0",
   "metadata": {},
   "source": [
    "## 5.4 - Aplicando as obras o melhor algoritmo"
   ]
  },
  {
   "cell_type": "code",
   "execution_count": 67,
   "id": "ae49319b",
   "metadata": {},
   "outputs": [],
   "source": [
    "# Selecionando y_obra e X_obra\n",
    "y_obra = acidente_obra['num_acidente']\n",
    "X_obra = acidente_obra[['mes', 'ano', 'br', 'uf', 'km_inicial', 'km_final', 'extensao']]"
   ]
  },
  {
   "cell_type": "code",
   "execution_count": 68,
   "id": "d53cc57c",
   "metadata": {},
   "outputs": [],
   "source": [
    "# OneHotEncoder\n",
    "# Obter todas as categorias possíveis da coluna \"uf\"\n",
    "uf_categories = df['uf'].unique()\n",
    "\n",
    "# Codificar as colunas \"uf\" usando OneHotEncoder e fornecer as categorias possíveis\n",
    "enc = OneHotEncoder(categories=[uf_categories], sparse=False, handle_unknown='ignore')\n",
    "X_obra_enc = enc.fit_transform(X_obra[['uf']])\n",
    "\n",
    "# Criar dataframes para as colunas codificadas\n",
    "uf_encoded = pd.DataFrame(X_obra_enc, index=X_obra.index, columns=[f'uf_{category}' for category in uf_categories])\n",
    "\n",
    "# Combinar as colunas codificadas com as outras variáveis independentes\n",
    "X_obra = pd.concat([X_obra.drop(columns=['uf']), uf_encoded], axis=1)\n",
    "\n",
    "# Remover a coluna \"uf_(null)\"\n",
    "X_obra = X_obra.drop(columns=['uf_(null)'])"
   ]
  },
  {
   "cell_type": "code",
   "execution_count": 69,
   "id": "ed36c492",
   "metadata": {},
   "outputs": [],
   "source": [
    "# StandardScaler\n",
    "scaler = StandardScaler()\n",
    "X_obra = scaler.fit_transform(X_obra) #troquei fit_transform por transform"
   ]
  },
  {
   "cell_type": "code",
   "execution_count": 70,
   "id": "e5dd6cd2",
   "metadata": {},
   "outputs": [
    {
     "name": "stdout",
     "output_type": "stream",
     "text": [
      "Acurácia: 77.14%\n",
      "Precisão: 70.71%\n",
      "Recall: 77.14%\n",
      "F1 Score: 73.14%\n"
     ]
    }
   ],
   "source": [
    "# Fazer previsões com o conjunto de teste\n",
    "y_obra_pred = clf.predict(X_obra)\n",
    "\n",
    "# Avaliar o desempenho do modelo\n",
    "print(\"Acurácia: {:.2f}%\".format(accuracy_score(y_obra, y_obra_pred)*100))\n",
    "print(\"Precisão: {:.2f}%\".format(precision_score(y_obra, y_obra_pred, average='weighted')*100))\n",
    "print(\"Recall: {:.2f}%\".format(recall_score(y_obra, y_obra_pred, average='weighted')*100))\n",
    "print(\"F1 Score: {:.2f}%\".format(f1_score(y_obra, y_obra_pred, average='weighted')*100))"
   ]
  },
  {
   "cell_type": "code",
   "execution_count": 71,
   "id": "50e994e5",
   "metadata": {},
   "outputs": [
    {
     "data": {
      "image/png": "[encoded data removed]",
      "text/plain": [
       "<Figure size 400x300 with 2 Axes>"
      ]
     },
     "metadata": {},
     "output_type": "display_data"
    }
   ],
   "source": [
    "# Calcular a matriz de confusão\n",
    "cm = confusion_matrix(y_obra, y_obra_pred)\n",
    "\n",
    "# Criar um gráfico de matriz de confusão\n",
    "plt.figure(figsize=(4, 3))\n",
    "sns.heatmap(cm, annot=True, cmap='Blues', fmt='g')\n",
    "plt.xlabel('Predito')\n",
    "plt.ylabel('Real')\n",
    "plt.title('Matriz de Confusão')\n",
    "plt.show()"
   ]
  },
  {
   "cell_type": "code",
   "execution_count": 72,
   "id": "f2ad90c1",
   "metadata": {},
   "outputs": [
    {
     "name": "stdout",
     "output_type": "stream",
     "text": [
      "      obra    mes_ano  uf   br  km_inicial  km_final  extensao  num_acidente  \\\n",
      "32    G002 2018-03-01  MG  267        62.0     98.70     36.70           2.0   \n",
      "36    G002 2018-07-01  MG  267        62.0     98.70     36.70           1.0   \n",
      "131   G004 2017-04-01  MG   50        65.5     77.00     11.50           1.0   \n",
      "162   G004 2019-11-01  MG   50        65.5     77.00     11.50           1.0   \n",
      "163   G004 2019-12-01  MG   50        65.5     77.00     11.50           1.0   \n",
      "164   G004 2020-01-01  MG   50        65.5     77.00     11.50           2.0   \n",
      "191   G005 2017-05-01  MG  262         0.0     72.20     72.20           1.0   \n",
      "197   G005 2017-11-01  MG  262         0.0     72.20     72.20           1.0   \n",
      "200   G005 2018-02-01  MG  262         0.0     72.20     72.20           1.0   \n",
      "226   G005 2020-04-01  MG  262         0.0     72.20     72.20           1.0   \n",
      "227   G005 2020-05-01  MG  262         0.0     72.20     72.20           1.0   \n",
      "230   G005 2020-08-01  MG  262         0.0     72.20     72.20           1.0   \n",
      "268   G007 2017-07-01  MG  116       609.1    704.20     95.10           1.0   \n",
      "304   G007 2020-07-01  MG  116       609.1    704.20     95.10           1.0   \n",
      "1512  Z158 2017-07-01  MG  365       708.9    793.40     84.50           1.0   \n",
      "1588  Z161 2017-12-01  MG  381       267.5    351.70     84.20           1.0   \n",
      "1782  Z170 2017-10-01  MG  116       374.1    471.30     97.20           1.0   \n",
      "1788  Z170 2018-04-01  MG  116       374.1    471.30     97.20           1.0   \n",
      "1799  Z170 2019-03-01  MG  116       374.1    471.30     97.20           1.0   \n",
      "1971  Z173 2017-01-01  MG  365       619.8    708.90     89.10           1.0   \n",
      "1972  Z173 2017-02-01  MG  365       619.8    708.90     89.10           1.0   \n",
      "1976  Z173 2017-06-01  MG  365       619.8    708.90     89.10           3.0   \n",
      "1977  Z173 2017-07-01  MG  365       619.8    708.90     89.10           1.0   \n",
      "1982  Z173 2017-12-01  MG  365       619.8    708.90     89.10           1.0   \n",
      "1985  Z173 2018-03-01  MG  365       619.8    708.90     89.10           1.0   \n",
      "1992  Z173 2018-10-01  MG  365       619.8    708.90     89.10           1.0   \n",
      "1994  Z173 2018-12-01  MG  365       619.8    708.90     89.10           2.0   \n",
      "1996  Z173 2019-02-01  MG  365       619.8    708.90     89.10           1.0   \n",
      "1999  Z173 2019-05-01  MG  365       619.8    708.90     89.10           1.0   \n",
      "2051  Z175 2018-06-01  MG  116       471.3    540.00     68.70           2.0   \n",
      "2070  Z175 2020-01-01  MG  116       471.3    540.00     68.70           1.0   \n",
      "2323  Z185 2017-02-01  MG  116       207.1    306.50     99.40           1.0   \n",
      "2325  Z185 2017-04-01  MG  116       207.1    306.50     99.40           1.0   \n",
      "2623  Z199 2019-04-01  MG  364         0.0     40.36     40.36           2.0   \n",
      "2672  Z205 2019-12-01  MG  381       149.0    264.70    115.70           2.0   \n",
      "\n",
      "      mes   ano  num_acidente_pred  \n",
      "32      3  2018                1.0  \n",
      "36      7  2018                1.0  \n",
      "131     4  2017                1.0  \n",
      "162    11  2019                1.0  \n",
      "163    12  2019                1.0  \n",
      "164     1  2020                1.0  \n",
      "191     5  2017                1.0  \n",
      "197    11  2017                1.0  \n",
      "200     2  2018                1.0  \n",
      "226     4  2020                1.0  \n",
      "227     5  2020                1.0  \n",
      "230     8  2020                1.0  \n",
      "268     7  2017                1.0  \n",
      "304     7  2020                1.0  \n",
      "1512    7  2017                1.0  \n",
      "1588   12  2017                1.0  \n",
      "1782   10  2017                1.0  \n",
      "1788    4  2018                1.0  \n",
      "1799    3  2019                1.0  \n",
      "1971    1  2017                1.0  \n",
      "1972    2  2017                1.0  \n",
      "1976    6  2017                1.0  \n",
      "1977    7  2017                1.0  \n",
      "1982   12  2017                1.0  \n",
      "1985    3  2018                1.0  \n",
      "1992   10  2018                1.0  \n",
      "1994   12  2018                1.0  \n",
      "1996    2  2019                1.0  \n",
      "1999    5  2019                1.0  \n",
      "2051    6  2018                1.0  \n",
      "2070    1  2020                1.0  \n",
      "2323    2  2017                2.0  \n",
      "2325    4  2017                2.0  \n",
      "2623    4  2019                1.0  \n",
      "2672   12  2019                2.0  \n"
     ]
    }
   ],
   "source": [
    "# Adicionar a coluna com as previsões na tabela\n",
    "acidente_obra['num_acidente_pred'] = y_obra_pred\n",
    "\n",
    "# Visualizar a tabela com as previsões\n",
    "print(acidente_obra)"
   ]
  }
 ],
 "metadata": {
  "kernelspec": {
   "display_name": "Python 3 (ipykernel)",
   "language": "python",
   "name": "python3"
  },
  "language_info": {
   "codemirror_mode": {
    "name": "ipython",
    "version": 3
   },
   "file_extension": ".py",
   "mimetype": "text/x-python",
   "name": "python",
   "nbconvert_exporter": "python",
   "pygments_lexer": "ipython3",
   "version": "3.9.13"
  }
 },
 "nbformat": 4,
 "nbformat_minor": 5
}
