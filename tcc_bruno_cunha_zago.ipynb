{
 "cells": [
  {
   "cell_type": "markdown",
   "id": "e5fcf991",
   "metadata": {},
   "source": [
    "# TCC Bruno Cunha Zago - Ciência de Dados e Big Data - PUC Minas"
   ]
  },
  {
   "cell_type": "markdown",
   "id": "edd2d28a",
   "metadata": {},
   "source": [
    "## USO DE MACHINE LEARNING PARA PREVER ACIDENTES EM RODOVIAS BRASILEIRAS COM FOCO EM CONTRATOS DE MANUTENÇÃO"
   ]
  },
  {
   "cell_type": "markdown",
   "id": "362c2c49",
   "metadata": {},
   "source": [
    "# 1 - Importando bibliotecas"
   ]
  },
  {
   "cell_type": "code",
   "execution_count": 1,
   "id": "0ed2115e",
   "metadata": {},
   "outputs": [],
   "source": [
    "#Carregamento de bibliotecas gerais\n",
    "import requests\n",
    "import zipfile\n",
    "import io\n",
    "import pandas as pd\n",
    "import xlrd\n",
    "import calendar\n",
    "import numpy as np\n",
    "import seaborn as sns\n",
    "import matplotlib.pyplot as plt\n",
    "import warnings\n",
    "from dateutil import rrule, parser\n",
    "from datetime import datetime\n",
    "from sklearn.model_selection import train_test_split, GridSearchCV, KFold, cross_val_score\n",
    "from sklearn.neighbors import KNeighborsClassifier\n",
    "from sklearn.preprocessing import StandardScaler, OneHotEncoder, LabelEncoder\n",
    "from sklearn.metrics import accuracy_score, precision_score, recall_score, f1_score, log_loss, confusion_matrix\n",
    "from sklearn.linear_model import SGDClassifier, LogisticRegression, LinearRegression\n",
    "from sklearn.ensemble import RandomForestClassifier, RandomForestRegressor\n",
    "from sklearn.svm import LinearSVC, SVC\n",
    "from sklearn.tree import DecisionTreeRegressor\n",
    "\n",
    "# Desativar FutureWarnings\n",
    "warnings.filterwarnings('ignore')"
   ]
  },
  {
   "cell_type": "markdown",
   "id": "1fe845ca",
   "metadata": {},
   "source": [
    "# 1 - Definição do Problema"
   ]
  },
  {
   "cell_type": "markdown",
   "id": "faaad88d",
   "metadata": {},
   "source": [
    "O objetivo é utilizar dados do DATATRAN e do SNV para prever o número de acidentes em rodovias federais causados por problemas na via e identificar padrões de ocorrência de acidentes em rodovias brasileiras.\n",
    "\n",
    "Em seguida, pretende-se estudar modelos de machine learning para estimar o número de acidentes por meio dos dados de contratos de manutenção rodoviária. Para isso, cada segmento do SNV será avaliado para determinar o número de acidentes em cada um deles.\n",
    "\n",
    "O objetivo final é criar uma ferramenta que estima o número de acidentes com base nos dados de contratos de manutenção. Isso permitirá identificar quais segmentos apresentam maior número de acidentes e, assim, propor ações preventivas em locais específicos, auxiliando o DNIT e as empresas contratadas na tomada de decisão quanto à alocação de recursos e ações preventivas em trechos de rodovias que apresentam maior risco de acidentes."
   ]
  },
  {
   "cell_type": "markdown",
   "id": "be7683ed",
   "metadata": {},
   "source": [
    "# 2 - Coleta de Dados"
   ]
  },
  {
   "cell_type": "markdown",
   "id": "a79ca1bb",
   "metadata": {},
   "source": [
    "# 2.1 - Base de Acidentes (tabela datatran)"
   ]
  },
  {
   "cell_type": "code",
   "execution_count": 2,
   "id": "af77bb06",
   "metadata": {},
   "outputs": [],
   "source": [
    "# Baixando e extraindo o arquivo\n",
    "extract_path = r\"C:\\Users\\bcz87\" #caminho de extração\n",
    "urls = [\n",
    "    \"https://drive.google.com/u/0/uc?id=1PRQjuV5gOn_nn6UNvaJyVURDIfbSAK4-&export=download\",\n",
    "    \"https://drive.google.com/u/0/uc?id=12xH8LX9aN2gObR766YN3cMcuycwyCJDz&export=download\",\n",
    "    \"https://drive.google.com/u/0/uc?id=1esu6IiH5TVTxFoedv6DBGDd01Gvi8785&export=download\",\n",
    "    \"https://drive.google.com/u/0/uc?id=1pN3fn2wY34GH6cY-gKfbxRJJBFE0lb_l&export=download\",\n",
    "    \"https://drive.google.com/u/0/uc?id=1cM4IgGMIiR-u4gBIH5IEe3DcvBvUzedi&export=download\",\n",
    "    \"https://drive.google.com/u/0/uc?id=1HPLWt5f_l4RIX3tKjI4tUXyZOev52W0N&export=download\",\n",
    "    \"https://drive.google.com/u/0/uc?id=16qooQl_ySoW61CrtsBbreBVNPYlEkoYm&export=download\",\n",
    "    \"https://drive.google.com/u/0/uc?id=1DyqR5FFcwGsamSag-fGm13feQt0Y-3Da&export=download\",\n",
    "    \"https://drive.google.com/u/0/uc?id=1FpF5wTBsRDkEhLm3z2g8XDiXr9SO9Uk8&export=download\",\n",
    "    \"https://drive.google.com/u/0/uc?id=1p_7lw9RzkINfscYAZSmc-Z9Ci4ZPJyEr&export=download\",\n",
    "    \"https://drive.google.com/u/0/uc?id=18Yz2prqKSLthrMmW-73vrOiDmKTCL6xE&export=download\",\n",
    "    \"https://drive.google.com/u/0/uc?id=1HHhgLF-kSR6Gde2qOaTXL3T5ieD33hpG&export=download\",\n",
    "    \"https://drive.google.com/u/0/uc?id=1_yU6FRh8M7USjiChQwyF20NtY48GTmEX&export=download\",\n",
    "    \"https://drive.google.com/u/0/uc?id=1qkVatg0pC_zosuBs0NCSgEXDJvBbnTYC&export=download\",\n",
    "    \"https://drive.google.com/u/0/uc?id=1_OSeHlyKJw8cIhMS_JzSg1RlYX8k6vSG&export=download\",\n",
    "    \"https://drive.google.com/u/0/uc?id=1EFpZF5F6cB0DOHd2Uxnj7X948WE69a8e&export=download\"\n",
    "]\n",
    "file_names = [\n",
    "    \"datatran2022.zip\",\n",
    "    \"datatran2021.zip\",\n",
    "    \"datatran2020.zip\",\n",
    "    \"datatran2019.zip\",\n",
    "    \"datatran2018.zip\",\n",
    "    \"datatran2017.zip\",\n",
    "    \"datatran2016.zip\",\n",
    "    \"datatran2015.zip\",\n",
    "    \"datatran2014.zip\",\n",
    "    \"datatran2013.zip\",\n",
    "    \"datatran2012.zip\",\n",
    "    \"datatran2011.zip\",\n",
    "    \"datatran2010.zip\",\n",
    "    \"datatran2009.zip\",\n",
    "    \"datatran2008.zip\",\n",
    "    \"datatran2007.zip\"\n",
    "]\n",
    "\n",
    "for url, file_name in zip(urls, file_names):\n",
    "    response = requests.get(url)\n",
    "    open(file_name, \"wb\").write(response.content)\n",
    "    \n",
    "    with zipfile.ZipFile(file_name, 'r') as zip_ref:\n",
    "        zip_ref.extractall(extract_path)"
   ]
  },
  {
   "cell_type": "code",
   "execution_count": 3,
   "id": "902d106d",
   "metadata": {},
   "outputs": [
    {
     "name": "stdout",
     "output_type": "stream",
     "text": [
      "         id data_inversa dia_semana   horario  uf     br     km  \\\n",
      "0  405151.0   2022-01-01     sábado  01:35:00  PI  316.0  415.0   \n",
      "1  405158.0   2022-01-01     sábado  02:40:00  PR  116.0   33.0   \n",
      "2  405172.0   2022-01-01     sábado  05:22:00  MS  163.0  393.0   \n",
      "3  405203.0   2022-01-01     sábado  07:00:00  RJ  101.0  457.0   \n",
      "4  405207.0   2022-01-01     sábado  09:00:00  MG   40.0  508.3   \n",
      "\n",
      "               municipio                                     causa_acidente  \\\n",
      "0            MARCOLANDIA                   Ingestão de álcool pelo condutor   \n",
      "1  CAMPINA GRANDE DO SUL                   Ingestão de álcool pelo condutor   \n",
      "2   NOVA ALVORADA DO SUL  Condutor deixou de manter distância do veículo...   \n",
      "3         ANGRA DOS REIS           Reação tardia ou ineficiente do condutor   \n",
      "4     RIBEIRAO DAS NEVES                  Acumulo de água sobre o pavimento   \n",
      "\n",
      "               tipo_acidente  ... ilesos ignorados feridos veiculos  \\\n",
      "0           Colisão traseira  ...      1         0       1        2   \n",
      "1                 Tombamento  ...      0         0       1        1   \n",
      "2           Colisão traseira  ...      1         0       1        2   \n",
      "3            Colisão frontal  ...      1         0       1        2   \n",
      "4  Saída de leito carroçável  ...      3         0       0        1   \n",
      "\n",
      "    latitude  longitude regional  delegacia             uop  ano  \n",
      "0    -7.4328 -40.682619  SPRF-PI   DEL04-PI  UOP03-DEL04-PI  NaN  \n",
      "1 -25.114403 -48.846755  SPRF-PR   DEL01-PR  UOP02-DEL01-PR  NaN  \n",
      "2 -21.228445 -54.456296  SPRF-MS   DEL02-MS  UOP01-DEL02-MS  NaN  \n",
      "3 -23.031498 -44.177153  SPRF-RJ   DEL03-RJ  UOP02-DEL03-RJ  NaN  \n",
      "4 -19.760612 -44.134754  SPRF-MG   DEL02-MG  UOP01-DEL02-MG  NaN  \n",
      "\n",
      "[5 rows x 31 columns]\n"
     ]
    }
   ],
   "source": [
    "# Carregando arquivo\n",
    "# Lista com o nome dos arquivos\n",
    "file_names = ['datatran2022.csv', 'datatran2021.csv', 'datatran2020.csv', 'datatran2019.csv',\n",
    "              'datatran2018.csv', 'datatran2017.csv', 'datatran2016.csv', 'datatran2015.csv',\n",
    "              'datatran2014.csv', 'datatran2013.csv', 'datatran2012.csv', 'datatran2011.csv',\n",
    "              'datatran2010.csv', 'datatran2009.csv', 'datatran2008.csv', 'datatran2007.csv']\n",
    "\n",
    "# Caminho dos arquivos\n",
    "path = r\"C:\\\\Users\\\\bcz87\\\\\"\n",
    "\n",
    "# Lista para armazenar os dataframes\n",
    "dfs = []\n",
    "\n",
    "# Loop para ler cada arquivo e armazená-lo na lista dfs\n",
    "for file in file_names:\n",
    "    df = pd.read_csv(path + file, sep=';', decimal=',', encoding = 'cp1252', low_memory=False)\n",
    "    dfs.append(df)\n",
    "\n",
    "# Concatenação dos dataframes na mesma tabela\n",
    "datatran = pd.concat(dfs, ignore_index=True)\n",
    "\n",
    "# Exibir as primeiras linhas da tabela\n",
    "print(datatran.head())"
   ]
  },
  {
   "cell_type": "code",
   "execution_count": 4,
   "id": "946db607",
   "metadata": {},
   "outputs": [
    {
     "name": "stdout",
     "output_type": "stream",
     "text": [
      "<class 'pandas.core.frame.DataFrame'>\n",
      "RangeIndex: 1981217 entries, 0 to 1981216\n",
      "Data columns (total 31 columns):\n",
      " #   Column                  Dtype  \n",
      "---  ------                  -----  \n",
      " 0   id                      float64\n",
      " 1   data_inversa            object \n",
      " 2   dia_semana              object \n",
      " 3   horario                 object \n",
      " 4   uf                      object \n",
      " 5   br                      object \n",
      " 6   km                      object \n",
      " 7   municipio               object \n",
      " 8   causa_acidente          object \n",
      " 9   tipo_acidente           object \n",
      " 10  classificacao_acidente  object \n",
      " 11  fase_dia                object \n",
      " 12  sentido_via             object \n",
      " 13  condicao_metereologica  object \n",
      " 14  tipo_pista              object \n",
      " 15  tracado_via             object \n",
      " 16  uso_solo                object \n",
      " 17  pessoas                 int64  \n",
      " 18  mortos                  int64  \n",
      " 19  feridos_leves           int64  \n",
      " 20  feridos_graves          int64  \n",
      " 21  ilesos                  int64  \n",
      " 22  ignorados               int64  \n",
      " 23  feridos                 int64  \n",
      " 24  veiculos                int64  \n",
      " 25  latitude                object \n",
      " 26  longitude               object \n",
      " 27  regional                object \n",
      " 28  delegacia               object \n",
      " 29  uop                     object \n",
      " 30  ano                     float64\n",
      "dtypes: float64(2), int64(8), object(21)\n",
      "memory usage: 468.6+ MB\n"
     ]
    }
   ],
   "source": [
    "# Exibindo informações\n",
    "datatran.info()"
   ]
  },
  {
   "cell_type": "code",
   "execution_count": 5,
   "id": "ea58f577",
   "metadata": {},
   "outputs": [],
   "source": [
    "# Convertendo a coluna br para números decimais\n",
    "datatran['br'] = pd.to_numeric(datatran['br'], errors='coerce')\n",
    "\n",
    "# Retirando linhas que contêm valores NaN da coluna br\n",
    "datatran = datatran.dropna(subset=['br'])\n",
    "\n",
    "# Convertendo a coluna br para números inteiros\n",
    "datatran['br'] = datatran['br'].astype(int)\n",
    "\n",
    "# Convertendo a coluna km para números decimais\n",
    "datatran['km'] = pd.to_numeric(datatran['km'], errors='coerce')\n",
    "\n",
    "# Retirando linhas que contêm valores NaN da coluna km\n",
    "datatran = datatran.dropna(subset=['km'])\n",
    "\n",
    "# converter a coluna 'data_inversa' para o tipo datetime\n",
    "datatran['data_inversa'] = pd.to_datetime(datatran['data_inversa'])"
   ]
  },
  {
   "cell_type": "code",
   "execution_count": 6,
   "id": "6f6d70dc",
   "metadata": {
    "scrolled": false
   },
   "outputs": [
    {
     "name": "stdout",
     "output_type": "stream",
     "text": [
      "<class 'pandas.core.frame.DataFrame'>\n",
      "Int64Index: 1980323 entries, 0 to 1981216\n",
      "Data columns (total 31 columns):\n",
      " #   Column                  Dtype         \n",
      "---  ------                  -----         \n",
      " 0   id                      float64       \n",
      " 1   data_inversa            datetime64[ns]\n",
      " 2   dia_semana              object        \n",
      " 3   horario                 object        \n",
      " 4   uf                      object        \n",
      " 5   br                      int32         \n",
      " 6   km                      float64       \n",
      " 7   municipio               object        \n",
      " 8   causa_acidente          object        \n",
      " 9   tipo_acidente           object        \n",
      " 10  classificacao_acidente  object        \n",
      " 11  fase_dia                object        \n",
      " 12  sentido_via             object        \n",
      " 13  condicao_metereologica  object        \n",
      " 14  tipo_pista              object        \n",
      " 15  tracado_via             object        \n",
      " 16  uso_solo                object        \n",
      " 17  pessoas                 int64         \n",
      " 18  mortos                  int64         \n",
      " 19  feridos_leves           int64         \n",
      " 20  feridos_graves          int64         \n",
      " 21  ilesos                  int64         \n",
      " 22  ignorados               int64         \n",
      " 23  feridos                 int64         \n",
      " 24  veiculos                int64         \n",
      " 25  latitude                object        \n",
      " 26  longitude               object        \n",
      " 27  regional                object        \n",
      " 28  delegacia               object        \n",
      " 29  uop                     object        \n",
      " 30  ano                     float64       \n",
      "dtypes: datetime64[ns](1), float64(3), int32(1), int64(8), object(18)\n",
      "memory usage: 475.9+ MB\n"
     ]
    }
   ],
   "source": [
    "# Exibindo informações\n",
    "datatran.info()"
   ]
  },
  {
   "cell_type": "code",
   "execution_count": 7,
   "id": "7cd82300",
   "metadata": {},
   "outputs": [
    {
     "name": "stdout",
     "output_type": "stream",
     "text": [
      "['Ingestão de álcool pelo condutor'\n",
      " 'Condutor deixou de manter distância do veículo da frente'\n",
      " 'Reação tardia ou ineficiente do condutor'\n",
      " 'Acumulo de água sobre o pavimento' 'Mal súbito do condutor' 'Chuva'\n",
      " 'Ausência de reação do condutor' 'Manobra de mudança de faixa'\n",
      " 'Pista Escorregadia' 'Ausência de sinalização' 'Condutor Dormindo'\n",
      " 'Velocidade Incompatível'\n",
      " 'Acessar a via sem observar a presença dos outros veículos'\n",
      " 'Conversão proibida' 'Transitar na contramão' 'Ultrapassagem Indevida'\n",
      " 'Desrespeitar a preferência no cruzamento' 'Acostamento em desnível'\n",
      " 'Demais falhas mecânicas ou elétricas'\n",
      " 'Carga excessiva e/ou mal acondicionada' 'Problema com o freio'\n",
      " 'Ingestão de álcool e/ou substâncias psicoativas pelo pedestre'\n",
      " 'Curva acentuada' 'Estacionar ou parar em local proibido'\n",
      " 'Avarias e/ou desgaste excessivo no pneu'\n",
      " 'Pedestre cruzava a pista fora da faixa' 'Obstrução na via'\n",
      " 'Acesso irregular' 'Pista esburacada' 'Animais na Pista'\n",
      " 'Falta de acostamento' 'Entrada inopinada do pedestre'\n",
      " 'Acumulo de areia ou detritos sobre o pavimento'\n",
      " 'Pedestre andava na pista' 'Desvio temporário' 'Transitar no acostamento'\n",
      " 'Problema na suspensão' 'Objeto estático sobre o leito carroçável'\n",
      " 'Deficiência do Sistema de Iluminação/Sinalização'\n",
      " 'Trafegar com motocicleta (ou similar) entre as faixas'\n",
      " 'Condutor usando celular'\n",
      " 'Restrição de visibilidade em curvas horizontais'\n",
      " 'Ingestão de álcool ou de substâncias psicoativas pelo pedestre'\n",
      " 'Declive acentuado' 'Frear bruscamente' 'Iluminação deficiente'\n",
      " 'Área urbana sem a presença de local apropriado para a travessia de pedestres'\n",
      " 'Demais Fenômenos da natureza' 'Demais falhas na via'\n",
      " 'Faixas de trânsito com largura insuficiente' 'Obras na pista'\n",
      " 'Retorno proibido' 'Afundamento ou ondulação no pavimento'\n",
      " 'Falta de elemento de contenção que evite a saída do leito carroçável'\n",
      " 'Ingestão de substâncias psicoativas pelo condutor' 'Neblina'\n",
      " 'Condutor desrespeitou a iluminação vermelha do semáforo'\n",
      " 'Sistema de drenagem ineficiente' 'Acumulo de óleo sobre o pavimento'\n",
      " 'Sinalização mal posicionada' 'Pista em desnível' 'Transitar na calçada'\n",
      " 'Fumaça' 'Redutor de velocidade em desacordo'\n",
      " 'Deixar de acionar o farol da motocicleta (ou similar)'\n",
      " 'Restrição de visibilidade em curvas verticais' 'Semáforo com defeito'\n",
      " 'Faróis desregulados' 'Modificação proibida' 'Participar de racha'\n",
      " 'Sinalização encoberta' 'Falta de Atenção à Condução'\n",
      " 'Não guardar distância de segurança' 'Defeito Mecânico no Veículo'\n",
      " 'Desobediência às normas de trânsito pelo condutor' 'Ingestão de Álcool'\n",
      " 'Mal Súbito' 'Agressão Externa' 'Falta de Atenção do Pedestre'\n",
      " 'Defeito na Via' 'Desobediência às normas de trânsito pelo pedestre'\n",
      " 'Fenômenos da Natureza' 'Restrição de Visibilidade'\n",
      " 'Ingestão de Substâncias Psicoativas'\n",
      " 'Deficiência ou não Acionamento do Sistema de Iluminação/Sinalização do Veículo'\n",
      " 'Sinalização da via insuficiente ou inadequada' 'Outras'\n",
      " 'Falta de atenção' 'Ingestão de álcool' 'Velocidade incompatível'\n",
      " 'Ultrapassagem indevida' 'Dormindo' 'Desobediência à sinalização'\n",
      " 'Defeito mecânico em veículo' 'Defeito na via' '(null)']\n"
     ]
    }
   ],
   "source": [
    "# Valores únicos da coluna causa_acidente\n",
    "print(datatran['causa_acidente'].unique())"
   ]
  },
  {
   "cell_type": "code",
   "execution_count": 8,
   "id": "ec9e13f7",
   "metadata": {},
   "outputs": [
    {
     "name": "stdout",
     "output_type": "stream",
     "text": [
      "          id data_inversa dia_semana   horario  uf   br     km  \\\n",
      "6   405221.0   2022-01-01     sábado  10:20:00  MG   40  452.2   \n",
      "14  405298.0   2022-01-01     sábado  18:45:00  MG  365  101.0   \n",
      "17  405338.0   2022-01-02    domingo  00:00:00  BA  101  177.0   \n",
      "29  405460.0   2022-01-02    domingo  16:00:00  DF   60   15.1   \n",
      "31  405498.0   2022-01-02    domingo  16:00:00  SP  116  566.0   \n",
      "\n",
      "                 municipio           causa_acidente  \\\n",
      "6             CAETANOPOLIS                    Chuva   \n",
      "14                JEQUITAI       Pista Escorregadia   \n",
      "17  SAO GONCALO DOS CAMPOS  Ausência de sinalização   \n",
      "29                BRASILIA                    Chuva   \n",
      "31          BARRA DO TURVO       Pista Escorregadia   \n",
      "\n",
      "                    tipo_acidente  ... ilesos ignorados feridos veiculos  \\\n",
      "6   Colisão lateral mesmo sentido  ...      2         0       1        2   \n",
      "14             Colisão com objeto  ...      0         0       1        1   \n",
      "17                Colisão frontal  ...      1         1       1        3   \n",
      "29               Colisão traseira  ...      2         0       1        2   \n",
      "31               Colisão traseira  ...      0         0       3        2   \n",
      "\n",
      "     latitude  longitude regional  delegacia             uop  ano  \n",
      "6  -19.333821 -44.361079  SPRF-MG   DEL02-MG  UOP01-DEL02-MG  NaN  \n",
      "14 -17.224282 -44.534234  SPRF-MG   DEL12-MG  UOP01-DEL12-MG  NaN  \n",
      "17 -12.519078 -38.970829  SPRF-BA   DEL01-BA  UOP03-DEL01-BA  NaN  \n",
      "29 -15.943619 -48.172115  SPRF-DF   DEL01-DF  UOP02-DEL01-DF  NaN  \n",
      "31 -25.041697 -48.549812  SPRF-SP   DEL05-SP  UOP02-DEL05-SP  NaN  \n",
      "\n",
      "[5 rows x 31 columns]\n",
      "\n",
      "\n",
      "Animais na Pista                                 51469\n",
      "Pista Escorregadia                               12264\n",
      "Defeito na Via                                    4464\n",
      "Objeto estático sobre o leito carroçável          2893\n",
      "Chuva                                             2420\n",
      "Restrição de Visibilidade                         2385\n",
      "Fenômenos da Natureza                             1198\n",
      "Sinalização da via insuficiente ou inadequada     1183\n",
      "Ausência de sinalização                            369\n",
      "Name: causa_acidente, dtype: int64\n"
     ]
    }
   ],
   "source": [
    "# Seleção das causas de acidentes relacionadas a via\n",
    "causas = ['Animais na Pista',\n",
    "          'Defeito na Via',\n",
    "          'Fenômenos da Natureza',\n",
    "          'Objeto estático sobre o leito carroçável',\n",
    "          'Pista Escorregadia',\n",
    "          'Restrição de Visibilidade',\n",
    "          'Sinalização da via insuficiente ou inadequada',\n",
    "          'Ausência de sinalização',\n",
    "          'Chuva']\n",
    "\n",
    "# Filtro da tabela datatran pelas causas selecionadas\n",
    "datatran = datatran[datatran['causa_acidente'].isin(causas)]\n",
    "\n",
    "# Exibindo informações\n",
    "print(datatran.head())\n",
    "print('\\n')\n",
    "print(datatran['causa_acidente'].value_counts())"
   ]
  },
  {
   "cell_type": "code",
   "execution_count": 9,
   "id": "8c5e5057",
   "metadata": {},
   "outputs": [
    {
     "name": "stdout",
     "output_type": "stream",
     "text": [
      "          id data_inversa dia_semana   horario  uf   br     km  \\\n",
      "6   405221.0   2022-01-01     sábado  10:20:00  MG   40  452.2   \n",
      "14  405298.0   2022-01-01     sábado  18:45:00  MG  365  101.0   \n",
      "17  405338.0   2022-01-02    domingo  00:00:00  BA  101  177.0   \n",
      "29  405460.0   2022-01-02    domingo  16:00:00  DF   60   15.1   \n",
      "31  405498.0   2022-01-02    domingo  16:00:00  SP  116  566.0   \n",
      "\n",
      "                 municipio           causa_acidente  \\\n",
      "6             CAETANOPOLIS                    Chuva   \n",
      "14                JEQUITAI       Pista Escorregadia   \n",
      "17  SAO GONCALO DOS CAMPOS  Ausência de sinalização   \n",
      "29                BRASILIA                    Chuva   \n",
      "31          BARRA DO TURVO       Pista Escorregadia   \n",
      "\n",
      "                    tipo_acidente  ... ignorados feridos veiculos   latitude  \\\n",
      "6   Colisão lateral mesmo sentido  ...         0       1        2 -19.333821   \n",
      "14             Colisão com objeto  ...         0       1        1 -17.224282   \n",
      "17                Colisão frontal  ...         1       1        3 -12.519078   \n",
      "29               Colisão traseira  ...         0       1        2 -15.943619   \n",
      "31               Colisão traseira  ...         0       3        2 -25.041697   \n",
      "\n",
      "    longitude regional delegacia             uop  ano  mes_ano  \n",
      "6  -44.361079  SPRF-MG  DEL02-MG  UOP01-DEL02-MG  NaN  01/2022  \n",
      "14 -44.534234  SPRF-MG  DEL12-MG  UOP01-DEL12-MG  NaN  01/2022  \n",
      "17 -38.970829  SPRF-BA  DEL01-BA  UOP03-DEL01-BA  NaN  01/2022  \n",
      "29 -48.172115  SPRF-DF  DEL01-DF  UOP02-DEL01-DF  NaN  01/2022  \n",
      "31 -48.549812  SPRF-SP  DEL05-SP  UOP02-DEL05-SP  NaN  01/2022  \n",
      "\n",
      "[5 rows x 32 columns]\n"
     ]
    }
   ],
   "source": [
    "# Definindo períodos mensais\n",
    "datatran['mes_ano'] = datatran['data_inversa'].dt.strftime('%m/%Y')\n",
    "\n",
    "# Exibir as primeiras linhas da tabela\n",
    "print(datatran.head())"
   ]
  },
  {
   "cell_type": "code",
   "execution_count": 10,
   "id": "d06491b3",
   "metadata": {},
   "outputs": [],
   "source": [
    "# Salvando o arquivo concatenado em .csv\n",
    "datatran.to_csv(r\"C:\\Users\\bcz87\\datatran.csv\", index=False, sep=';', decimal=',', encoding = 'cp1252')"
   ]
  },
  {
   "cell_type": "markdown",
   "id": "50261675",
   "metadata": {},
   "source": [
    "## 2.2 - Base do SNV (tabela snv)"
   ]
  },
  {
   "cell_type": "code",
   "execution_count": 11,
   "id": "211c8582",
   "metadata": {},
   "outputs": [],
   "source": [
    "# Baixando o arquivo\n",
    "url = \"https://servicos.dnit.gov.br/dnitcloud/index.php/s/TYqwT6cQ2b7Tq5Q/download\"\n",
    "file_name = \"pub_202301B.zip\"\n",
    "\n",
    "r = requests.get(url)\n",
    "z = zipfile.ZipFile(io.BytesIO(r.content))\n",
    "z.extractall()"
   ]
  },
  {
   "cell_type": "code",
   "execution_count": 12,
   "id": "979702db",
   "metadata": {},
   "outputs": [
    {
     "name": "stdout",
     "output_type": "stream",
     "text": [
      "   BR UF   Tipo de trecho Desc Coinc      Código  \\\n",
      "0  10  DF  Eixo Principal          -  010BDF0010   \n",
      "1  10  DF  Eixo Principal          -  010BDF0015   \n",
      "2  10  DF  Eixo Principal          -  010BDF0016   \n",
      "3  10  DF  Eixo Principal          -  010BDF0018   \n",
      "4  10  DF  Eixo Principal          -  010BDF0020   \n",
      "\n",
      "                               Local de Início          Local de Fim  \\\n",
      "0  ENTR BR-020(A)/030(A)/450/DF-001 (BRASÍLIA)           ENTR DF-440   \n",
      "1                                  ENTR DF-440   ACESSO I SOBRADINHO   \n",
      "2                          ACESSO I SOBRADINHO  ACESSO II SOBRADINHO   \n",
      "3                         ACESSO II SOBRADINHO           ENTR DF-230   \n",
      "4                                  ENTR DF-230           ENTR DF-128   \n",
      "\n",
      "   km inicial  km final  Extensão Superfície Federal Obras  \\\n",
      "0         0.0       2.4       2.4                DUP   NaN   \n",
      "1         2.4       6.0       3.6                DUP   NaN   \n",
      "2         6.0       8.3       2.3                DUP   NaN   \n",
      "3         8.3      18.2       9.9                DUP   NaN   \n",
      "4        18.2      22.0       3.8                DUP   NaN   \n",
      "\n",
      "                Federal Coincidente                  Administração  Ato legal  \\\n",
      "0  010BDF0010;020BDF0010;030BDF0010  Convênio Adm.Federal/Estadual        NaN   \n",
      "1  010BDF0015;020BDF0015;030BDF0015  Convênio Adm.Federal/Estadual        NaN   \n",
      "2  010BDF0016;020BDF0016;030BDF0016  Convênio Adm.Federal/Estadual        NaN   \n",
      "3  010BDF0018;020BDF0018;030BDF0018  Convênio Adm.Federal/Estadual        NaN   \n",
      "4  010BDF0020;020BDF0020;030BDF0020  Convênio Adm.Federal/Estadual        NaN   \n",
      "\n",
      "  Estadual Coincidente Superfície Est. Coincidente Jurisdição Superfície  \\\n",
      "0                  NaN                         NaN    Federal        PAV   \n",
      "1                  NaN                         NaN    Federal        PAV   \n",
      "2                  NaN                         NaN    Federal        PAV   \n",
      "3                  NaN                         NaN    Federal        PAV   \n",
      "4                  NaN                         NaN    Federal        PAV   \n",
      "\n",
      "  Unidade Local  \n",
      "0      Brasília  \n",
      "1      Brasília  \n",
      "2      Brasília  \n",
      "3      Brasília  \n",
      "4      Brasília  \n"
     ]
    }
   ],
   "source": [
    "# Lendo o arquivo\n",
    "arquivo = \"C:\\\\Users\\\\bcz87\\\\pub_202301B\\\\SNV_202301B.xls\"\n",
    "snv = pd.read_excel(arquivo, skiprows=[0, 1])\n",
    "\n",
    "# Exibir as primeiras linhas da tabela\n",
    "print(snv.head())"
   ]
  },
  {
   "cell_type": "code",
   "execution_count": 13,
   "id": "70bb61a3",
   "metadata": {},
   "outputs": [
    {
     "name": "stdout",
     "output_type": "stream",
     "text": [
      "<class 'pandas.core.frame.DataFrame'>\n",
      "RangeIndex: 7429 entries, 0 to 7428\n",
      "Data columns (total 20 columns):\n",
      " #   Column                       Non-Null Count  Dtype  \n",
      "---  ------                       --------------  -----  \n",
      " 0   BR                           7429 non-null   int64  \n",
      " 1   UF                           7429 non-null   object \n",
      " 2   Tipo de trecho               7429 non-null   object \n",
      " 3   Desc Coinc                   7429 non-null   object \n",
      " 4   Código                       7429 non-null   object \n",
      " 5   Local de Início              7429 non-null   object \n",
      " 6   Local de Fim                 7429 non-null   object \n",
      " 7   km inicial                   7429 non-null   float64\n",
      " 8   km final                     7429 non-null   float64\n",
      " 9   Extensão                     7429 non-null   float64\n",
      " 10  Superfície Federal           7429 non-null   object \n",
      " 11  Obras                        210 non-null    object \n",
      " 12  Federal Coincidente          7429 non-null   object \n",
      " 13  Administração                7429 non-null   object \n",
      " 14  Ato legal                    0 non-null      float64\n",
      " 15  Estadual Coincidente         1554 non-null   object \n",
      " 16  Superfície Est. Coincidente  1551 non-null   object \n",
      " 17  Jurisdição                   7429 non-null   object \n",
      " 18  Superfície                   7429 non-null   object \n",
      " 19  Unidade Local                5243 non-null   object \n",
      "dtypes: float64(4), int64(1), object(15)\n",
      "memory usage: 1.1+ MB\n"
     ]
    }
   ],
   "source": [
    "# Exibindo informações\n",
    "snv.info()"
   ]
  },
  {
   "cell_type": "code",
   "execution_count": 14,
   "id": "ad0199cc",
   "metadata": {},
   "outputs": [],
   "source": [
    "# Renomeando colunas\n",
    "snv = snv.rename(columns={\"BR\": \"br\",\n",
    "                          \"UF \": \"uf\",\n",
    "                          \"km inicial\": \"km_inicial\",\n",
    "                          \"km final\": \"km_final\",\n",
    "                          \"Código\": \"codigo\",\n",
    "                          \"Extensão\": \"extensao\"})"
   ]
  },
  {
   "cell_type": "code",
   "execution_count": 15,
   "id": "94ced8a2",
   "metadata": {},
   "outputs": [
    {
     "name": "stdout",
     "output_type": "stream",
     "text": [
      "['Eixo Principal' 'Acesso' 'Contorno' 'Travessia Urbana' 'Variante' 'Anel']\n"
     ]
    }
   ],
   "source": [
    "# Valores únicos da coluna Tipo de trecho\n",
    "print(snv['Tipo de trecho'].unique())"
   ]
  },
  {
   "cell_type": "code",
   "execution_count": 16,
   "id": "33696ece",
   "metadata": {},
   "outputs": [
    {
     "name": "stdout",
     "output_type": "stream",
     "text": [
      "Eixo Principal      6987\n",
      "Acesso               165\n",
      "Contorno             153\n",
      "Anel                  48\n",
      "Variante              44\n",
      "Travessia Urbana      32\n",
      "Name: Tipo de trecho, dtype: int64\n",
      "/n\n",
      "Eixo Principal      0.940503\n",
      "Acesso              0.022210\n",
      "Contorno            0.020595\n",
      "Anel                0.006461\n",
      "Variante            0.005923\n",
      "Travessia Urbana    0.004307\n",
      "Name: Tipo de trecho, dtype: float64\n"
     ]
    }
   ],
   "source": [
    "print(snv[\"Tipo de trecho\"].value_counts())\n",
    "print('/n')\n",
    "print(snv[\"Tipo de trecho\"].value_counts(normalize=True))"
   ]
  },
  {
   "cell_type": "code",
   "execution_count": 17,
   "id": "b802d737",
   "metadata": {},
   "outputs": [],
   "source": [
    "# Filtro da tabela snv pelo trecho do tipo Eixo Princiapl\n",
    "snv = snv[snv[\"Tipo de trecho\"] == \"Eixo Principal\"]"
   ]
  },
  {
   "cell_type": "code",
   "execution_count": 18,
   "id": "04913340",
   "metadata": {},
   "outputs": [],
   "source": [
    "# Salvar o resultado em um novo arquivo CSV\n",
    "snv.to_csv('snv.csv', index=False, sep=';', decimal=',', encoding = 'cp1252')"
   ]
  },
  {
   "cell_type": "markdown",
   "id": "11877026",
   "metadata": {},
   "source": [
    "## 2.3 - Base de Obra (tabela obra)"
   ]
  },
  {
   "cell_type": "code",
   "execution_count": 19,
   "id": "2119541d",
   "metadata": {},
   "outputs": [
    {
     "name": "stdout",
     "output_type": "stream",
     "text": [
      "   obra  uf  data_inicio  data_fim   br  km_inicial  km_final\n",
      "0  G002  MG        42186     43719  267        62.0      98.7\n",
      "1  G003  MG        42359     44260  458        97.2     147.2\n",
      "2  G004  MG        42359     44183   50        65.5      77.0\n",
      "3  G005  MG        42403     44221  262         0.0      72.2\n",
      "4  G006  MG        42403     42909  452        58.4      91.8\n"
     ]
    }
   ],
   "source": [
    "# Carregando o arquivo\n",
    "file_path = r'C:\\Users\\bcz87\\contrato.csv'\n",
    "obra = pd.read_csv(file_path, sep=';', decimal=',')\n",
    "\n",
    "# Exibir as primeiras linhas da tabela\n",
    "print(obra.head())"
   ]
  },
  {
   "cell_type": "code",
   "execution_count": 20,
   "id": "594f7ec5",
   "metadata": {},
   "outputs": [
    {
     "name": "stdout",
     "output_type": "stream",
     "text": [
      "<class 'pandas.core.frame.DataFrame'>\n",
      "RangeIndex: 62 entries, 0 to 61\n",
      "Data columns (total 7 columns):\n",
      " #   Column       Non-Null Count  Dtype  \n",
      "---  ------       --------------  -----  \n",
      " 0   obra         62 non-null     object \n",
      " 1   uf           62 non-null     object \n",
      " 2   data_inicio  62 non-null     int64  \n",
      " 3   data_fim     62 non-null     int64  \n",
      " 4   br           62 non-null     int64  \n",
      " 5   km_inicial   62 non-null     float64\n",
      " 6   km_final     62 non-null     float64\n",
      "dtypes: float64(2), int64(3), object(2)\n",
      "memory usage: 3.5+ KB\n"
     ]
    }
   ],
   "source": [
    "# Exibindo informações\n",
    "obra.info()"
   ]
  },
  {
   "cell_type": "code",
   "execution_count": 21,
   "id": "6b2d4a8f",
   "metadata": {},
   "outputs": [],
   "source": [
    "# converter as colunas 'data_inicio' e 'data_fim' para o formato de data do Python\n",
    "obra['data_inicio'] = obra['data_inicio'].apply(lambda x: xlrd.xldate_as_datetime(x, 0))\n",
    "obra['data_fim'] = obra['data_fim'].apply(lambda x: xlrd.xldate_as_datetime(x, 0))"
   ]
  },
  {
   "cell_type": "code",
   "execution_count": 22,
   "id": "866d46b9",
   "metadata": {},
   "outputs": [
    {
     "name": "stdout",
     "output_type": "stream",
     "text": [
      "obra                   object\n",
      "uf                     object\n",
      "data_inicio    datetime64[ns]\n",
      "data_fim       datetime64[ns]\n",
      "br                      int64\n",
      "km_inicial            float64\n",
      "km_final              float64\n",
      "dtype: object\n"
     ]
    }
   ],
   "source": [
    "# Exibindo informações\n",
    "print(obra.dtypes)"
   ]
  },
  {
   "cell_type": "code",
   "execution_count": 23,
   "id": "155a8d71",
   "metadata": {},
   "outputs": [
    {
     "name": "stdout",
     "output_type": "stream",
     "text": [
      "   obra  uf data_inicio   data_fim   br  km_inicial  km_final  extensao\n",
      "0  G002  MG  2015-07-01 2019-09-11  267        62.0      98.7      36.7\n",
      "1  G003  MG  2015-12-21 2021-03-05  458        97.2     147.2      50.0\n",
      "2  G004  MG  2015-12-21 2020-12-18   50        65.5      77.0      11.5\n",
      "3  G005  MG  2016-02-03 2021-01-25  262         0.0      72.2      72.2\n",
      "4  G006  MG  2016-02-03 2017-06-23  452        58.4      91.8      33.4\n"
     ]
    }
   ],
   "source": [
    "# Criação da nova coluna extensão\n",
    "obra['extensao'] = obra['km_final'] - obra['km_inicial']\n",
    "\n",
    "# Exibir as primeiras linhas da tabela\n",
    "print(obra.head())"
   ]
  },
  {
   "cell_type": "code",
   "execution_count": 24,
   "id": "cf232b9f",
   "metadata": {},
   "outputs": [],
   "source": [
    "# Salvar o resultado em um novo arquivo CSV\n",
    "obra.to_csv('obra.csv', index=False, sep=';', decimal=',', encoding = 'cp1252')"
   ]
  },
  {
   "cell_type": "markdown",
   "id": "7ebe7235",
   "metadata": {},
   "source": [
    "## 3 - Processamento/Tratamento de Dados"
   ]
  },
  {
   "cell_type": "markdown",
   "id": "09c2079a",
   "metadata": {},
   "source": [
    "## 3.1 - Unindo as tabelas (tabela datatran_snv_obra)"
   ]
  },
  {
   "cell_type": "markdown",
   "id": "2f0eae69",
   "metadata": {},
   "source": [
    "## 3.1.1 - Incluir coluna index em datatran"
   ]
  },
  {
   "cell_type": "code",
   "execution_count": 25,
   "id": "15e1e54d",
   "metadata": {},
   "outputs": [
    {
     "name": "stdout",
     "output_type": "stream",
     "text": [
      "   index        id data_inversa dia_semana   horario  uf   br     km  \\\n",
      "0      6  405221.0   2022-01-01     sábado  10:20:00  MG   40  452.2   \n",
      "1     14  405298.0   2022-01-01     sábado  18:45:00  MG  365  101.0   \n",
      "2     17  405338.0   2022-01-02    domingo  00:00:00  BA  101  177.0   \n",
      "3     29  405460.0   2022-01-02    domingo  16:00:00  DF   60   15.1   \n",
      "4     31  405498.0   2022-01-02    domingo  16:00:00  SP  116  566.0   \n",
      "\n",
      "                municipio           causa_acidente  ... ignorados feridos  \\\n",
      "0            CAETANOPOLIS                    Chuva  ...         0       1   \n",
      "1                JEQUITAI       Pista Escorregadia  ...         0       1   \n",
      "2  SAO GONCALO DOS CAMPOS  Ausência de sinalização  ...         1       1   \n",
      "3                BRASILIA                    Chuva  ...         0       1   \n",
      "4          BARRA DO TURVO       Pista Escorregadia  ...         0       3   \n",
      "\n",
      "  veiculos   latitude  longitude regional delegacia             uop  ano  \\\n",
      "0        2 -19.333821 -44.361079  SPRF-MG  DEL02-MG  UOP01-DEL02-MG  NaN   \n",
      "1        1 -17.224282 -44.534234  SPRF-MG  DEL12-MG  UOP01-DEL12-MG  NaN   \n",
      "2        3 -12.519078 -38.970829  SPRF-BA  DEL01-BA  UOP03-DEL01-BA  NaN   \n",
      "3        2 -15.943619 -48.172115  SPRF-DF  DEL01-DF  UOP02-DEL01-DF  NaN   \n",
      "4        2 -25.041697 -48.549812  SPRF-SP  DEL05-SP  UOP02-DEL05-SP  NaN   \n",
      "\n",
      "   mes_ano  \n",
      "0  01/2022  \n",
      "1  01/2022  \n",
      "2  01/2022  \n",
      "3  01/2022  \n",
      "4  01/2022  \n",
      "\n",
      "[5 rows x 33 columns]\n"
     ]
    }
   ],
   "source": [
    "# Criar cópia do DataFrame\n",
    "datatran_snv_obra = datatran.copy()\n",
    "\n",
    "# criar coluna index\n",
    "datatran_snv_obra = datatran_snv_obra.reset_index()\n",
    "\n",
    "# Exibir as primeiras linhas da tabela\n",
    "print(datatran_snv_obra.head())"
   ]
  },
  {
   "cell_type": "markdown",
   "id": "57f90dac",
   "metadata": {},
   "source": [
    "## 3.1.2 - Incluir coluna codigo em datatran"
   ]
  },
  {
   "cell_type": "code",
   "execution_count": 26,
   "id": "8b4f52dd",
   "metadata": {},
   "outputs": [
    {
     "name": "stdout",
     "output_type": "stream",
     "text": [
      "   index        id data_inversa dia_semana   horario  uf   br     km  \\\n",
      "0      6  405221.0   2022-01-01     sábado  10:20:00  MG   40  452.2   \n",
      "1     14  405298.0   2022-01-01     sábado  18:45:00  MG  365  101.0   \n",
      "2     17  405338.0   2022-01-02    domingo  00:00:00  BA  101  177.0   \n",
      "3     29  405460.0   2022-01-02    domingo  16:00:00  DF   60   15.1   \n",
      "4     31  405498.0   2022-01-02    domingo  16:00:00  SP  116  566.0   \n",
      "\n",
      "                municipio           causa_acidente  ... feridos veiculos  \\\n",
      "0            CAETANOPOLIS                    Chuva  ...       1        2   \n",
      "1                JEQUITAI       Pista Escorregadia  ...       1        1   \n",
      "2  SAO GONCALO DOS CAMPOS  Ausência de sinalização  ...       1        3   \n",
      "3                BRASILIA                    Chuva  ...       1        2   \n",
      "4          BARRA DO TURVO       Pista Escorregadia  ...       3        2   \n",
      "\n",
      "    latitude  longitude regional delegacia             uop ano  mes_ano  \\\n",
      "0 -19.333821 -44.361079  SPRF-MG  DEL02-MG  UOP01-DEL02-MG NaN  01/2022   \n",
      "1 -17.224282 -44.534234  SPRF-MG  DEL12-MG  UOP01-DEL12-MG NaN  01/2022   \n",
      "2 -12.519078 -38.970829  SPRF-BA  DEL01-BA  UOP03-DEL01-BA NaN  01/2022   \n",
      "3 -15.943619 -48.172115  SPRF-DF  DEL01-DF  UOP02-DEL01-DF NaN  01/2022   \n",
      "4 -25.041697 -48.549812  SPRF-SP  DEL05-SP  UOP02-DEL05-SP NaN  01/2022   \n",
      "\n",
      "       codigo  \n",
      "0  040BMG0270  \n",
      "1  365BMG0050  \n",
      "2  101BBA1550  \n",
      "3  060BDF0030  \n",
      "4         NaN  \n",
      "\n",
      "[5 rows x 34 columns]\n"
     ]
    }
   ],
   "source": [
    "# Merge das tabelas datatran e snv\n",
    "merged = pd.merge(datatran_snv_obra, snv, on=['uf', 'br'])\n",
    "merged = merged[(merged['km'] >= merged['km_inicial']) & (merged['km'] < merged['km_final'])]\n",
    "\n",
    "# Selecionar apenas as colunas \"index\" e \"codigo\" da tabela merged\n",
    "merged = merged[[\"index\", \"codigo\"]]\n",
    "\n",
    "# Mesclar as tabelas usando a coluna de índice como chave de junção\n",
    "datatran_snv_obra = pd.merge(datatran_snv_obra, merged, on=\"index\", how=\"left\")\n",
    "\n",
    "# Exibir as primeiras linhas da tabela\n",
    "print(datatran_snv_obra.head())"
   ]
  },
  {
   "cell_type": "markdown",
   "id": "19294ed6",
   "metadata": {},
   "source": [
    "## 3.1.3 - Incluir coluna obra em datatran"
   ]
  },
  {
   "cell_type": "code",
   "execution_count": 27,
   "id": "84c02cfe",
   "metadata": {},
   "outputs": [
    {
     "name": "stdout",
     "output_type": "stream",
     "text": [
      "   index        id data_inversa dia_semana   horario  uf   br     km  \\\n",
      "0      6  405221.0   2022-01-01     sábado  10:20:00  MG   40  452.2   \n",
      "1     14  405298.0   2022-01-01     sábado  18:45:00  MG  365  101.0   \n",
      "2     17  405338.0   2022-01-02    domingo  00:00:00  BA  101  177.0   \n",
      "3     29  405460.0   2022-01-02    domingo  16:00:00  DF   60   15.1   \n",
      "4     31  405498.0   2022-01-02    domingo  16:00:00  SP  116  566.0   \n",
      "\n",
      "                municipio           causa_acidente  ... veiculos   latitude  \\\n",
      "0            CAETANOPOLIS                    Chuva  ...        2 -19.333821   \n",
      "1                JEQUITAI       Pista Escorregadia  ...        1 -17.224282   \n",
      "2  SAO GONCALO DOS CAMPOS  Ausência de sinalização  ...        3 -12.519078   \n",
      "3                BRASILIA                    Chuva  ...        2 -15.943619   \n",
      "4          BARRA DO TURVO       Pista Escorregadia  ...        2 -25.041697   \n",
      "\n",
      "   longitude regional delegacia             uop ano  mes_ano      codigo  obra  \n",
      "0 -44.361079  SPRF-MG  DEL02-MG  UOP01-DEL02-MG NaN  01/2022  040BMG0270   NaN  \n",
      "1 -44.534234  SPRF-MG  DEL12-MG  UOP01-DEL12-MG NaN  01/2022  365BMG0050   NaN  \n",
      "2 -38.970829  SPRF-BA  DEL01-BA  UOP03-DEL01-BA NaN  01/2022  101BBA1550   NaN  \n",
      "3 -48.172115  SPRF-DF  DEL01-DF  UOP02-DEL01-DF NaN  01/2022  060BDF0030   NaN  \n",
      "4 -48.549812  SPRF-SP  DEL05-SP  UOP02-DEL05-SP NaN  01/2022         NaN   NaN  \n",
      "\n",
      "[5 rows x 35 columns]\n"
     ]
    }
   ],
   "source": [
    "# Merge das tabelas datatran e obra\n",
    "merged = pd.merge(datatran_snv_obra, obra, on=['uf', 'br'])\n",
    "merged = merged[(merged['data_inversa'] >= merged['data_inicio']) & (merged['data_inversa'] <= merged['data_fim']) & (merged['km'] >= merged['km_inicial']) & (merged['km'] <= merged['km_final'])]\n",
    "\n",
    "# Selecionar apenas as colunas \"index\" e \"obra\" da tabela merged\n",
    "merged = merged[[\"index\", \"obra\"]]\n",
    "\n",
    "# Mesclar as tabelas usando a coluna de índice como chave de junção\n",
    "datatran_snv_obra = pd.merge(datatran_snv_obra, merged, on=\"index\", how=\"left\")\n",
    "\n",
    "# Exibir as primeiras linhas da tabela\n",
    "print(datatran_snv_obra.head())"
   ]
  },
  {
   "cell_type": "code",
   "execution_count": 28,
   "id": "141d9820",
   "metadata": {},
   "outputs": [],
   "source": [
    "# Salvar o resultado em um novo arquivo CSV\n",
    "datatran_snv_obra.to_csv('datatran_snv_obra.csv', index=False, sep=';', decimal=',', encoding = 'cp1252')"
   ]
  },
  {
   "cell_type": "markdown",
   "id": "bd987f54",
   "metadata": {},
   "source": [
    "## 3.2 - Criação de tabelas"
   ]
  },
  {
   "cell_type": "markdown",
   "id": "91210a30",
   "metadata": {},
   "source": [
    "## 3.2.1 - Tabela de Acidentes por SNV (acidente_snv)"
   ]
  },
  {
   "cell_type": "code",
   "execution_count": 29,
   "id": "138da9fa",
   "metadata": {},
   "outputs": [
    {
     "name": "stdout",
     "output_type": "stream",
     "text": [
      "       codigo  mes_ano\n",
      "0  010BDF0010  01/2007\n",
      "1  010BDF0010  02/2007\n",
      "2  010BDF0010  03/2007\n",
      "3  010BDF0010  04/2007\n",
      "4  010BDF0010  05/2007\n"
     ]
    }
   ],
   "source": [
    "# Lista de códigos únicos da coluna \"código\" da tabela snv\n",
    "codigos_unicos = snv['codigo'].unique()\n",
    "\n",
    "# Lista de todas as datas no intervalo de janeiro de 2007 até dezembro de 2022\n",
    "datas = pd.date_range(start='01/01/2007', end='12/31/2022', freq='M').strftime('%m/%Y').tolist()\n",
    "\n",
    "# Cria uma nova tabela com as colunas \"Código\" e \"mes_ano\"\n",
    "acidente_snv = pd.DataFrame({'codigo': np.repeat(codigos_unicos, len(datas)),\n",
    "                             'mes_ano': np.tile(datas, len(codigos_unicos))})\n",
    "\n",
    "# Reset o índice da tabela resultante\n",
    "acidente_snv = acidente_snv.reset_index(drop=True)\n",
    "\n",
    "# Exibir as primeiras linhas da tabela\n",
    "print(acidente_snv.head())"
   ]
  },
  {
   "cell_type": "code",
   "execution_count": 30,
   "id": "e3a5f26f",
   "metadata": {},
   "outputs": [
    {
     "name": "stdout",
     "output_type": "stream",
     "text": [
      "       codigo  mes_ano  br  uf  Tipo de trecho Desc Coinc  \\\n",
      "0  010BDF0010  01/2007  10  DF  Eixo Principal          -   \n",
      "1  010BDF0010  02/2007  10  DF  Eixo Principal          -   \n",
      "2  010BDF0010  03/2007  10  DF  Eixo Principal          -   \n",
      "3  010BDF0010  04/2007  10  DF  Eixo Principal          -   \n",
      "4  010BDF0010  05/2007  10  DF  Eixo Principal          -   \n",
      "\n",
      "                               Local de Início Local de Fim  km_inicial  \\\n",
      "0  ENTR BR-020(A)/030(A)/450/DF-001 (BRASÍLIA)  ENTR DF-440         0.0   \n",
      "1  ENTR BR-020(A)/030(A)/450/DF-001 (BRASÍLIA)  ENTR DF-440         0.0   \n",
      "2  ENTR BR-020(A)/030(A)/450/DF-001 (BRASÍLIA)  ENTR DF-440         0.0   \n",
      "3  ENTR BR-020(A)/030(A)/450/DF-001 (BRASÍLIA)  ENTR DF-440         0.0   \n",
      "4  ENTR BR-020(A)/030(A)/450/DF-001 (BRASÍLIA)  ENTR DF-440         0.0   \n",
      "\n",
      "   km_final  ...  Superfície Federal Obras               Federal Coincidente  \\\n",
      "0       2.4  ...                 DUP   NaN  010BDF0010;020BDF0010;030BDF0010   \n",
      "1       2.4  ...                 DUP   NaN  010BDF0010;020BDF0010;030BDF0010   \n",
      "2       2.4  ...                 DUP   NaN  010BDF0010;020BDF0010;030BDF0010   \n",
      "3       2.4  ...                 DUP   NaN  010BDF0010;020BDF0010;030BDF0010   \n",
      "4       2.4  ...                 DUP   NaN  010BDF0010;020BDF0010;030BDF0010   \n",
      "\n",
      "                   Administração Ato legal  Estadual Coincidente  \\\n",
      "0  Convênio Adm.Federal/Estadual       NaN                   NaN   \n",
      "1  Convênio Adm.Federal/Estadual       NaN                   NaN   \n",
      "2  Convênio Adm.Federal/Estadual       NaN                   NaN   \n",
      "3  Convênio Adm.Federal/Estadual       NaN                   NaN   \n",
      "4  Convênio Adm.Federal/Estadual       NaN                   NaN   \n",
      "\n",
      "  Superfície Est. Coincidente Jurisdição Superfície Unidade Local  \n",
      "0                         NaN    Federal        PAV      Brasília  \n",
      "1                         NaN    Federal        PAV      Brasília  \n",
      "2                         NaN    Federal        PAV      Brasília  \n",
      "3                         NaN    Federal        PAV      Brasília  \n",
      "4                         NaN    Federal        PAV      Brasília  \n",
      "\n",
      "[5 rows x 21 columns]\n"
     ]
    }
   ],
   "source": [
    "# Junção entre acidnte_snv e snv\n",
    "acidente_snv = pd.merge(acidente_snv, snv, on='codigo', how='left')\n",
    "\n",
    "# Exibir as primeiras linhas da tabela\n",
    "print(acidente_snv.head())"
   ]
  },
  {
   "cell_type": "code",
   "execution_count": 31,
   "id": "a4877c8a",
   "metadata": {},
   "outputs": [
    {
     "name": "stdout",
     "output_type": "stream",
     "text": [
      "           codigo  mes_ano  br  uf  Tipo de trecho Desc Coinc Local de Início  \\\n",
      "49344  040BMG0090  01/2007  40  MG  Eixo Principal          -       DIV GO/MG   \n",
      "49345  040BMG0090  02/2007  40  MG  Eixo Principal          -       DIV GO/MG   \n",
      "49346  040BMG0090  03/2007  40  MG  Eixo Principal          -       DIV GO/MG   \n",
      "49347  040BMG0090  04/2007  40  MG  Eixo Principal          -       DIV GO/MG   \n",
      "49348  040BMG0090  05/2007  40  MG  Eixo Principal          -       DIV GO/MG   \n",
      "\n",
      "                           Local de Fim  km_inicial  km_final  ...  \\\n",
      "49344  ENTR MG-188(B) (P/SÃO SEBASTIÃO)         0.0      44.1  ...   \n",
      "49345  ENTR MG-188(B) (P/SÃO SEBASTIÃO)         0.0      44.1  ...   \n",
      "49346  ENTR MG-188(B) (P/SÃO SEBASTIÃO)         0.0      44.1  ...   \n",
      "49347  ENTR MG-188(B) (P/SÃO SEBASTIÃO)         0.0      44.1  ...   \n",
      "49348  ENTR MG-188(B) (P/SÃO SEBASTIÃO)         0.0      44.1  ...   \n",
      "\n",
      "       Superfície Federal Obras Federal Coincidente      Administração  \\\n",
      "49344                 PAV   NaN          040BMG0090  Concessão Federal   \n",
      "49345                 PAV   NaN          040BMG0090  Concessão Federal   \n",
      "49346                 PAV   NaN          040BMG0090  Concessão Federal   \n",
      "49347                 PAV   NaN          040BMG0090  Concessão Federal   \n",
      "49348                 PAV   NaN          040BMG0090  Concessão Federal   \n",
      "\n",
      "      Ato legal  Estadual Coincidente Superfície Est. Coincidente Jurisdição  \\\n",
      "49344       NaN                   NaN                         NaN    Federal   \n",
      "49345       NaN                   NaN                         NaN    Federal   \n",
      "49346       NaN                   NaN                         NaN    Federal   \n",
      "49347       NaN                   NaN                         NaN    Federal   \n",
      "49348       NaN                   NaN                         NaN    Federal   \n",
      "\n",
      "      Superfície   Unidade Local  \n",
      "49344        PAV  Patos de Minas  \n",
      "49345        PAV  Patos de Minas  \n",
      "49346        PAV  Patos de Minas  \n",
      "49347        PAV  Patos de Minas  \n",
      "49348        PAV  Patos de Minas  \n",
      "\n",
      "[5 rows x 21 columns]\n"
     ]
    }
   ],
   "source": [
    "# Filtro na coluna uf para resultados iguais a MG\n",
    "acidente_snv = acidente_snv[acidente_snv['uf'] == 'MG']\n",
    "\n",
    "# Exibir as primeiras linhas da tabela\n",
    "print(acidente_snv.head())"
   ]
  },
  {
   "cell_type": "code",
   "execution_count": 32,
   "id": "d17a3007",
   "metadata": {},
   "outputs": [
    {
     "name": "stdout",
     "output_type": "stream",
     "text": [
      "           codigo  mes_ano  br  uf  km_inicial  km_final  extensao\n",
      "49344  040BMG0090  01/2007  40  MG         0.0      44.1      44.1\n",
      "49345  040BMG0090  02/2007  40  MG         0.0      44.1      44.1\n",
      "49346  040BMG0090  03/2007  40  MG         0.0      44.1      44.1\n",
      "49347  040BMG0090  04/2007  40  MG         0.0      44.1      44.1\n",
      "49348  040BMG0090  05/2007  40  MG         0.0      44.1      44.1\n"
     ]
    }
   ],
   "source": [
    "# Removendo colunas\n",
    "acidente_snv = acidente_snv.drop([\"Tipo de trecho\", \"Desc Coinc\", \"Local de Início\", \"Local de Fim\", \"Superfície Federal\", \"Obras\", \"Federal Coincidente\", \"Administração\", \"Ato legal\", \"Estadual Coincidente\", \"Superfície Est. Coincidente\", \"Jurisdição\", \"Superfície\", \"Unidade Local\"], axis=1)\n",
    "\n",
    "# Exibir as primeiras linhas da tabela\n",
    "print(acidente_snv.head())"
   ]
  },
  {
   "cell_type": "code",
   "execution_count": 33,
   "id": "6960623b",
   "metadata": {},
   "outputs": [
    {
     "name": "stdout",
     "output_type": "stream",
     "text": [
      "       codigo  mes_ano  br  uf  km_inicial  km_final  extensao  num_acidente\n",
      "0  040BMG0090  01/2007  40  MG         0.0      44.1      44.1           NaN\n",
      "1  040BMG0090  02/2007  40  MG         0.0      44.1      44.1           1.0\n",
      "2  040BMG0090  03/2007  40  MG         0.0      44.1      44.1           NaN\n",
      "3  040BMG0090  04/2007  40  MG         0.0      44.1      44.1           NaN\n",
      "4  040BMG0090  05/2007  40  MG         0.0      44.1      44.1           1.0\n",
      "\n",
      "\n",
      "<class 'pandas.core.frame.DataFrame'>\n",
      "Int64Index: 168576 entries, 0 to 168575\n",
      "Data columns (total 8 columns):\n",
      " #   Column        Non-Null Count   Dtype  \n",
      "---  ------        --------------   -----  \n",
      " 0   codigo        168576 non-null  object \n",
      " 1   mes_ano       168576 non-null  object \n",
      " 2   br            168576 non-null  int64  \n",
      " 3   uf            168576 non-null  object \n",
      " 4   km_inicial    168576 non-null  float64\n",
      " 5   km_final      168576 non-null  float64\n",
      " 6   extensao      168576 non-null  float64\n",
      " 7   num_acidente  8130 non-null    float64\n",
      "dtypes: float64(4), int64(1), object(3)\n",
      "memory usage: 11.6+ MB\n",
      "None\n",
      "\n",
      "Proporção de valores nulos na coluna 'num_acidente':\n",
      "0.9517724943052391\n"
     ]
    }
   ],
   "source": [
    "# Etapa 1 - Groupby na tabela datatran_snv_obra pelas colunas codigo e mes_ano\n",
    "datatran_grouped = datatran_snv_obra.groupby(['codigo', 'mes_ano']).count().reset_index()[['codigo', 'mes_ano', 'index']]\n",
    "datatran_grouped.rename(columns={'index': 'num_acidente'}, inplace=True)\n",
    "\n",
    "# Etapa 2 - Merge entre datatran_grouped e acidente_snv pelas colunas codigo e mes_ano\n",
    "acidente_snv = pd.merge(acidente_snv, datatran_grouped, on=['codigo', 'mes_ano'], how='left')\n",
    "\n",
    "\n",
    "# Exibindo informações\n",
    "print(acidente_snv.head())\n",
    "print(\"\\n\")\n",
    "print(acidente_snv.info())\n",
    "\n",
    "# Calcular a proporção de valores nulos na coluna \"num_acidente\"\n",
    "print(\"\\nProporção de valores nulos na coluna 'num_acidente':\")\n",
    "print(acidente_snv['num_acidente'].isnull().mean())"
   ]
  },
  {
   "cell_type": "code",
   "execution_count": 34,
   "id": "77ae6a34",
   "metadata": {},
   "outputs": [
    {
     "name": "stdout",
     "output_type": "stream",
     "text": [
      "       codigo  mes_ano  br  uf  km_inicial  km_final  extensao  num_acidente\n",
      "0  040BMG0090  01/2007  40  MG         0.0      44.1      44.1           0.0\n",
      "1  040BMG0090  02/2007  40  MG         0.0      44.1      44.1           1.0\n",
      "2  040BMG0090  03/2007  40  MG         0.0      44.1      44.1           0.0\n",
      "3  040BMG0090  04/2007  40  MG         0.0      44.1      44.1           0.0\n",
      "4  040BMG0090  05/2007  40  MG         0.0      44.1      44.1           1.0\n"
     ]
    }
   ],
   "source": [
    "# Substituindo os valores nulos por zero\n",
    "acidente_snv['num_acidente'].fillna(0, inplace=True)\n",
    "\n",
    "# Exibir as primeiras linhas da tabela\n",
    "print(acidente_snv.head())"
   ]
  },
  {
   "cell_type": "code",
   "execution_count": 35,
   "id": "0267848d",
   "metadata": {},
   "outputs": [
    {
     "name": "stdout",
     "output_type": "stream",
     "text": [
      "       codigo    mes_ano  br  uf  km_inicial  km_final  extensao  \\\n",
      "0  040BMG0090 2007-01-01  40  MG         0.0      44.1      44.1   \n",
      "1  040BMG0090 2007-02-01  40  MG         0.0      44.1      44.1   \n",
      "2  040BMG0090 2007-03-01  40  MG         0.0      44.1      44.1   \n",
      "3  040BMG0090 2007-04-01  40  MG         0.0      44.1      44.1   \n",
      "4  040BMG0090 2007-05-01  40  MG         0.0      44.1      44.1   \n",
      "\n",
      "   num_acidente  mes   ano  \n",
      "0           0.0    1  2007  \n",
      "1           1.0    2  2007  \n",
      "2           0.0    3  2007  \n",
      "3           0.0    4  2007  \n",
      "4           1.0    5  2007  \n"
     ]
    }
   ],
   "source": [
    "# Criando as colunas Mês e Ano\n",
    "acidente_snv['mes_ano'] = pd.to_datetime(acidente_snv['mes_ano'], format='%m/%Y')\n",
    "acidente_snv['mes'] = acidente_snv['mes_ano'].dt.month\n",
    "acidente_snv['ano'] = acidente_snv['mes_ano'].dt.year\n",
    "\n",
    "# Exibir as primeiras linhas da tabela\n",
    "print(acidente_snv.head())"
   ]
  },
  {
   "cell_type": "code",
   "execution_count": 36,
   "id": "65730f1c",
   "metadata": {},
   "outputs": [],
   "source": [
    "# Salvar o resultado em um novo arquivo CSV\n",
    "acidente_snv.to_csv('acidente_snv.csv', index=False, sep=';', decimal=',', encoding = 'cp1252')"
   ]
  },
  {
   "cell_type": "markdown",
   "id": "6d4605f5",
   "metadata": {},
   "source": [
    "## 3.2.2 - Tabela de Acidentes por Obra (acidente_obra)"
   ]
  },
  {
   "cell_type": "code",
   "execution_count": 37,
   "id": "dfc0fd3d",
   "metadata": {},
   "outputs": [
    {
     "name": "stdout",
     "output_type": "stream",
     "text": [
      "   obra  mes_ano\n",
      "0  G002  07/2015\n",
      "1  G002  08/2015\n",
      "2  G002  09/2015\n",
      "3  G002  10/2015\n",
      "4  G002  11/2015\n"
     ]
    }
   ],
   "source": [
    "# Carregando o arquivo\n",
    "file_path = r'C:\\Users\\bcz87\\obra_mes_ano.csv'\n",
    "acidente_obra = pd.read_csv(file_path, sep=';', decimal=',')\n",
    "\n",
    "# Exibir as primeiras linhas da tabela\n",
    "print(acidente_obra.head())"
   ]
  },
  {
   "cell_type": "code",
   "execution_count": 38,
   "id": "e0473952",
   "metadata": {},
   "outputs": [
    {
     "name": "stdout",
     "output_type": "stream",
     "text": [
      "obra       object\n",
      "mes_ano    object\n",
      "dtype: object\n"
     ]
    }
   ],
   "source": [
    "# Exibindo informações\n",
    "print(acidente_obra.dtypes)"
   ]
  },
  {
   "cell_type": "code",
   "execution_count": 39,
   "id": "23d40b75",
   "metadata": {},
   "outputs": [
    {
     "name": "stdout",
     "output_type": "stream",
     "text": [
      "   obra  mes_ano  uf data_inicio   data_fim   br  km_inicial  km_final  \\\n",
      "0  G002  07/2015  MG  2015-07-01 2019-09-11  267        62.0      98.7   \n",
      "1  G002  08/2015  MG  2015-07-01 2019-09-11  267        62.0      98.7   \n",
      "2  G002  09/2015  MG  2015-07-01 2019-09-11  267        62.0      98.7   \n",
      "3  G002  10/2015  MG  2015-07-01 2019-09-11  267        62.0      98.7   \n",
      "4  G002  11/2015  MG  2015-07-01 2019-09-11  267        62.0      98.7   \n",
      "\n",
      "   extensao  \n",
      "0      36.7  \n",
      "1      36.7  \n",
      "2      36.7  \n",
      "3      36.7  \n",
      "4      36.7  \n"
     ]
    }
   ],
   "source": [
    "# Junção das tabelas acidente_obra e obra\n",
    "acidente_obra = pd.merge(acidente_obra, obra, on='obra', how='left')\n",
    "\n",
    "# Exibir as primeiras linhas da tabela\n",
    "print(acidente_obra.head())"
   ]
  },
  {
   "cell_type": "code",
   "execution_count": 40,
   "id": "194bbb77",
   "metadata": {},
   "outputs": [
    {
     "name": "stdout",
     "output_type": "stream",
     "text": [
      "   obra  mes_ano  uf data_inicio   data_fim   br  km_inicial  km_final  \\\n",
      "0  G002  07/2015  MG  2015-07-01 2019-09-11  267        62.0      98.7   \n",
      "1  G002  08/2015  MG  2015-07-01 2019-09-11  267        62.0      98.7   \n",
      "2  G002  09/2015  MG  2015-07-01 2019-09-11  267        62.0      98.7   \n",
      "3  G002  10/2015  MG  2015-07-01 2019-09-11  267        62.0      98.7   \n",
      "4  G002  11/2015  MG  2015-07-01 2019-09-11  267        62.0      98.7   \n",
      "\n",
      "   extensao  \n",
      "0      36.7  \n",
      "1      36.7  \n",
      "2      36.7  \n",
      "3      36.7  \n",
      "4      36.7  \n"
     ]
    }
   ],
   "source": [
    "# Filtro na coluna uf para resultados iguais a MG\n",
    "acidente_obra = acidente_obra[acidente_obra['uf'] == 'MG']\n",
    "\n",
    "# Exibir as primeiras linhas da tabela\n",
    "print(acidente_obra.head())"
   ]
  },
  {
   "cell_type": "code",
   "execution_count": 41,
   "id": "7763d7f6",
   "metadata": {},
   "outputs": [
    {
     "name": "stdout",
     "output_type": "stream",
     "text": [
      "   obra  mes_ano  uf   br  km_inicial  km_final  extensao\n",
      "0  G002  07/2015  MG  267        62.0      98.7      36.7\n",
      "1  G002  08/2015  MG  267        62.0      98.7      36.7\n",
      "2  G002  09/2015  MG  267        62.0      98.7      36.7\n",
      "3  G002  10/2015  MG  267        62.0      98.7      36.7\n",
      "4  G002  11/2015  MG  267        62.0      98.7      36.7\n"
     ]
    }
   ],
   "source": [
    "# Removendo colunas\n",
    "acidente_obra = acidente_obra.drop([\"data_inicio\", \"data_fim\"], axis=1)\n",
    "\n",
    "# Exibir as primeiras linhas da tabela\n",
    "print(acidente_obra.head())"
   ]
  },
  {
   "cell_type": "code",
   "execution_count": 42,
   "id": "7340a08b",
   "metadata": {},
   "outputs": [
    {
     "name": "stdout",
     "output_type": "stream",
     "text": [
      "   obra  mes_ano  uf   br  km_inicial  km_final  extensao  num_acidente\n",
      "0  G002  07/2015  MG  267        62.0      98.7      36.7           NaN\n",
      "1  G002  08/2015  MG  267        62.0      98.7      36.7           1.0\n",
      "2  G002  09/2015  MG  267        62.0      98.7      36.7           NaN\n",
      "3  G002  10/2015  MG  267        62.0      98.7      36.7           NaN\n",
      "4  G002  11/2015  MG  267        62.0      98.7      36.7           NaN\n",
      "\n",
      "\n",
      "<class 'pandas.core.frame.DataFrame'>\n",
      "Int64Index: 2692 entries, 0 to 2691\n",
      "Data columns (total 8 columns):\n",
      " #   Column        Non-Null Count  Dtype  \n",
      "---  ------        --------------  -----  \n",
      " 0   obra          2692 non-null   object \n",
      " 1   mes_ano       2692 non-null   object \n",
      " 2   uf            2692 non-null   object \n",
      " 3   br            2692 non-null   int64  \n",
      " 4   km_inicial    2692 non-null   float64\n",
      " 5   km_final      2692 non-null   float64\n",
      " 6   extensao      2692 non-null   float64\n",
      " 7   num_acidente  631 non-null    float64\n",
      "dtypes: float64(4), int64(1), object(3)\n",
      "memory usage: 189.3+ KB\n",
      "None\n",
      "\n",
      "Proporção de valores nulos na coluna 'num_acidente':\n",
      "0.7656017830609212\n"
     ]
    }
   ],
   "source": [
    "# Etapa 1 - Groupby na tabela datatran_snv_obra pelas colunas codigo e mes_ano\n",
    "datatran_grouped = datatran_snv_obra.groupby(['obra', 'mes_ano']).count().reset_index()[['obra', 'mes_ano', 'index']]\n",
    "datatran_grouped.rename(columns={'index': 'num_acidente'}, inplace=True)\n",
    "\n",
    "# Etapa 2 - Merge entre datatran_grouped e acidente_snv pelas colunas codigo e mes_ano\n",
    "acidente_obra = pd.merge(acidente_obra, datatran_grouped, on=['obra', 'mes_ano'], how='left')\n",
    "\n",
    "\n",
    "# Exibindo informações\n",
    "print(acidente_obra.head())\n",
    "print(\"\\n\")\n",
    "print(acidente_obra.info())\n",
    "\n",
    "# Calcular a proporção de valores nulos na coluna \"num_acidente\"\n",
    "print(\"\\nProporção de valores nulos na coluna 'num_acidente':\")\n",
    "print(acidente_obra['num_acidente'].isnull().mean())"
   ]
  },
  {
   "cell_type": "code",
   "execution_count": 43,
   "id": "a218313a",
   "metadata": {},
   "outputs": [
    {
     "name": "stdout",
     "output_type": "stream",
     "text": [
      "   obra  mes_ano  uf   br  km_inicial  km_final  extensao  num_acidente\n",
      "0  G002  07/2015  MG  267        62.0      98.7      36.7           0.0\n",
      "1  G002  08/2015  MG  267        62.0      98.7      36.7           1.0\n",
      "2  G002  09/2015  MG  267        62.0      98.7      36.7           0.0\n",
      "3  G002  10/2015  MG  267        62.0      98.7      36.7           0.0\n",
      "4  G002  11/2015  MG  267        62.0      98.7      36.7           0.0\n"
     ]
    }
   ],
   "source": [
    "# Substuindo valores nulos por zero\n",
    "acidente_obra['num_acidente'].fillna(0, inplace=True)\n",
    "\n",
    "# Exibir as primeiras linhas da tabela\n",
    "print(acidente_obra.head())"
   ]
  },
  {
   "cell_type": "code",
   "execution_count": 44,
   "id": "c7111cb0",
   "metadata": {},
   "outputs": [
    {
     "name": "stdout",
     "output_type": "stream",
     "text": [
      "   obra    mes_ano  uf   br  km_inicial  km_final  extensao  num_acidente  \\\n",
      "0  G002 2015-07-01  MG  267        62.0      98.7      36.7           0.0   \n",
      "1  G002 2015-08-01  MG  267        62.0      98.7      36.7           1.0   \n",
      "2  G002 2015-09-01  MG  267        62.0      98.7      36.7           0.0   \n",
      "3  G002 2015-10-01  MG  267        62.0      98.7      36.7           0.0   \n",
      "4  G002 2015-11-01  MG  267        62.0      98.7      36.7           0.0   \n",
      "\n",
      "   mes   ano  \n",
      "0    7  2015  \n",
      "1    8  2015  \n",
      "2    9  2015  \n",
      "3   10  2015  \n",
      "4   11  2015  \n"
     ]
    }
   ],
   "source": [
    "# Criando as colunas mês e ano\n",
    "acidente_obra['mes_ano'] = pd.to_datetime(acidente_obra['mes_ano'], format='%m/%Y')\n",
    "acidente_obra['mes'] = acidente_obra['mes_ano'].dt.month\n",
    "acidente_obra['ano'] = acidente_obra['mes_ano'].dt.year\n",
    "\n",
    "# Exibir as primeiras linhas da tabela\n",
    "print(acidente_obra.head())"
   ]
  },
  {
   "cell_type": "code",
   "execution_count": 45,
   "id": "671b3e94",
   "metadata": {},
   "outputs": [],
   "source": [
    "# Salvar o resultado em um novo arquivo CSV\n",
    "acidente_obra.to_csv('acidente_obra.csv', index=False, sep=';', decimal=',', encoding = 'cp1252')"
   ]
  },
  {
   "cell_type": "markdown",
   "id": "968458db",
   "metadata": {},
   "source": [
    "## 4.0 - Análise e Exploração dos Dados"
   ]
  },
  {
   "cell_type": "code",
   "execution_count": 46,
   "id": "bd1d485b",
   "metadata": {},
   "outputs": [
    {
     "data": {
      "text/html": [
       "<div>\n",
       "<style scoped>\n",
       "    .dataframe tbody tr th:only-of-type {\n",
       "        vertical-align: middle;\n",
       "    }\n",
       "\n",
       "    .dataframe tbody tr th {\n",
       "        vertical-align: top;\n",
       "    }\n",
       "\n",
       "    .dataframe thead th {\n",
       "        text-align: right;\n",
       "    }\n",
       "</style>\n",
       "<table border=\"1\" class=\"dataframe\">\n",
       "  <thead>\n",
       "    <tr style=\"text-align: right;\">\n",
       "      <th></th>\n",
       "      <th>br</th>\n",
       "      <th>km_inicial</th>\n",
       "      <th>km_final</th>\n",
       "      <th>extensao</th>\n",
       "      <th>num_acidente</th>\n",
       "      <th>mes</th>\n",
       "      <th>ano</th>\n",
       "    </tr>\n",
       "  </thead>\n",
       "  <tbody>\n",
       "    <tr>\n",
       "      <th>count</th>\n",
       "      <td>168576.000000</td>\n",
       "      <td>168576.000000</td>\n",
       "      <td>168576.000000</td>\n",
       "      <td>168576.000000</td>\n",
       "      <td>168576.000000</td>\n",
       "      <td>168576.000000</td>\n",
       "      <td>168576.000000</td>\n",
       "    </tr>\n",
       "    <tr>\n",
       "      <th>mean</th>\n",
       "      <td>293.462415</td>\n",
       "      <td>308.656891</td>\n",
       "      <td>329.669499</td>\n",
       "      <td>21.012608</td>\n",
       "      <td>0.061954</td>\n",
       "      <td>6.500000</td>\n",
       "      <td>2014.500000</td>\n",
       "    </tr>\n",
       "    <tr>\n",
       "      <th>std</th>\n",
       "      <td>132.749100</td>\n",
       "      <td>239.058098</td>\n",
       "      <td>237.831608</td>\n",
       "      <td>18.846457</td>\n",
       "      <td>0.316766</td>\n",
       "      <td>3.452063</td>\n",
       "      <td>4.609786</td>\n",
       "    </tr>\n",
       "    <tr>\n",
       "      <th>min</th>\n",
       "      <td>40.000000</td>\n",
       "      <td>0.000000</td>\n",
       "      <td>0.400000</td>\n",
       "      <td>0.100000</td>\n",
       "      <td>0.000000</td>\n",
       "      <td>1.000000</td>\n",
       "      <td>2007.000000</td>\n",
       "    </tr>\n",
       "    <tr>\n",
       "      <th>25%</th>\n",
       "      <td>153.000000</td>\n",
       "      <td>105.500000</td>\n",
       "      <td>127.500000</td>\n",
       "      <td>6.500000</td>\n",
       "      <td>0.000000</td>\n",
       "      <td>3.750000</td>\n",
       "      <td>2010.750000</td>\n",
       "    </tr>\n",
       "    <tr>\n",
       "      <th>50%</th>\n",
       "      <td>342.000000</td>\n",
       "      <td>265.400000</td>\n",
       "      <td>284.400000</td>\n",
       "      <td>16.550000</td>\n",
       "      <td>0.000000</td>\n",
       "      <td>6.500000</td>\n",
       "      <td>2014.500000</td>\n",
       "    </tr>\n",
       "    <tr>\n",
       "      <th>75%</th>\n",
       "      <td>381.000000</td>\n",
       "      <td>477.900000</td>\n",
       "      <td>499.600000</td>\n",
       "      <td>29.900000</td>\n",
       "      <td>0.000000</td>\n",
       "      <td>9.250000</td>\n",
       "      <td>2018.250000</td>\n",
       "    </tr>\n",
       "    <tr>\n",
       "      <th>max</th>\n",
       "      <td>499.000000</td>\n",
       "      <td>978.210000</td>\n",
       "      <td>1014.810000</td>\n",
       "      <td>207.300000</td>\n",
       "      <td>13.000000</td>\n",
       "      <td>12.000000</td>\n",
       "      <td>2022.000000</td>\n",
       "    </tr>\n",
       "  </tbody>\n",
       "</table>\n",
       "</div>"
      ],
      "text/plain": [
       "                  br     km_inicial       km_final       extensao  \\\n",
       "count  168576.000000  168576.000000  168576.000000  168576.000000   \n",
       "mean      293.462415     308.656891     329.669499      21.012608   \n",
       "std       132.749100     239.058098     237.831608      18.846457   \n",
       "min        40.000000       0.000000       0.400000       0.100000   \n",
       "25%       153.000000     105.500000     127.500000       6.500000   \n",
       "50%       342.000000     265.400000     284.400000      16.550000   \n",
       "75%       381.000000     477.900000     499.600000      29.900000   \n",
       "max       499.000000     978.210000    1014.810000     207.300000   \n",
       "\n",
       "        num_acidente            mes            ano  \n",
       "count  168576.000000  168576.000000  168576.000000  \n",
       "mean        0.061954       6.500000    2014.500000  \n",
       "std         0.316766       3.452063       4.609786  \n",
       "min         0.000000       1.000000    2007.000000  \n",
       "25%         0.000000       3.750000    2010.750000  \n",
       "50%         0.000000       6.500000    2014.500000  \n",
       "75%         0.000000       9.250000    2018.250000  \n",
       "max        13.000000      12.000000    2022.000000  "
      ]
     },
     "execution_count": 46,
     "metadata": {},
     "output_type": "execute_result"
    }
   ],
   "source": [
    "# Exibindo informações\n",
    "acidente_snv.describe()"
   ]
  },
  {
   "cell_type": "code",
   "execution_count": 47,
   "id": "a454faf7",
   "metadata": {},
   "outputs": [
    {
     "data": {
      "text/plain": [
       "<Figure size 640x480 with 0 Axes>"
      ]
     },
     "metadata": {},
     "output_type": "display_data"
    },
    {
     "data": {
      "image/png": "[encoded data removed]",
      "text/plain": [
       "<Figure size 1500x1500 with 9 Axes>"
      ]
     },
     "metadata": {},
     "output_type": "display_data"
    }
   ],
   "source": [
    "# Ajusta a distância entre as subplots\n",
    "plt.subplots_adjust(wspace=0.5, hspace=0.5)\n",
    "\n",
    "# Cria uma figura com os subplots\n",
    "fig, axs = plt.subplots(nrows=3, ncols=3, figsize=(15, 15))\n",
    "\n",
    "# Define as colunas para o pairplot\n",
    "cols = ['br', 'km_inicial', 'km_final', 'extensao', 'mes', 'ano', 'codigo', 'mes_ano', 'uf']\n",
    "\n",
    "# Loop pelos subplots e cria o pairplot para cada coluna\n",
    "for i, ax in enumerate(axs.flatten()):\n",
    "    if i < len(cols):\n",
    "        sns.histplot(data=acidente_snv, x=cols[i], y='num_acidente', ax=ax)\n",
    "        ax.set_title(cols[i])"
   ]
  },
  {
   "cell_type": "code",
   "execution_count": 48,
   "id": "3c6bb0da",
   "metadata": {},
   "outputs": [
    {
     "data": {
      "image/png": "[encoded data removed]",
      "text/plain": [
       "<Figure size 1500x600 with 8 Axes>"
      ]
     },
     "metadata": {},
     "output_type": "display_data"
    }
   ],
   "source": [
    "# Cria uma figura com 10 subplots, uma para cada variável\n",
    "fig, axs = plt.subplots(nrows=2, ncols=4, figsize=(15, 6))\n",
    "\n",
    "# Cria um boxplot para cada variável\n",
    "axs[0, 0].boxplot(acidente_snv['br'])\n",
    "axs[0, 0].set_title('BR')\n",
    "\n",
    "axs[0, 1].boxplot(acidente_snv['km_inicial'])\n",
    "axs[0, 1].set_title('Km Inicial')\n",
    "\n",
    "axs[0, 2].boxplot(acidente_snv['km_final'])\n",
    "axs[0, 2].set_title('Km Final')\n",
    "\n",
    "axs[0, 3].boxplot(acidente_snv['extensao'])\n",
    "axs[0, 3].set_title('Extensão')\n",
    "\n",
    "axs[1, 0].boxplot(acidente_snv['num_acidente'])\n",
    "axs[1, 0].set_title('Número de Acidentes')\n",
    "\n",
    "axs[1, 1].boxplot(acidente_snv['mes'])\n",
    "axs[1, 1].set_title('Mês')\n",
    "\n",
    "axs[1, 2].boxplot(acidente_snv['ano'])\n",
    "axs[1, 2].set_title('Ano')\n",
    "\n",
    "# Ajusta o espaçamento entre os subplots\n",
    "plt.tight_layout()\n",
    "\n",
    "# Exibe o gráfico\n",
    "plt.show()"
   ]
  },
  {
   "cell_type": "code",
   "execution_count": 49,
   "id": "4b4a3151",
   "metadata": {},
   "outputs": [],
   "source": [
    "# Função de correlação.\n",
    "\n",
    "def correlacoes(acidente_snv):\n",
    "\n",
    "    corr = acidente_snv.corr().drop(acidente_snv.corr().index[0], axis='index').drop(acidente_snv.corr().index[-1], axis='columns')\n",
    "\n",
    "    mascara = np.triu(np.ones(corr.shape)).astype(bool)\n",
    "\n",
    "    for i in range(len(mascara)):\n",
    "        for j in range(mascara.shape[1]):\n",
    "            if i == j:\n",
    "                mascara[i, j] = False\n",
    "\n",
    "    sns.set(font_scale=1.0)\n",
    "    sns.set_style('whitegrid')\n",
    "    plt.figure(figsize=(15, 13))\n",
    "\n",
    "    mapa_calor = sns.heatmap(corr, mask=mascara, annot=True, vmin=-1, vmax=1, cmap='coolwarm', linewidths=1)\n",
    "\n",
    "    plt.show()\n"
   ]
  },
  {
   "cell_type": "code",
   "execution_count": 50,
   "id": "1f2e6d85",
   "metadata": {},
   "outputs": [
    {
     "data": {
      "image/png": "[encoded data removed]",
      "text/plain": [
       "<Figure size 1500x1300 with 2 Axes>"
      ]
     },
     "metadata": {},
     "output_type": "display_data"
    }
   ],
   "source": [
    "# Impressão das correlações\n",
    "correlacoes(acidente_snv)"
   ]
  },
  {
   "cell_type": "code",
   "execution_count": 51,
   "id": "0a74d546",
   "metadata": {},
   "outputs": [
    {
     "data": {
      "text/plain": [
       "br\n",
       "381    2561.0\n",
       "40     2100.0\n",
       "116    1404.0\n",
       "262    1152.0\n",
       "365     957.0\n",
       "50      525.0\n",
       "267     365.0\n",
       "251     303.0\n",
       "153     233.0\n",
       "135     217.0\n",
       "Name: num_acidente, dtype: float64"
      ]
     },
     "execution_count": 51,
     "metadata": {},
     "output_type": "execute_result"
    }
   ],
   "source": [
    "# Quantidade de acidentes \n",
    "acidente_snv.groupby('br')['num_acidente'].sum().sort_values(ascending=False).head(10)"
   ]
  },
  {
   "cell_type": "code",
   "execution_count": 52,
   "id": "26e340e7",
   "metadata": {},
   "outputs": [
    {
     "name": "stdout",
     "output_type": "stream",
     "text": [
      "br   codigo      Local de Início                                 Local de Fim                                       \n",
      "381  381BMG0490  ENTR BR-262/381 (FIM CONTORNO BETIM)            ENTR MG-155                                            209.0\n",
      "     381BMG0670  ENTR BR-265(B) (P/NEPOMUCENO)                   ENTR MG-167(A) (P/TRÊS CORAÇÕES)                       197.0\n",
      "     381BMG0790  ENTR MG-295 (CAMBUÍ)                            ENTR MG-460 (P/TOLEDO)                                 174.0\n",
      "     381BMG0770  ENTR BR-459 (P/POUSO ALEGRE)                    ENTR MG-295 (CAMBUÍ)                                   141.0\n",
      "     381BMG0630  ENTR MG-332 (SANTO ANTÔNIO DO AMPARO)           ENTR BR-354 (PERDÕES)                                  100.0\n",
      "     381BMG0530  ENTR MG-431 (P/ITAITIAIUÇU)                     ENTR MG-040 (ITAGUARA)                                 100.0\n",
      "     381BMG0170  ACESSO À GOV. VALADARES                         ENTR R SÃO LUIZ (PERIQUITO)                             92.0\n",
      "     381BMG0480  ENTR AV CAMPOS OURIQUE (INÍCIO CONTORNO BETIM)  ENTR BR-262/381 (FIM CONTORNO BETIM)                    87.0\n",
      "     381BMG0730  ENTR BR-267 (P/PALMELA)                         ENTR MG-458 (CAREAÇU)                                   86.0\n",
      "     381BMG0250  ENTR MG-320 (P/JAGUARAÇU)                       ENTR BR-120(A) (DESEMBARGADOR DRUMOND) (P/ ITABIRA)     85.0\n",
      "Name: num_acidente, dtype: float64\n"
     ]
    }
   ],
   "source": [
    "# Seleciona os acidentes na BR 381 com o código desejado\n",
    "acidente_381 = acidente_snv.loc[(acidente_snv['br'] == 381) & (acidente_snv['codigo'])]\n",
    "\n",
    "# Realiza o merge com a tabela 'snv'\n",
    "acidente_381 = pd.merge(acidente_381, snv[['codigo', 'Local de Início', 'Local de Fim']], on='codigo')\n",
    "\n",
    "# Agrupa por 'br' e 'codigo', soma o número de acidentes e ordena de forma decrescente\n",
    "acidente_381 = acidente_381.groupby(['br', 'codigo', 'Local de Início', 'Local de Fim'])['num_acidente'].sum().sort_values(ascending=False).head(10)\n",
    "\n",
    "# Imprime o resultado\n",
    "print(acidente_381)"
   ]
  },
  {
   "cell_type": "code",
   "execution_count": 53,
   "id": "0f723541",
   "metadata": {},
   "outputs": [
    {
     "name": "stdout",
     "output_type": "stream",
     "text": [
      "br  codigo      Local de Início                            Local de Fim                                                    \n",
      "40  040BMG0360  ENTR MG-432 (P/ESMERALDAS)                 ENTR BR-135(B)/262(A)/381(A) (ANEL RODOVIÁRIO DE BELO HORIZONTE)    232.0\n",
      "    040BMG0330  ENTR MG-238 (P/SETE LAGOAS)                ENTR MG-432 (P/ESMERALDAS)                                          204.0\n",
      "    040BMG0270  ENTR MG-231                                ENTR MG-424 (P/SETE LAGOAS)                                         165.0\n",
      "    040BMG0490  ENTR BR-383(B)/482 (CONSELHEIRO LAFAIETE)  ENTR MG-275 (P/CARANDAÍ)                                            112.0\n",
      "    040BMG0510  ENTR MG-275 (P/CARANDAÍ)                   ACESSO ALTO DOCE (INÍCIO PISTA DUPLA)                               102.0\n",
      "    040BMG0570  ENTR BR-499 (SANTOS DUMONT)                ENTR ANT UNIÃO E INDÚSTRIA (B. TRIUNFO)                              97.0\n",
      "    040BMG0170  ENTR BR-365                                ENTR MG-220 (TRÊS MARIAS)                                            94.0\n",
      "    040BMG0400  ENTR BR-356(A) (P/BELO HORIZONTE)          ENTR BR-356(B)                                                       93.0\n",
      "    040BMG0090  DIV GO/MG                                  ENTR MG-188(B) (P/SÃO SEBASTIÃO)                                     72.0\n",
      "    040BMG0130  ENTR MG-410 (P/PORTO DIAMANTE)             ENTR MG-181 (JOÃO PINHEIRO)                                          65.0\n",
      "Name: num_acidente, dtype: float64\n"
     ]
    }
   ],
   "source": [
    "# Seleciona os acidentes na BR 040 com o código desejado\n",
    "acidente_040 = acidente_snv.loc[(acidente_snv['br'] == 40) & (acidente_snv['codigo'])]\n",
    "\n",
    "# Realiza o merge com a tabela 'snv'\n",
    "acidente_040 = pd.merge(acidente_040, snv[['codigo', 'Local de Início', 'Local de Fim']], on='codigo')\n",
    "\n",
    "# Agrupa por 'br' e 'codigo', soma o número de acidentes e ordena de forma decrescente\n",
    "acidente_040 = acidente_040.groupby(['br', 'codigo', 'Local de Início', 'Local de Fim'])['num_acidente'].sum().sort_values(ascending=False).head(10)\n",
    "\n",
    "# Imprime o resultado\n",
    "print(acidente_040)"
   ]
  },
  {
   "cell_type": "code",
   "execution_count": 54,
   "id": "c312f452",
   "metadata": {},
   "outputs": [
    {
     "name": "stdout",
     "output_type": "stream",
     "text": [
      "br   codigo      Local de Início                            Local de Fim                          \n",
      "116  116BMG1350  ENTR BR-482 (FERVEDOURO)                   ENTR BR-265(A)/356 (MURIAÉ)               114.0\n",
      "     116BMG1450  ENTR BR-267(B) (P/TEBAS)                   ENTR BR-393(A)                             82.0\n",
      "     116BMG1195  ACESSO ITANHOMI                            ACESSO P/FERNANDES TOURINHO E SOBRÁLIA     82.0\n",
      "     116BMG1030  MEDINA (ACESSO SUL)                        ENTR BR-367 (P/ ITAOBIM)                   67.0\n",
      "     116BMG1410  ENTR MG-454 (P/RECREIO)                    ENTR BR-120/267(A) (LEOPOLDINA)            66.0\n",
      "     116BMG1230  ENTR BR-458(B) (P/IAPÚ)                    ENTR MG-425 (P/ENTRE FOLHAS)               63.0\n",
      "     116BMG1130  ENTR BR-342(B)/418/MG-217 (TEÓFILO OTONI)  ACESSO ITAMBACURI                          62.0\n",
      "     116BMG1050  ENTR BR-367 (P/ ITAOBIM)                   PADRE PARAÍSO (ACESSO SUL)                 59.0\n",
      "     116BMG1370  ENTR BR-265(B)                             ENTR MG-285 (LARANJAL)                     58.0\n",
      "     116BMG1150  ACESSO ITAMBACURI                          ENTR MG-311 (P/PESCADOR)                   57.0\n",
      "Name: num_acidente, dtype: float64\n"
     ]
    }
   ],
   "source": [
    "# Seleciona os acidentes na BR 116 com o código desejado\n",
    "acidente_116 = acidente_snv.loc[(acidente_snv['br'] == 116) & (acidente_snv['codigo'])]\n",
    "\n",
    "# Realiza o merge com a tabela 'snv'\n",
    "acidente_116 = pd.merge(acidente_116, snv[['codigo', 'Local de Início', 'Local de Fim']], on='codigo')\n",
    "\n",
    "# Agrupa por 'br' e 'codigo', soma o número de acidentes e ordena de forma decrescente\n",
    "acidente_116 = acidente_116.groupby(['br', 'codigo', 'Local de Início', 'Local de Fim'])['num_acidente'].sum().sort_values(ascending=False).head(10)\n",
    "\n",
    "# Imprime o resultado\n",
    "print(acidente_116)"
   ]
  },
  {
   "cell_type": "code",
   "execution_count": 55,
   "id": "af54260c",
   "metadata": {},
   "outputs": [
    {
     "data": {
      "text/plain": [
       "mes\n",
       "10    1006.0\n",
       "2      947.0\n",
       "11     944.0\n",
       "12     930.0\n",
       "3      870.0\n",
       "1      854.0\n",
       "7      837.0\n",
       "8      835.0\n",
       "5      816.0\n",
       "6      814.0\n",
       "Name: num_acidente, dtype: float64"
      ]
     },
     "execution_count": 55,
     "metadata": {},
     "output_type": "execute_result"
    }
   ],
   "source": [
    "# Quantiodade de acidentes por mês\n",
    "acidente_snv.groupby('mes')['num_acidente'].sum().sort_values(ascending=False).head(10)"
   ]
  },
  {
   "cell_type": "code",
   "execution_count": 56,
   "id": "f8995d61",
   "metadata": {},
   "outputs": [
    {
     "data": {
      "text/plain": [
       "ano\n",
       "2017    1414.0\n",
       "2018     921.0\n",
       "2020     799.0\n",
       "2019     770.0\n",
       "2007     715.0\n",
       "2008     696.0\n",
       "2012     642.0\n",
       "2011     623.0\n",
       "2010     599.0\n",
       "2013     586.0\n",
       "Name: num_acidente, dtype: float64"
      ]
     },
     "execution_count": 56,
     "metadata": {},
     "output_type": "execute_result"
    }
   ],
   "source": [
    "# Quantiodade de acidentes por ano\n",
    "acidente_snv.groupby('ano')['num_acidente'].sum().sort_values(ascending=False).head(10)"
   ]
  },
  {
   "cell_type": "code",
   "execution_count": 57,
   "id": "dc70bb5e",
   "metadata": {},
   "outputs": [
    {
     "data": {
      "text/plain": [
       "mes_ano\n",
       "2017-02-01    155.0\n",
       "2017-11-01    148.0\n",
       "2017-12-01    146.0\n",
       "2017-03-01    133.0\n",
       "2018-01-01    129.0\n",
       "2018-02-01    129.0\n",
       "2017-04-01    124.0\n",
       "2017-05-01    120.0\n",
       "2017-10-01    112.0\n",
       "2017-06-01    110.0\n",
       "Name: num_acidente, dtype: float64"
      ]
     },
     "execution_count": 57,
     "metadata": {},
     "output_type": "execute_result"
    }
   ],
   "source": [
    "# Quantiodade de acidentes por mês/ano\n",
    "acidente_snv.groupby('mes_ano')['num_acidente'].sum().sort_values(ascending=False).head(10)"
   ]
  },
  {
   "cell_type": "markdown",
   "id": "edfbfcfc",
   "metadata": {},
   "source": [
    "## 5.0 - Criação, treinamento, aplicação e avaliação de Modelos de Machine Learning"
   ]
  },
  {
   "cell_type": "markdown",
   "id": "fee2d2de",
   "metadata": {},
   "source": [
    "## 5.1 - Etapas Iniciais"
   ]
  },
  {
   "cell_type": "code",
   "execution_count": 58,
   "id": "f6d68af3",
   "metadata": {},
   "outputs": [],
   "source": [
    "# Selecionando y e X\n",
    "y = acidente_snv['num_acidente']\n",
    "X = acidente_snv[['mes', 'ano', 'br', 'uf', 'km_inicial', 'km_final', 'extensao']]"
   ]
  },
  {
   "cell_type": "code",
   "execution_count": 59,
   "id": "263b244f",
   "metadata": {},
   "outputs": [],
   "source": [
    "# OneHotEncoder\n",
    "# Codificar as colunas \"UF\" usando OneHotEncoder\n",
    "enc = OneHotEncoder(sparse=False, handle_unknown='ignore')\n",
    "X_enc = enc.fit_transform(X[['uf']])\n",
    "\n",
    "# Obter as categorias codificadas\n",
    "uf_categories = enc.categories_[0]\n",
    "\n",
    "# Criar dataframes para as colunas codificadas\n",
    "uf_encoded = pd.DataFrame(X_enc[:, :len(uf_categories)], index=X.index, columns=[f'uf_{category}' for category in uf_categories])\n",
    "\n",
    "# Combinar as colunas codificadas com as outras variáveis independentes\n",
    "X = pd.concat([X.drop(columns=['uf']), uf_encoded], axis=1)"
   ]
  },
  {
   "cell_type": "code",
   "execution_count": 60,
   "id": "fad418f3",
   "metadata": {},
   "outputs": [],
   "source": [
    "# StandardScaler\n",
    "scaler = StandardScaler()\n",
    "X = scaler.fit_transform(X)"
   ]
  },
  {
   "cell_type": "code",
   "execution_count": 61,
   "id": "9b31070d",
   "metadata": {},
   "outputs": [],
   "source": [
    "# Model Selection - Splitter Functions\n",
    "X_train, X_test, y_train, y_test = train_test_split(X, y, test_size=0.3, train_size=0.7, random_state=42)"
   ]
  },
  {
   "cell_type": "markdown",
   "id": "eb1e9b68",
   "metadata": {},
   "source": [
    "## 5.2 - Algoritmos"
   ]
  },
  {
   "cell_type": "markdown",
   "id": "4541baae",
   "metadata": {},
   "source": [
    "## 5.2.1 - KNN"
   ]
  },
  {
   "cell_type": "code",
   "execution_count": 62,
   "id": "ac3a454b",
   "metadata": {},
   "outputs": [
    {
     "name": "stdout",
     "output_type": "stream",
     "text": [
      "Melhores hiperparâmetros: {'algorithm': 'ball_tree', 'metric': 'minkowski', 'n_neighbors': 9, 'p': 2, 'weights': 'uniform'}\n"
     ]
    }
   ],
   "source": [
    "# Grid Search\n",
    "# Definir os valores dos hiperparâmetros a serem testados\n",
    "param_grid = {\n",
    "    'n_neighbors': [1, 3, 5, 7, 9],\n",
    "    'weights': ['uniform', 'distance'],\n",
    "    'algorithm' : ['auto', 'ball_tree', 'kd_tree', 'brute'],\n",
    "    'p' : [1, 2],\n",
    "    'metric' : ['cityblock', 'minkowski', 'euclidean']\n",
    "    }\n",
    "\n",
    "# Criar um objeto GridSearchCV com os valores dos hiperparâmetros a serem testados\n",
    "grid = GridSearchCV(KNeighborsClassifier(), param_grid)\n",
    "\n",
    "# Treinar o modelo com o conjunto de treinamento\n",
    "grid.fit(X_train, y_train)\n",
    "\n",
    "# Imprimir os melhores hiperparâmetros encontrados\n",
    "print(\"Melhores hiperparâmetros:\", grid.best_params_)"
   ]
  },
  {
   "cell_type": "code",
   "execution_count": 63,
   "id": "7c037ee9",
   "metadata": {},
   "outputs": [
    {
     "name": "stdout",
     "output_type": "stream",
     "text": [
      "Acurácia: 95.11%\n",
      "Precisão: 91.90%\n",
      "Recall: 95.11%\n",
      "F1 Score: 93.07%\n"
     ]
    }
   ],
   "source": [
    "# Treinar o modelo\n",
    "clf = KNeighborsClassifier(algorithm='ball_tree', metric='minkowski', n_neighbors=9, p=2, weights='uniform')\n",
    "clf.fit(X_train, y_train)\n",
    "\n",
    "# Fazer previsões com o conjunto de teste\n",
    "y_pred = clf.predict(X_test)\n",
    "\n",
    "# Avaliar o desempenho do modelo\n",
    "print(\"Acurácia: {:.2f}%\".format(accuracy_score(y_test, y_pred)*100))\n",
    "print(\"Precisão: {:.2f}%\".format(precision_score(y_test, y_pred, average='weighted')*100))\n",
    "print(\"Recall: {:.2f}%\".format(recall_score(y_test, y_pred, average='weighted')*100))\n",
    "print(\"F1 Score: {:.2f}%\".format(f1_score(y_test, y_pred, average='weighted')*100))"
   ]
  },
  {
   "cell_type": "code",
   "execution_count": 64,
   "id": "e3f0e8a1",
   "metadata": {},
   "outputs": [
    {
     "data": {
      "image/png": "[encoded data removed]",
      "text/plain": [
       "<Figure size 400x300 with 2 Axes>"
      ]
     },
     "metadata": {},
     "output_type": "display_data"
    }
   ],
   "source": [
    "# Calcular a matriz de confusão\n",
    "cm = confusion_matrix(y_test, y_pred)\n",
    "\n",
    "# Criar um gráfico de matriz de confusão\n",
    "plt.figure(figsize=(4, 3))\n",
    "sns.set(font_scale=0.5)\n",
    "sns.heatmap(cm, annot=True, cmap='Blues', fmt='g')\n",
    "plt.xlabel('Predito')\n",
    "plt.ylabel('Real')\n",
    "plt.title('Matriz de Confusão')\n",
    "plt.show()"
   ]
  },
  {
   "cell_type": "code",
   "execution_count": 65,
   "id": "b517e41a",
   "metadata": {},
   "outputs": [
    {
     "data": {
      "text/html": [
       "<div>\n",
       "<style scoped>\n",
       "    .dataframe tbody tr th:only-of-type {\n",
       "        vertical-align: middle;\n",
       "    }\n",
       "\n",
       "    .dataframe tbody tr th {\n",
       "        vertical-align: top;\n",
       "    }\n",
       "\n",
       "    .dataframe thead th {\n",
       "        text-align: right;\n",
       "    }\n",
       "</style>\n",
       "<table border=\"1\" class=\"dataframe\">\n",
       "  <thead>\n",
       "    <tr style=\"text-align: right;\">\n",
       "      <th></th>\n",
       "      <th>resultados_knn</th>\n",
       "    </tr>\n",
       "  </thead>\n",
       "  <tbody>\n",
       "    <tr>\n",
       "      <th>count</th>\n",
       "      <td>5.000000</td>\n",
       "    </tr>\n",
       "    <tr>\n",
       "      <th>mean</th>\n",
       "      <td>0.950738</td>\n",
       "    </tr>\n",
       "    <tr>\n",
       "      <th>std</th>\n",
       "      <td>0.000090</td>\n",
       "    </tr>\n",
       "    <tr>\n",
       "      <th>min</th>\n",
       "      <td>0.950622</td>\n",
       "    </tr>\n",
       "    <tr>\n",
       "      <th>25%</th>\n",
       "      <td>0.950705</td>\n",
       "    </tr>\n",
       "    <tr>\n",
       "      <th>50%</th>\n",
       "      <td>0.950740</td>\n",
       "    </tr>\n",
       "    <tr>\n",
       "      <th>75%</th>\n",
       "      <td>0.950752</td>\n",
       "    </tr>\n",
       "    <tr>\n",
       "      <th>max</th>\n",
       "      <td>0.950871</td>\n",
       "    </tr>\n",
       "  </tbody>\n",
       "</table>\n",
       "</div>"
      ],
      "text/plain": [
       "       resultados_knn\n",
       "count        5.000000\n",
       "mean         0.950738\n",
       "std          0.000090\n",
       "min          0.950622\n",
       "25%          0.950705\n",
       "50%          0.950740\n",
       "75%          0.950752\n",
       "max          0.950871"
      ]
     },
     "execution_count": 65,
     "metadata": {},
     "output_type": "execute_result"
    }
   ],
   "source": [
    "# KFold + cross-validation score\n",
    "resultados_knn_clf = []\n",
    "for i in range (5):\n",
    "    kfold = KFold(n_splits=10, shuffle=True, random_state=i)\n",
    "    score = cross_val_score(clf, X, y, cv = kfold)\n",
    "    resultados_knn_clf.append(score.mean())\n",
    "\n",
    "df_resultados_knn_clf = pd.DataFrame(resultados_knn_clf,columns=['resultados_knn'])\n",
    "df_resultados_knn_clf.describe()"
   ]
  },
  {
   "cell_type": "markdown",
   "id": "37580666",
   "metadata": {},
   "source": [
    "## 5.2.2 - SGD Classifier"
   ]
  },
  {
   "cell_type": "code",
   "execution_count": 66,
   "id": "f9e4cf65",
   "metadata": {},
   "outputs": [
    {
     "name": "stdout",
     "output_type": "stream",
     "text": [
      "Melhores hiperparâmetros: {'alpha': 0.0001, 'loss': 'hinge', 'max_iter': 5, 'penalty': 'l2'}\n"
     ]
    }
   ],
   "source": [
    "# Grid Search\n",
    "# Definir os valores dos hiperparâmetros a serem testados\n",
    "param_grid = {\n",
    "    'loss' : ['hinge', 'log_loss', 'modified_huber', 'squared_hinge', 'perceptron'],\n",
    "    'penalty' : ['l2', 'l1', 'elasticnet', None],\n",
    "    'alpha' : [0.0001, 0.001, 0.01, 0.1],\n",
    "    'max_iter' : [5, 10, 20, 50, 100, 1000]\n",
    "    }\n",
    "\n",
    "# Criar um objeto GridSearchCV com os valores dos hiperparâmetros a serem testados\n",
    "grid = GridSearchCV(SGDClassifier(random_state=42), param_grid)\n",
    "\n",
    "# Treinar o modelo com o conjunto de treinamento\n",
    "grid.fit(X_train, y_train)\n",
    "\n",
    "# Imprimir os melhores hiperparâmetros encontrados\n",
    "print(\"Melhores hiperparâmetros:\", grid.best_params_)"
   ]
  },
  {
   "cell_type": "code",
   "execution_count": 67,
   "id": "14b76add",
   "metadata": {},
   "outputs": [
    {
     "name": "stdout",
     "output_type": "stream",
     "text": [
      "Acurácia: 95.25%\n",
      "Precisão: 90.72%\n",
      "Recall: 95.25%\n",
      "F1 Score: 92.93%\n"
     ]
    }
   ],
   "source": [
    "# Treinar o modelo\n",
    "clf = SGDClassifier(random_state=42, alpha=0.0001, loss='hinge', max_iter=5, penalty='l2')\n",
    "clf.fit(X_train, y_train)\n",
    "\n",
    "# Fazer previsões com o conjunto de teste\n",
    "y_pred = clf.predict(X_test)\n",
    "\n",
    "# Avaliar o desempenho do modelo\n",
    "print(\"Acurácia: {:.2f}%\".format(accuracy_score(y_test, y_pred)*100))\n",
    "print(\"Precisão: {:.2f}%\".format(precision_score(y_test, y_pred, average='weighted')*100))\n",
    "print(\"Recall: {:.2f}%\".format(recall_score(y_test, y_pred, average='weighted')*100))\n",
    "print(\"F1 Score: {:.2f}%\".format(f1_score(y_test, y_pred, average='weighted')*100))"
   ]
  },
  {
   "cell_type": "code",
   "execution_count": 68,
   "id": "99eb45a8",
   "metadata": {},
   "outputs": [
    {
     "data": {
      "image/png": "[encoded data removed]",
      "text/plain": [
       "<Figure size 400x300 with 2 Axes>"
      ]
     },
     "metadata": {},
     "output_type": "display_data"
    }
   ],
   "source": [
    "# Calcular a matriz de confusão\n",
    "cm = confusion_matrix(y_test, y_pred)\n",
    "\n",
    "# Criar um gráfico de matriz de confusão\n",
    "plt.figure(figsize=(4, 3))\n",
    "sns.heatmap(cm, annot=True, cmap='Blues', fmt='g')\n",
    "plt.xlabel('Predito')\n",
    "plt.ylabel('Real')\n",
    "plt.title('Matriz de Confusão')\n",
    "plt.show()"
   ]
  },
  {
   "cell_type": "code",
   "execution_count": 69,
   "id": "fb18dfe7",
   "metadata": {},
   "outputs": [
    {
     "data": {
      "text/html": [
       "<div>\n",
       "<style scoped>\n",
       "    .dataframe tbody tr th:only-of-type {\n",
       "        vertical-align: middle;\n",
       "    }\n",
       "\n",
       "    .dataframe tbody tr th {\n",
       "        vertical-align: top;\n",
       "    }\n",
       "\n",
       "    .dataframe thead th {\n",
       "        text-align: right;\n",
       "    }\n",
       "</style>\n",
       "<table border=\"1\" class=\"dataframe\">\n",
       "  <thead>\n",
       "    <tr style=\"text-align: right;\">\n",
       "      <th></th>\n",
       "      <th>resultados_sgd_classifier</th>\n",
       "    </tr>\n",
       "  </thead>\n",
       "  <tbody>\n",
       "    <tr>\n",
       "      <th>count</th>\n",
       "      <td>5.000000e+00</td>\n",
       "    </tr>\n",
       "    <tr>\n",
       "      <th>mean</th>\n",
       "      <td>9.517725e-01</td>\n",
       "    </tr>\n",
       "    <tr>\n",
       "      <th>std</th>\n",
       "      <td>7.700000e-09</td>\n",
       "    </tr>\n",
       "    <tr>\n",
       "      <th>min</th>\n",
       "      <td>9.517725e-01</td>\n",
       "    </tr>\n",
       "    <tr>\n",
       "      <th>25%</th>\n",
       "      <td>9.517725e-01</td>\n",
       "    </tr>\n",
       "    <tr>\n",
       "      <th>50%</th>\n",
       "      <td>9.517725e-01</td>\n",
       "    </tr>\n",
       "    <tr>\n",
       "      <th>75%</th>\n",
       "      <td>9.517725e-01</td>\n",
       "    </tr>\n",
       "    <tr>\n",
       "      <th>max</th>\n",
       "      <td>9.517725e-01</td>\n",
       "    </tr>\n",
       "  </tbody>\n",
       "</table>\n",
       "</div>"
      ],
      "text/plain": [
       "       resultados_sgd_classifier\n",
       "count               5.000000e+00\n",
       "mean                9.517725e-01\n",
       "std                 7.700000e-09\n",
       "min                 9.517725e-01\n",
       "25%                 9.517725e-01\n",
       "50%                 9.517725e-01\n",
       "75%                 9.517725e-01\n",
       "max                 9.517725e-01"
      ]
     },
     "execution_count": 69,
     "metadata": {},
     "output_type": "execute_result"
    }
   ],
   "source": [
    "# KFold + cross-validation score\n",
    "resultados_sgd_classifier_clf = []\n",
    "for i in range (5):\n",
    "    kfold = KFold(n_splits=10, shuffle=True, random_state=i)\n",
    "    score = cross_val_score(clf, X, y, cv = kfold)\n",
    "    resultados_sgd_classifier_clf.append(score.mean())\n",
    "\n",
    "df_resultados_sgd_classifier = pd.DataFrame(resultados_sgd_classifier_clf,columns=['resultados_sgd_classifier'])\n",
    "df_resultados_sgd_classifier.describe()"
   ]
  },
  {
   "cell_type": "markdown",
   "id": "3e4a9123",
   "metadata": {},
   "source": [
    "## 5.2.3 - Random Forest Classifier"
   ]
  },
  {
   "cell_type": "code",
   "execution_count": 70,
   "id": "f0c2cceb",
   "metadata": {},
   "outputs": [
    {
     "name": "stdout",
     "output_type": "stream",
     "text": [
      "Melhores hiperparâmetros: {'criterion': 'gini', 'min_samples_leaf': 7, 'min_samples_split': 2, 'n_estimators': 100}\n"
     ]
    }
   ],
   "source": [
    "# Grid Search\n",
    "# Definir os valores dos hiperparâmetros a serem testados\n",
    "param_grid = {\n",
    "    'n_estimators' : [25, 50, 75, 100],\n",
    "    'criterion' : ['gini', 'entropy', 'log_loss'],\n",
    "    'min_samples_split' : [2, 4, 6, 8, 10],\n",
    "    'min_samples_leaf' : [1, 3, 5, 7]\n",
    "    }\n",
    "\n",
    "# Criar um objeto GridSearchCV com os valores dos hiperparâmetros a serem testados\n",
    "grid = GridSearchCV(RandomForestClassifier(random_state=42), param_grid)\n",
    "\n",
    "# Treinar o modelo com o conjunto de treinamento\n",
    "grid.fit(X_train, y_train)\n",
    "\n",
    "# Imprimir os melhores hiperparâmetros encontrados\n",
    "print(\"Melhores hiperparâmetros:\", grid.best_params_)"
   ]
  },
  {
   "cell_type": "code",
   "execution_count": 71,
   "id": "564950e5",
   "metadata": {},
   "outputs": [
    {
     "name": "stdout",
     "output_type": "stream",
     "text": [
      "Acurácia: 95.20%\n",
      "Precisão: 92.14%\n",
      "Recall: 95.20%\n",
      "F1 Score: 93.12%\n"
     ]
    }
   ],
   "source": [
    "# Treinar o modelo\n",
    "clf = RandomForestClassifier(random_state=42, criterion='gini', min_samples_leaf=7, min_samples_split=2, n_estimators=100)\n",
    "clf.fit(X_train, y_train)\n",
    "\n",
    "# Fazer previsões com o conjunto de teste\n",
    "y_pred = clf.predict(X_test)\n",
    "\n",
    "# Avaliar o desempenho do modelo\n",
    "print(\"Acurácia: {:.2f}%\".format(accuracy_score(y_test, y_pred)*100))\n",
    "print(\"Precisão: {:.2f}%\".format(precision_score(y_test, y_pred, average='weighted')*100))\n",
    "print(\"Recall: {:.2f}%\".format(recall_score(y_test, y_pred, average='weighted')*100))\n",
    "print(\"F1 Score: {:.2f}%\".format(f1_score(y_test, y_pred, average='weighted')*100))"
   ]
  },
  {
   "cell_type": "code",
   "execution_count": 72,
   "id": "41d82a37",
   "metadata": {},
   "outputs": [
    {
     "data": {
      "image/png": "[encoded data removed]",
      "text/plain": [
       "<Figure size 400x300 with 2 Axes>"
      ]
     },
     "metadata": {},
     "output_type": "display_data"
    }
   ],
   "source": [
    "# Calcular a matriz de confusão\n",
    "cm = confusion_matrix(y_test, y_pred)\n",
    "\n",
    "# Criar um gráfico de matriz de confusão\n",
    "plt.figure(figsize=(4, 3))\n",
    "sns.heatmap(cm, annot=True, cmap='Blues', fmt='g')\n",
    "plt.xlabel('Predito')\n",
    "plt.ylabel('Real')\n",
    "plt.title('Matriz de Confusão')\n",
    "plt.show()"
   ]
  },
  {
   "cell_type": "code",
   "execution_count": 73,
   "id": "1bb45830",
   "metadata": {},
   "outputs": [
    {
     "data": {
      "text/html": [
       "<div>\n",
       "<style scoped>\n",
       "    .dataframe tbody tr th:only-of-type {\n",
       "        vertical-align: middle;\n",
       "    }\n",
       "\n",
       "    .dataframe tbody tr th {\n",
       "        vertical-align: top;\n",
       "    }\n",
       "\n",
       "    .dataframe thead th {\n",
       "        text-align: right;\n",
       "    }\n",
       "</style>\n",
       "<table border=\"1\" class=\"dataframe\">\n",
       "  <thead>\n",
       "    <tr style=\"text-align: right;\">\n",
       "      <th></th>\n",
       "      <th>resultados_random_forest_classifier</th>\n",
       "    </tr>\n",
       "  </thead>\n",
       "  <tbody>\n",
       "    <tr>\n",
       "      <th>count</th>\n",
       "      <td>5.000000</td>\n",
       "    </tr>\n",
       "    <tr>\n",
       "      <th>mean</th>\n",
       "      <td>0.951337</td>\n",
       "    </tr>\n",
       "    <tr>\n",
       "      <th>std</th>\n",
       "      <td>0.000045</td>\n",
       "    </tr>\n",
       "    <tr>\n",
       "      <th>min</th>\n",
       "      <td>0.951280</td>\n",
       "    </tr>\n",
       "    <tr>\n",
       "      <th>25%</th>\n",
       "      <td>0.951304</td>\n",
       "    </tr>\n",
       "    <tr>\n",
       "      <th>50%</th>\n",
       "      <td>0.951345</td>\n",
       "    </tr>\n",
       "    <tr>\n",
       "      <th>75%</th>\n",
       "      <td>0.951363</td>\n",
       "    </tr>\n",
       "    <tr>\n",
       "      <th>max</th>\n",
       "      <td>0.951393</td>\n",
       "    </tr>\n",
       "  </tbody>\n",
       "</table>\n",
       "</div>"
      ],
      "text/plain": [
       "       resultados_random_forest_classifier\n",
       "count                             5.000000\n",
       "mean                              0.951337\n",
       "std                               0.000045\n",
       "min                               0.951280\n",
       "25%                               0.951304\n",
       "50%                               0.951345\n",
       "75%                               0.951363\n",
       "max                               0.951393"
      ]
     },
     "execution_count": 73,
     "metadata": {},
     "output_type": "execute_result"
    }
   ],
   "source": [
    "# KFold + cross-validation score\n",
    "resultados_random_forest_classifier_clf = []\n",
    "for i in range (5):\n",
    "    kfold = KFold(n_splits=10, shuffle=True, random_state=i)\n",
    "    score = cross_val_score(clf, X, y, cv = kfold)\n",
    "    resultados_random_forest_classifier_clf.append(score.mean())\n",
    "\n",
    "df_resultados_random_forest_classifier = pd.DataFrame(resultados_random_forest_classifier_clf,columns=['resultados_random_forest_classifier'])\n",
    "df_resultados_random_forest_classifier.describe()"
   ]
  },
  {
   "cell_type": "markdown",
   "id": "2b77827b",
   "metadata": {},
   "source": [
    "## 5.2.4 - Decision Tree Regressor"
   ]
  },
  {
   "cell_type": "code",
   "execution_count": 74,
   "id": "9cb016c6",
   "metadata": {},
   "outputs": [
    {
     "name": "stdout",
     "output_type": "stream",
     "text": [
      "Melhores hiperparâmetros: {'criterion': 'squared_error'}\n"
     ]
    }
   ],
   "source": [
    "# Grid Search\n",
    "# Definir os valores dos hiperparâmetros a serem testados\n",
    "param_grid = {\n",
    "    'criterion' : ['squared_error', 'friedman_mse', 'absolute_error'],\n",
    "    }\n",
    "\n",
    "# Criar um objeto GridSearchCV com os valores dos hiperparâmetros a serem testados\n",
    "grid = GridSearchCV(DecisionTreeRegressor(random_state=42, ), param_grid)\n",
    "\n",
    "# Treinar o modelo com o conjunto de treinamento\n",
    "grid.fit(X_train, y_train)\n",
    "\n",
    "# Imprimir os melhores hiperparâmetros encontrados\n",
    "print(\"Melhores hiperparâmetros:\", grid.best_params_)"
   ]
  },
  {
   "cell_type": "code",
   "execution_count": 104,
   "id": "8e2b4954",
   "metadata": {},
   "outputs": [
    {
     "name": "stdout",
     "output_type": "stream",
     "text": [
      "Acurácia: 92.03%\n",
      "Precisão: 92.61%\n",
      "Recall: 92.03%\n",
      "F1 Score: 92.31%\n"
     ]
    }
   ],
   "source": [
    "# Treinar o modelo\n",
    "clf = DecisionTreeRegressor(random_state=42, criterion='squared_error')\n",
    "clf.fit(X_train, y_train)\n",
    "\n",
    "# Fazer previsões com o conjunto de teste\n",
    "y_pred = clf.predict(X_test)\n",
    "\n",
    "# Avaliar o desempenho do modelo\n",
    "print(\"Acurácia: {:.2f}%\".format(accuracy_score(y_test, y_pred)*100))\n",
    "print(\"Precisão: {:.2f}%\".format(precision_score(y_test, y_pred, average='weighted')*100))\n",
    "print(\"Recall: {:.2f}%\".format(recall_score(y_test, y_pred, average='weighted')*100))\n",
    "print(\"F1 Score: {:.2f}%\".format(f1_score(y_test, y_pred, average='weighted')*100))"
   ]
  },
  {
   "cell_type": "code",
   "execution_count": 105,
   "id": "1fca42fe",
   "metadata": {},
   "outputs": [
    {
     "data": {
      "image/png": "[encoded data removed]",
      "text/plain": [
       "<Figure size 400x300 with 2 Axes>"
      ]
     },
     "metadata": {},
     "output_type": "display_data"
    }
   ],
   "source": [
    "# Calcular a matriz de confusão\n",
    "cm = confusion_matrix(y_test, y_pred)\n",
    "\n",
    "# Criar um gráfico de matriz de confusão\n",
    "plt.figure(figsize=(4, 3))\n",
    "sns.heatmap(cm, annot=True, cmap='Blues', fmt='g')\n",
    "plt.xlabel('Predito')\n",
    "plt.ylabel('Real')\n",
    "plt.title('Matriz de Confusão')\n",
    "plt.show()"
   ]
  },
  {
   "cell_type": "code",
   "execution_count": 77,
   "id": "cb6d5551",
   "metadata": {},
   "outputs": [
    {
     "data": {
      "text/html": [
       "<div>\n",
       "<style scoped>\n",
       "    .dataframe tbody tr th:only-of-type {\n",
       "        vertical-align: middle;\n",
       "    }\n",
       "\n",
       "    .dataframe tbody tr th {\n",
       "        vertical-align: top;\n",
       "    }\n",
       "\n",
       "    .dataframe thead th {\n",
       "        text-align: right;\n",
       "    }\n",
       "</style>\n",
       "<table border=\"1\" class=\"dataframe\">\n",
       "  <thead>\n",
       "    <tr style=\"text-align: right;\">\n",
       "      <th></th>\n",
       "      <th>resultados_decision_tree_regressor</th>\n",
       "    </tr>\n",
       "  </thead>\n",
       "  <tbody>\n",
       "    <tr>\n",
       "      <th>count</th>\n",
       "      <td>5.000000</td>\n",
       "    </tr>\n",
       "    <tr>\n",
       "      <th>mean</th>\n",
       "      <td>-0.573700</td>\n",
       "    </tr>\n",
       "    <tr>\n",
       "      <th>std</th>\n",
       "      <td>0.017189</td>\n",
       "    </tr>\n",
       "    <tr>\n",
       "      <th>min</th>\n",
       "      <td>-0.591102</td>\n",
       "    </tr>\n",
       "    <tr>\n",
       "      <th>25%</th>\n",
       "      <td>-0.581496</td>\n",
       "    </tr>\n",
       "    <tr>\n",
       "      <th>50%</th>\n",
       "      <td>-0.576059</td>\n",
       "    </tr>\n",
       "    <tr>\n",
       "      <th>75%</th>\n",
       "      <td>-0.574638</td>\n",
       "    </tr>\n",
       "    <tr>\n",
       "      <th>max</th>\n",
       "      <td>-0.545207</td>\n",
       "    </tr>\n",
       "  </tbody>\n",
       "</table>\n",
       "</div>"
      ],
      "text/plain": [
       "       resultados_decision_tree_regressor\n",
       "count                            5.000000\n",
       "mean                            -0.573700\n",
       "std                              0.017189\n",
       "min                             -0.591102\n",
       "25%                             -0.581496\n",
       "50%                             -0.576059\n",
       "75%                             -0.574638\n",
       "max                             -0.545207"
      ]
     },
     "execution_count": 77,
     "metadata": {},
     "output_type": "execute_result"
    }
   ],
   "source": [
    "# KFold + cross-validation score\n",
    "resultados_decision_tree_regressor_clf = []\n",
    "for i in range (5):\n",
    "    kfold = KFold(n_splits=10, shuffle=True, random_state=i)\n",
    "    score = cross_val_score(clf, X, y, cv = kfold)\n",
    "    resultados_decision_tree_regressor_clf.append(score.mean())\n",
    "\n",
    "df_resultados_decision_tree_regressor = pd.DataFrame(resultados_decision_tree_regressor_clf,columns=['resultados_decision_tree_regressor'])\n",
    "df_resultados_decision_tree_regressor.describe()"
   ]
  },
  {
   "cell_type": "markdown",
   "id": "8801b676",
   "metadata": {},
   "source": [
    "## 5.2.5 - Regressão Logística"
   ]
  },
  {
   "cell_type": "code",
   "execution_count": 78,
   "id": "55c46809",
   "metadata": {},
   "outputs": [
    {
     "name": "stdout",
     "output_type": "stream",
     "text": [
      "Melhores hiperparâmetros: {'solver': 'lbfgs'}\n"
     ]
    }
   ],
   "source": [
    "# Grid Search\n",
    "# Definir os valores dos hiperparâmetros a serem testados\n",
    "param_grid = {\n",
    "    'solver' : ['lbfgs', 'liblinear', 'newton-cg', 'newton-cholesky', 'sag', 'saga']\n",
    "    }\n",
    "\n",
    "# Criar um objeto GridSearchCV com os valores dos hiperparâmetros a serem testados\n",
    "grid = GridSearchCV(LogisticRegression(random_state=42), param_grid)\n",
    "\n",
    "# Treinar o modelo com o conjunto de treinamento\n",
    "grid.fit(X_train, y_train)\n",
    "\n",
    "# Imprimir os melhores hiperparâmetros encontrados\n",
    "print(\"Melhores hiperparâmetros:\", grid.best_params_)"
   ]
  },
  {
   "cell_type": "code",
   "execution_count": 107,
   "id": "1918db18",
   "metadata": {},
   "outputs": [
    {
     "name": "stdout",
     "output_type": "stream",
     "text": [
      "Acurácia: 95.25%\n",
      "Precisão: 90.72%\n",
      "Recall: 95.25%\n",
      "F1 Score: 92.93%\n"
     ]
    }
   ],
   "source": [
    "# Treinar o modelo\n",
    "clf = LogisticRegression(random_state=42, solver='lbfgs')\n",
    "clf.fit(X_train, y_train)\n",
    "\n",
    "# Fazer previsões com o conjunto de teste\n",
    "y_pred = clf.predict(X_test)\n",
    "\n",
    "# Avaliar o desempenho do modelo\n",
    "print(\"Acurácia: {:.2f}%\".format(accuracy_score(y_test, y_pred)*100))\n",
    "print(\"Precisão: {:.2f}%\".format(precision_score(y_test, y_pred, average='weighted')*100))\n",
    "print(\"Recall: {:.2f}%\".format(recall_score(y_test, y_pred, average='weighted')*100))\n",
    "print(\"F1 Score: {:.2f}%\".format(f1_score(y_test, y_pred, average='weighted')*100))"
   ]
  },
  {
   "cell_type": "code",
   "execution_count": 108,
   "id": "c3c6d2e4",
   "metadata": {},
   "outputs": [
    {
     "data": {
      "image/png": "[encoded data removed]",
      "text/plain": [
       "<Figure size 400x300 with 2 Axes>"
      ]
     },
     "metadata": {},
     "output_type": "display_data"
    }
   ],
   "source": [
    "# Calcular a matriz de confusão\n",
    "cm = confusion_matrix(y_test, y_pred)\n",
    "\n",
    "# Criar um gráfico de matriz de confusão\n",
    "plt.figure(figsize=(4, 3))\n",
    "sns.heatmap(cm, annot=True, cmap='Blues', fmt='g')\n",
    "plt.xlabel('Predito')\n",
    "plt.ylabel('Real')\n",
    "plt.title('Matriz de Confusão')\n",
    "plt.show()"
   ]
  },
  {
   "cell_type": "code",
   "execution_count": 81,
   "id": "b0e7f27b",
   "metadata": {},
   "outputs": [
    {
     "data": {
      "text/html": [
       "<div>\n",
       "<style scoped>\n",
       "    .dataframe tbody tr th:only-of-type {\n",
       "        vertical-align: middle;\n",
       "    }\n",
       "\n",
       "    .dataframe tbody tr th {\n",
       "        vertical-align: top;\n",
       "    }\n",
       "\n",
       "    .dataframe thead th {\n",
       "        text-align: right;\n",
       "    }\n",
       "</style>\n",
       "<table border=\"1\" class=\"dataframe\">\n",
       "  <thead>\n",
       "    <tr style=\"text-align: right;\">\n",
       "      <th></th>\n",
       "      <th>resultados_logistic_regression</th>\n",
       "    </tr>\n",
       "  </thead>\n",
       "  <tbody>\n",
       "    <tr>\n",
       "      <th>count</th>\n",
       "      <td>5.000000e+00</td>\n",
       "    </tr>\n",
       "    <tr>\n",
       "      <th>mean</th>\n",
       "      <td>9.517725e-01</td>\n",
       "    </tr>\n",
       "    <tr>\n",
       "      <th>std</th>\n",
       "      <td>7.700000e-09</td>\n",
       "    </tr>\n",
       "    <tr>\n",
       "      <th>min</th>\n",
       "      <td>9.517725e-01</td>\n",
       "    </tr>\n",
       "    <tr>\n",
       "      <th>25%</th>\n",
       "      <td>9.517725e-01</td>\n",
       "    </tr>\n",
       "    <tr>\n",
       "      <th>50%</th>\n",
       "      <td>9.517725e-01</td>\n",
       "    </tr>\n",
       "    <tr>\n",
       "      <th>75%</th>\n",
       "      <td>9.517725e-01</td>\n",
       "    </tr>\n",
       "    <tr>\n",
       "      <th>max</th>\n",
       "      <td>9.517725e-01</td>\n",
       "    </tr>\n",
       "  </tbody>\n",
       "</table>\n",
       "</div>"
      ],
      "text/plain": [
       "       resultados_logistic_regression\n",
       "count                    5.000000e+00\n",
       "mean                     9.517725e-01\n",
       "std                      7.700000e-09\n",
       "min                      9.517725e-01\n",
       "25%                      9.517725e-01\n",
       "50%                      9.517725e-01\n",
       "75%                      9.517725e-01\n",
       "max                      9.517725e-01"
      ]
     },
     "execution_count": 81,
     "metadata": {},
     "output_type": "execute_result"
    }
   ],
   "source": [
    "# KFold + cross-validation score\n",
    "resultados_logistic_regression_clf = []\n",
    "for i in range (5):\n",
    "    kfold = KFold(n_splits=10, shuffle=True, random_state=i)\n",
    "    score = cross_val_score(clf, X, y, cv = kfold)\n",
    "    resultados_logistic_regression_clf.append(score.mean())\n",
    "\n",
    "df_resultados_logistic_regression = pd.DataFrame(resultados_logistic_regression_clf,columns=['resultados_logistic_regression'])\n",
    "df_resultados_logistic_regression.describe()"
   ]
  },
  {
   "cell_type": "markdown",
   "id": "12875b65",
   "metadata": {},
   "source": [
    "## 5.3 - Resultado"
   ]
  },
  {
   "cell_type": "code",
   "execution_count": 106,
   "id": "0350c458",
   "metadata": {},
   "outputs": [
    {
     "name": "stdout",
     "output_type": "stream",
     "text": [
      "       resultados_knn  resultados_sgd_classifier  \\\n",
      "count        5.000000               5.000000e+00   \n",
      "mean         0.950738               9.517725e-01   \n",
      "std          0.000090               7.700000e-09   \n",
      "min          0.950622               9.517725e-01   \n",
      "25%          0.950705               9.517725e-01   \n",
      "50%          0.950740               9.517725e-01   \n",
      "75%          0.950752               9.517725e-01   \n",
      "max          0.950871               9.517725e-01   \n",
      "\n",
      "       resultados_logistic_regression  resultados_random_forest_classifier  \\\n",
      "count                    5.000000e+00                             5.000000   \n",
      "mean                     9.517725e-01                             0.951337   \n",
      "std                      7.700000e-09                             0.000045   \n",
      "min                      9.517725e-01                             0.951280   \n",
      "25%                      9.517725e-01                             0.951304   \n",
      "50%                      9.517725e-01                             0.951345   \n",
      "75%                      9.517725e-01                             0.951363   \n",
      "max                      9.517725e-01                             0.951393   \n",
      "\n",
      "       resultados_decision_tree_regressor  \n",
      "count                            5.000000  \n",
      "mean                            -0.573700  \n",
      "std                              0.017189  \n",
      "min                             -0.591102  \n",
      "25%                             -0.581496  \n",
      "50%                             -0.576059  \n",
      "75%                             -0.574638  \n",
      "max                             -0.545207  \n"
     ]
    }
   ],
   "source": [
    "# Criar uma lista com os DataFrames a serem concatenados\n",
    "dataframes = [df_resultados_knn_clf,\n",
    "              df_resultados_sgd_classifier,\n",
    "              df_resultados_logistic_regression,\n",
    "              df_resultados_random_forest_classifier,\n",
    "              df_resultados_decision_tree_regressor]\n",
    "\n",
    "# Concatenar os DataFrames ao longo do eixo das colunas (axis=1)\n",
    "resultados = pd.concat(dataframes, axis=1)\n",
    "\n",
    "# Exibir o resultado\n",
    "print(resultados.describe())"
   ]
  },
  {
   "cell_type": "markdown",
   "id": "dd90a7b0",
   "metadata": {},
   "source": [
    "## 5.4 - Aplicando as obras o melhor algoritmo"
   ]
  },
  {
   "cell_type": "code",
   "execution_count": 109,
   "id": "ae49319b",
   "metadata": {},
   "outputs": [],
   "source": [
    "# Selecionando y_obra e X_obra\n",
    "y_obra = acidente_obra['num_acidente']\n",
    "X_obra = acidente_obra[['mes', 'ano', 'br', 'uf', 'km_inicial', 'km_final', 'extensao']]"
   ]
  },
  {
   "cell_type": "code",
   "execution_count": 110,
   "id": "7427cd28",
   "metadata": {},
   "outputs": [],
   "source": [
    "# OneHotEncoder\n",
    "# Codificar as colunas \"UF\" usando OneHotEncoder\n",
    "enc = OneHotEncoder(sparse=False, handle_unknown='ignore')\n",
    "X_obra_enc = enc.fit_transform(X_obra[['uf']])\n",
    "\n",
    "# Obter as categorias codificadas\n",
    "uf_categories = enc.categories_[0]\n",
    "\n",
    "# Criar dataframes para as colunas codificadas\n",
    "uf_encoded = pd.DataFrame(X_obra_enc[:, :len(uf_categories)], index=X_obra.index, columns=[f'uf_{category}' for category in uf_categories])\n",
    "\n",
    "# Combinar as colunas codificadas com as outras variáveis independentes\n",
    "X_obra = pd.concat([X_obra.drop(columns=['uf']), uf_encoded], axis=1)"
   ]
  },
  {
   "cell_type": "code",
   "execution_count": 111,
   "id": "ed36c492",
   "metadata": {},
   "outputs": [],
   "source": [
    "# StandardScaler\n",
    "scaler = StandardScaler()\n",
    "X_obra = scaler.fit_transform(X_obra)"
   ]
  },
  {
   "cell_type": "code",
   "execution_count": 112,
   "id": "e5dd6cd2",
   "metadata": {},
   "outputs": [
    {
     "name": "stdout",
     "output_type": "stream",
     "text": [
      "Acurácia: 76.56%\n",
      "Precisão: 58.61%\n",
      "Recall: 76.56%\n",
      "F1 Score: 66.40%\n"
     ]
    }
   ],
   "source": [
    "# Fazer previsões com o conjunto de teste\n",
    "y_obra_pred = clf.predict(X_obra)\n",
    "\n",
    "# Avaliar o desempenho do modelo\n",
    "print(\"Acurácia: {:.2f}%\".format(accuracy_score(y_obra, y_obra_pred)*100))\n",
    "print(\"Precisão: {:.2f}%\".format(precision_score(y_obra, y_obra_pred, average='weighted')*100))\n",
    "print(\"Recall: {:.2f}%\".format(recall_score(y_obra, y_obra_pred, average='weighted')*100))\n",
    "print(\"F1 Score: {:.2f}%\".format(f1_score(y_obra, y_obra_pred, average='weighted')*100))"
   ]
  },
  {
   "cell_type": "code",
   "execution_count": 113,
   "id": "50e994e5",
   "metadata": {},
   "outputs": [
    {
     "data": {
      "image/png": "[encoded data removed]",
      "text/plain": [
       "<Figure size 400x300 with 2 Axes>"
      ]
     },
     "metadata": {},
     "output_type": "display_data"
    }
   ],
   "source": [
    "# Calcular a matriz de confusão\n",
    "cm = confusion_matrix(y_obra, y_obra_pred)\n",
    "\n",
    "# Criar um gráfico de matriz de confusão\n",
    "plt.figure(figsize=(4, 3))\n",
    "sns.heatmap(cm, annot=True, cmap='Blues', fmt='g')\n",
    "plt.xlabel('Predito')\n",
    "plt.ylabel('Real')\n",
    "plt.title('Matriz de Confusão')\n",
    "plt.show()"
   ]
  },
  {
   "cell_type": "code",
   "execution_count": 101,
   "id": "f2ad90c1",
   "metadata": {},
   "outputs": [
    {
     "name": "stdout",
     "output_type": "stream",
     "text": [
      "      obra    mes_ano  uf   br  km_inicial  km_final  extensao  num_acidente  \\\n",
      "0     G002 2015-07-01  MG  267        62.0      98.7      36.7           0.0   \n",
      "1     G002 2015-08-01  MG  267        62.0      98.7      36.7           1.0   \n",
      "2     G002 2015-09-01  MG  267        62.0      98.7      36.7           0.0   \n",
      "3     G002 2015-10-01  MG  267        62.0      98.7      36.7           0.0   \n",
      "4     G002 2015-11-01  MG  267        62.0      98.7      36.7           0.0   \n",
      "...    ...        ...  ..  ...         ...       ...       ...           ...   \n",
      "2687  Z205 2021-03-01  MG  381       149.0     264.7     115.7           0.0   \n",
      "2688  Z207 2020-11-01  MG  364       187.5     278.2      90.7           0.0   \n",
      "2689  Z207 2020-12-01  MG  364       187.5     278.2      90.7           0.0   \n",
      "2690  Z208 2020-11-01  MG  116       374.1     469.8      95.7           0.0   \n",
      "2691  Z208 2020-12-01  MG  116       374.1     469.8      95.7           1.0   \n",
      "\n",
      "      mes   ano  num_acidente_pred  \n",
      "0       7  2015                0.0  \n",
      "1       8  2015                0.0  \n",
      "2       9  2015                0.0  \n",
      "3      10  2015                0.0  \n",
      "4      11  2015                0.0  \n",
      "...   ...   ...                ...  \n",
      "2687    3  2021                0.0  \n",
      "2688   11  2020                0.0  \n",
      "2689   12  2020                0.0  \n",
      "2690   11  2020                0.0  \n",
      "2691   12  2020                0.0  \n",
      "\n",
      "[2692 rows x 11 columns]\n"
     ]
    }
   ],
   "source": [
    "# Adicionar a coluna com as previsões na tabela\n",
    "acidente_obra['num_acidente_pred'] = y_obra_pred\n",
    "\n",
    "# Visualizar a tabela com as previsões\n",
    "print(acidente_obra)"
   ]
  },
  {
   "cell_type": "code",
   "execution_count": 102,
   "id": "0f219e23",
   "metadata": {},
   "outputs": [],
   "source": [
    "# Salvar o resultado em um novo arquivo CSV\n",
    "acidente_obra.to_csv('acidente_obra.csv', index=False, sep=';', decimal=',', encoding = 'cp1252')"
   ]
  },
  {
   "cell_type": "code",
   "execution_count": 103,
   "id": "8ca6c3f1",
   "metadata": {},
   "outputs": [
    {
     "data": {
      "text/html": [
       "<div>\n",
       "<style scoped>\n",
       "    .dataframe tbody tr th:only-of-type {\n",
       "        vertical-align: middle;\n",
       "    }\n",
       "\n",
       "    .dataframe tbody tr th {\n",
       "        vertical-align: top;\n",
       "    }\n",
       "\n",
       "    .dataframe thead th {\n",
       "        text-align: right;\n",
       "    }\n",
       "</style>\n",
       "<table border=\"1\" class=\"dataframe\">\n",
       "  <thead>\n",
       "    <tr style=\"text-align: right;\">\n",
       "      <th></th>\n",
       "      <th>br</th>\n",
       "      <th>km_inicial</th>\n",
       "      <th>km_final</th>\n",
       "      <th>extensao</th>\n",
       "      <th>num_acidente</th>\n",
       "      <th>mes</th>\n",
       "      <th>ano</th>\n",
       "      <th>num_acidente_pred</th>\n",
       "    </tr>\n",
       "  </thead>\n",
       "  <tbody>\n",
       "    <tr>\n",
       "      <th>count</th>\n",
       "      <td>2692.000000</td>\n",
       "      <td>2692.000000</td>\n",
       "      <td>2692.000000</td>\n",
       "      <td>2692.000000</td>\n",
       "      <td>2692.000000</td>\n",
       "      <td>2692.000000</td>\n",
       "      <td>2692.000000</td>\n",
       "      <td>2692.0</td>\n",
       "    </tr>\n",
       "    <tr>\n",
       "      <th>mean</th>\n",
       "      <td>286.961738</td>\n",
       "      <td>250.970468</td>\n",
       "      <td>323.086397</td>\n",
       "      <td>72.115929</td>\n",
       "      <td>0.402303</td>\n",
       "      <td>6.471397</td>\n",
       "      <td>2015.285661</td>\n",
       "      <td>0.0</td>\n",
       "    </tr>\n",
       "    <tr>\n",
       "      <th>std</th>\n",
       "      <td>138.512331</td>\n",
       "      <td>244.883630</td>\n",
       "      <td>251.268563</td>\n",
       "      <td>26.406480</td>\n",
       "      <td>0.913442</td>\n",
       "      <td>3.470682</td>\n",
       "      <td>3.408807</td>\n",
       "      <td>0.0</td>\n",
       "    </tr>\n",
       "    <tr>\n",
       "      <th>min</th>\n",
       "      <td>40.000000</td>\n",
       "      <td>0.000000</td>\n",
       "      <td>4.900000</td>\n",
       "      <td>4.900000</td>\n",
       "      <td>0.000000</td>\n",
       "      <td>1.000000</td>\n",
       "      <td>2007.000000</td>\n",
       "      <td>0.0</td>\n",
       "    </tr>\n",
       "    <tr>\n",
       "      <th>25%</th>\n",
       "      <td>146.000000</td>\n",
       "      <td>62.000000</td>\n",
       "      <td>118.600000</td>\n",
       "      <td>52.000000</td>\n",
       "      <td>0.000000</td>\n",
       "      <td>3.000000</td>\n",
       "      <td>2013.000000</td>\n",
       "      <td>0.0</td>\n",
       "    </tr>\n",
       "    <tr>\n",
       "      <th>50%</th>\n",
       "      <td>364.000000</td>\n",
       "      <td>152.900000</td>\n",
       "      <td>235.700000</td>\n",
       "      <td>73.600000</td>\n",
       "      <td>0.000000</td>\n",
       "      <td>6.000000</td>\n",
       "      <td>2016.000000</td>\n",
       "      <td>0.0</td>\n",
       "    </tr>\n",
       "    <tr>\n",
       "      <th>75%</th>\n",
       "      <td>369.000000</td>\n",
       "      <td>374.100000</td>\n",
       "      <td>471.300000</td>\n",
       "      <td>90.400000</td>\n",
       "      <td>0.000000</td>\n",
       "      <td>9.250000</td>\n",
       "      <td>2018.000000</td>\n",
       "      <td>0.0</td>\n",
       "    </tr>\n",
       "    <tr>\n",
       "      <th>max</th>\n",
       "      <td>494.000000</td>\n",
       "      <td>857.200000</td>\n",
       "      <td>949.800000</td>\n",
       "      <td>118.900000</td>\n",
       "      <td>8.000000</td>\n",
       "      <td>12.000000</td>\n",
       "      <td>2021.000000</td>\n",
       "      <td>0.0</td>\n",
       "    </tr>\n",
       "  </tbody>\n",
       "</table>\n",
       "</div>"
      ],
      "text/plain": [
       "                br   km_inicial     km_final     extensao  num_acidente  \\\n",
       "count  2692.000000  2692.000000  2692.000000  2692.000000   2692.000000   \n",
       "mean    286.961738   250.970468   323.086397    72.115929      0.402303   \n",
       "std     138.512331   244.883630   251.268563    26.406480      0.913442   \n",
       "min      40.000000     0.000000     4.900000     4.900000      0.000000   \n",
       "25%     146.000000    62.000000   118.600000    52.000000      0.000000   \n",
       "50%     364.000000   152.900000   235.700000    73.600000      0.000000   \n",
       "75%     369.000000   374.100000   471.300000    90.400000      0.000000   \n",
       "max     494.000000   857.200000   949.800000   118.900000      8.000000   \n",
       "\n",
       "               mes          ano  num_acidente_pred  \n",
       "count  2692.000000  2692.000000             2692.0  \n",
       "mean      6.471397  2015.285661                0.0  \n",
       "std       3.470682     3.408807                0.0  \n",
       "min       1.000000  2007.000000                0.0  \n",
       "25%       3.000000  2013.000000                0.0  \n",
       "50%       6.000000  2016.000000                0.0  \n",
       "75%       9.250000  2018.000000                0.0  \n",
       "max      12.000000  2021.000000                0.0  "
      ]
     },
     "execution_count": 103,
     "metadata": {},
     "output_type": "execute_result"
    }
   ],
   "source": [
    "acidente_obra.describe()"
   ]
  },
  {
   "cell_type": "code",
   "execution_count": null,
   "id": "bc28cd12",
   "metadata": {},
   "outputs": [],
   "source": []
  }
 ],
 "metadata": {
  "kernelspec": {
   "display_name": "Python 3 (ipykernel)",
   "language": "python",
   "name": "python3"
  },
  "language_info": {
   "codemirror_mode": {
    "name": "ipython",
    "version": 3
   },
   "file_extension": ".py",
   "mimetype": "text/x-python",
   "name": "python",
   "nbconvert_exporter": "python",
   "pygments_lexer": "ipython3",
   "version": "3.9.13"
  }
 },
 "nbformat": 4,
 "nbformat_minor": 5
}
